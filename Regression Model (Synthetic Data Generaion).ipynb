{
 "cells": [
  {
   "cell_type": "markdown",
   "id": "845fc80d",
   "metadata": {
    "papermill": {
     "duration": 0.006256,
     "end_time": "2025-02-15T00:16:09.641388",
     "exception": false,
     "start_time": "2025-02-15T00:16:09.635132",
     "status": "completed"
    },
    "tags": []
   },
   "source": [
    "# **Libraries**"
   ]
  },
  {
   "cell_type": "code",
   "execution_count": 1,
   "id": "8ad62bc6",
   "metadata": {
    "execution": {
     "iopub.execute_input": "2025-02-15T00:16:09.653543Z",
     "iopub.status.busy": "2025-02-15T00:16:09.653153Z",
     "iopub.status.idle": "2025-02-15T00:16:16.074754Z",
     "shell.execute_reply": "2025-02-15T00:16:16.073870Z"
    },
    "papermill": {
     "duration": 6.429431,
     "end_time": "2025-02-15T00:16:16.076400",
     "exception": false,
     "start_time": "2025-02-15T00:16:09.646969",
     "status": "completed"
    },
    "scrolled": true,
    "tags": []
   },
   "outputs": [
    {
     "name": "stdout",
     "output_type": "stream",
     "text": [
      "Requirement already satisfied: timm in /usr/local/lib/python3.10/dist-packages (1.0.12)\r\n",
      "Requirement already satisfied: torch in /usr/local/lib/python3.10/dist-packages (from timm) (2.5.1+cu121)\r\n",
      "Requirement already satisfied: torchvision in /usr/local/lib/python3.10/dist-packages (from timm) (0.20.1+cu121)\r\n",
      "Requirement already satisfied: pyyaml in /usr/local/lib/python3.10/dist-packages (from timm) (6.0.2)\r\n",
      "Requirement already satisfied: huggingface_hub in /usr/local/lib/python3.10/dist-packages (from timm) (0.28.1)\r\n",
      "Requirement already satisfied: safetensors in /usr/local/lib/python3.10/dist-packages (from timm) (0.4.5)\r\n",
      "Requirement already satisfied: filelock in /usr/local/lib/python3.10/dist-packages (from huggingface_hub->timm) (3.17.0)\r\n",
      "Requirement already satisfied: fsspec>=2023.5.0 in /usr/local/lib/python3.10/dist-packages (from huggingface_hub->timm) (2024.9.0)\r\n",
      "Requirement already satisfied: packaging>=20.9 in /usr/local/lib/python3.10/dist-packages (from huggingface_hub->timm) (24.2)\r\n",
      "Requirement already satisfied: requests in /usr/local/lib/python3.10/dist-packages (from huggingface_hub->timm) (2.32.3)\r\n",
      "Requirement already satisfied: tqdm>=4.42.1 in /usr/local/lib/python3.10/dist-packages (from huggingface_hub->timm) (4.67.1)\r\n",
      "Requirement already satisfied: typing-extensions>=3.7.4.3 in /usr/local/lib/python3.10/dist-packages (from huggingface_hub->timm) (4.12.2)\r\n",
      "Requirement already satisfied: networkx in /usr/local/lib/python3.10/dist-packages (from torch->timm) (3.4.2)\r\n",
      "Requirement already satisfied: jinja2 in /usr/local/lib/python3.10/dist-packages (from torch->timm) (3.1.4)\r\n",
      "Requirement already satisfied: sympy==1.13.1 in /usr/local/lib/python3.10/dist-packages (from torch->timm) (1.13.1)\r\n",
      "Requirement already satisfied: mpmath<1.4,>=1.1.0 in /usr/local/lib/python3.10/dist-packages (from sympy==1.13.1->torch->timm) (1.3.0)\r\n",
      "Requirement already satisfied: numpy in /usr/local/lib/python3.10/dist-packages (from torchvision->timm) (1.26.4)\r\n",
      "Requirement already satisfied: pillow!=8.3.*,>=5.3.0 in /usr/local/lib/python3.10/dist-packages (from torchvision->timm) (11.0.0)\r\n",
      "Requirement already satisfied: MarkupSafe>=2.0 in /usr/local/lib/python3.10/dist-packages (from jinja2->torch->timm) (3.0.2)\r\n",
      "Requirement already satisfied: mkl_fft in /usr/local/lib/python3.10/dist-packages (from numpy->torchvision->timm) (1.3.8)\r\n",
      "Requirement already satisfied: mkl_random in /usr/local/lib/python3.10/dist-packages (from numpy->torchvision->timm) (1.2.4)\r\n",
      "Requirement already satisfied: mkl_umath in /usr/local/lib/python3.10/dist-packages (from numpy->torchvision->timm) (0.1.1)\r\n",
      "Requirement already satisfied: mkl in /usr/local/lib/python3.10/dist-packages (from numpy->torchvision->timm) (2025.0.1)\r\n",
      "Requirement already satisfied: tbb4py in /usr/local/lib/python3.10/dist-packages (from numpy->torchvision->timm) (2022.0.0)\r\n",
      "Requirement already satisfied: mkl-service in /usr/local/lib/python3.10/dist-packages (from numpy->torchvision->timm) (2.4.1)\r\n",
      "Requirement already satisfied: charset-normalizer<4,>=2 in /usr/local/lib/python3.10/dist-packages (from requests->huggingface_hub->timm) (3.4.1)\r\n",
      "Requirement already satisfied: idna<4,>=2.5 in /usr/local/lib/python3.10/dist-packages (from requests->huggingface_hub->timm) (3.10)\r\n",
      "Requirement already satisfied: urllib3<3,>=1.21.1 in /usr/local/lib/python3.10/dist-packages (from requests->huggingface_hub->timm) (2.3.0)\r\n",
      "Requirement already satisfied: certifi>=2017.4.17 in /usr/local/lib/python3.10/dist-packages (from requests->huggingface_hub->timm) (2025.1.31)\r\n",
      "Requirement already satisfied: intel-openmp>=2024 in /usr/local/lib/python3.10/dist-packages (from mkl->numpy->torchvision->timm) (2024.2.0)\r\n",
      "Requirement already satisfied: tbb==2022.* in /usr/local/lib/python3.10/dist-packages (from mkl->numpy->torchvision->timm) (2022.0.0)\r\n",
      "Requirement already satisfied: tcmlib==1.* in /usr/local/lib/python3.10/dist-packages (from tbb==2022.*->mkl->numpy->torchvision->timm) (1.2.0)\r\n",
      "Requirement already satisfied: intel-cmplr-lib-rt in /usr/local/lib/python3.10/dist-packages (from mkl_umath->numpy->torchvision->timm) (2024.2.0)\r\n",
      "Requirement already satisfied: intel-cmplr-lib-ur==2024.2.0 in /usr/local/lib/python3.10/dist-packages (from intel-openmp>=2024->mkl->numpy->torchvision->timm) (2024.2.0)\r\n"
     ]
    }
   ],
   "source": [
    "!pip install timm"
   ]
  },
  {
   "cell_type": "code",
   "execution_count": 2,
   "id": "bb149f78",
   "metadata": {
    "execution": {
     "iopub.execute_input": "2025-02-15T00:16:16.089621Z",
     "iopub.status.busy": "2025-02-15T00:16:16.089345Z",
     "iopub.status.idle": "2025-02-15T00:16:19.734407Z",
     "shell.execute_reply": "2025-02-15T00:16:19.733298Z"
    },
    "papermill": {
     "duration": 3.653155,
     "end_time": "2025-02-15T00:16:19.736034",
     "exception": false,
     "start_time": "2025-02-15T00:16:16.082879",
     "status": "completed"
    },
    "scrolled": true,
    "tags": []
   },
   "outputs": [
    {
     "name": "stdout",
     "output_type": "stream",
     "text": [
      "Collecting pytorch_tabnet\r\n",
      "  Downloading pytorch_tabnet-4.1.0-py3-none-any.whl.metadata (15 kB)\r\n",
      "Requirement already satisfied: numpy>=1.17 in /usr/local/lib/python3.10/dist-packages (from pytorch_tabnet) (1.26.4)\r\n",
      "Requirement already satisfied: scikit_learn>0.21 in /usr/local/lib/python3.10/dist-packages (from pytorch_tabnet) (1.2.2)\r\n",
      "Requirement already satisfied: scipy>1.4 in /usr/local/lib/python3.10/dist-packages (from pytorch_tabnet) (1.13.1)\r\n",
      "Requirement already satisfied: torch>=1.3 in /usr/local/lib/python3.10/dist-packages (from pytorch_tabnet) (2.5.1+cu121)\r\n",
      "Requirement already satisfied: tqdm>=4.36 in /usr/local/lib/python3.10/dist-packages (from pytorch_tabnet) (4.67.1)\r\n",
      "Requirement already satisfied: mkl_fft in /usr/local/lib/python3.10/dist-packages (from numpy>=1.17->pytorch_tabnet) (1.3.8)\r\n",
      "Requirement already satisfied: mkl_random in /usr/local/lib/python3.10/dist-packages (from numpy>=1.17->pytorch_tabnet) (1.2.4)\r\n",
      "Requirement already satisfied: mkl_umath in /usr/local/lib/python3.10/dist-packages (from numpy>=1.17->pytorch_tabnet) (0.1.1)\r\n",
      "Requirement already satisfied: mkl in /usr/local/lib/python3.10/dist-packages (from numpy>=1.17->pytorch_tabnet) (2025.0.1)\r\n",
      "Requirement already satisfied: tbb4py in /usr/local/lib/python3.10/dist-packages (from numpy>=1.17->pytorch_tabnet) (2022.0.0)\r\n",
      "Requirement already satisfied: mkl-service in /usr/local/lib/python3.10/dist-packages (from numpy>=1.17->pytorch_tabnet) (2.4.1)\r\n",
      "Requirement already satisfied: joblib>=1.1.1 in /usr/local/lib/python3.10/dist-packages (from scikit_learn>0.21->pytorch_tabnet) (1.4.2)\r\n",
      "Requirement already satisfied: threadpoolctl>=2.0.0 in /usr/local/lib/python3.10/dist-packages (from scikit_learn>0.21->pytorch_tabnet) (3.5.0)\r\n",
      "Requirement already satisfied: filelock in /usr/local/lib/python3.10/dist-packages (from torch>=1.3->pytorch_tabnet) (3.17.0)\r\n",
      "Requirement already satisfied: typing-extensions>=4.8.0 in /usr/local/lib/python3.10/dist-packages (from torch>=1.3->pytorch_tabnet) (4.12.2)\r\n",
      "Requirement already satisfied: networkx in /usr/local/lib/python3.10/dist-packages (from torch>=1.3->pytorch_tabnet) (3.4.2)\r\n",
      "Requirement already satisfied: jinja2 in /usr/local/lib/python3.10/dist-packages (from torch>=1.3->pytorch_tabnet) (3.1.4)\r\n",
      "Requirement already satisfied: fsspec in /usr/local/lib/python3.10/dist-packages (from torch>=1.3->pytorch_tabnet) (2024.9.0)\r\n",
      "Requirement already satisfied: sympy==1.13.1 in /usr/local/lib/python3.10/dist-packages (from torch>=1.3->pytorch_tabnet) (1.13.1)\r\n",
      "Requirement already satisfied: mpmath<1.4,>=1.1.0 in /usr/local/lib/python3.10/dist-packages (from sympy==1.13.1->torch>=1.3->pytorch_tabnet) (1.3.0)\r\n",
      "Requirement already satisfied: MarkupSafe>=2.0 in /usr/local/lib/python3.10/dist-packages (from jinja2->torch>=1.3->pytorch_tabnet) (3.0.2)\r\n",
      "Requirement already satisfied: intel-openmp>=2024 in /usr/local/lib/python3.10/dist-packages (from mkl->numpy>=1.17->pytorch_tabnet) (2024.2.0)\r\n",
      "Requirement already satisfied: tbb==2022.* in /usr/local/lib/python3.10/dist-packages (from mkl->numpy>=1.17->pytorch_tabnet) (2022.0.0)\r\n",
      "Requirement already satisfied: tcmlib==1.* in /usr/local/lib/python3.10/dist-packages (from tbb==2022.*->mkl->numpy>=1.17->pytorch_tabnet) (1.2.0)\r\n",
      "Requirement already satisfied: intel-cmplr-lib-rt in /usr/local/lib/python3.10/dist-packages (from mkl_umath->numpy>=1.17->pytorch_tabnet) (2024.2.0)\r\n",
      "Requirement already satisfied: intel-cmplr-lib-ur==2024.2.0 in /usr/local/lib/python3.10/dist-packages (from intel-openmp>=2024->mkl->numpy>=1.17->pytorch_tabnet) (2024.2.0)\r\n",
      "Downloading pytorch_tabnet-4.1.0-py3-none-any.whl (44 kB)\r\n",
      "\u001b[2K   \u001b[90m━━━━━━━━━━━━━━━━━━━━━━━━━━━━━━━━━━━━━━━━\u001b[0m \u001b[32m44.5/44.5 kB\u001b[0m \u001b[31m1.5 MB/s\u001b[0m eta \u001b[36m0:00:00\u001b[0m\r\n",
      "\u001b[?25hInstalling collected packages: pytorch_tabnet\r\n",
      "Successfully installed pytorch_tabnet-4.1.0\r\n"
     ]
    }
   ],
   "source": [
    "!pip install pytorch_tabnet"
   ]
  },
  {
   "cell_type": "code",
   "execution_count": 3,
   "id": "e94817a5",
   "metadata": {
    "execution": {
     "iopub.execute_input": "2025-02-15T00:16:19.749856Z",
     "iopub.status.busy": "2025-02-15T00:16:19.749551Z",
     "iopub.status.idle": "2025-02-15T00:16:23.494741Z",
     "shell.execute_reply": "2025-02-15T00:16:23.493764Z"
    },
    "papermill": {
     "duration": 3.753912,
     "end_time": "2025-02-15T00:16:23.496361",
     "exception": false,
     "start_time": "2025-02-15T00:16:19.742449",
     "status": "completed"
    },
    "tags": []
   },
   "outputs": [
    {
     "name": "stdout",
     "output_type": "stream",
     "text": [
      "Collecting evaluate\r\n",
      "  Downloading evaluate-0.4.3-py3-none-any.whl.metadata (9.2 kB)\r\n",
      "Requirement already satisfied: datasets>=2.0.0 in /usr/local/lib/python3.10/dist-packages (from evaluate) (3.2.0)\r\n",
      "Requirement already satisfied: numpy>=1.17 in /usr/local/lib/python3.10/dist-packages (from evaluate) (1.26.4)\r\n",
      "Requirement already satisfied: dill in /usr/local/lib/python3.10/dist-packages (from evaluate) (0.3.8)\r\n",
      "Requirement already satisfied: pandas in /usr/local/lib/python3.10/dist-packages (from evaluate) (2.2.3)\r\n",
      "Requirement already satisfied: requests>=2.19.0 in /usr/local/lib/python3.10/dist-packages (from evaluate) (2.32.3)\r\n",
      "Requirement already satisfied: tqdm>=4.62.1 in /usr/local/lib/python3.10/dist-packages (from evaluate) (4.67.1)\r\n",
      "Requirement already satisfied: xxhash in /usr/local/lib/python3.10/dist-packages (from evaluate) (3.5.0)\r\n",
      "Requirement already satisfied: multiprocess in /usr/local/lib/python3.10/dist-packages (from evaluate) (0.70.16)\r\n",
      "Requirement already satisfied: fsspec>=2021.05.0 in /usr/local/lib/python3.10/dist-packages (from fsspec[http]>=2021.05.0->evaluate) (2024.9.0)\r\n",
      "Requirement already satisfied: huggingface-hub>=0.7.0 in /usr/local/lib/python3.10/dist-packages (from evaluate) (0.28.1)\r\n",
      "Requirement already satisfied: packaging in /usr/local/lib/python3.10/dist-packages (from evaluate) (24.2)\r\n",
      "Requirement already satisfied: filelock in /usr/local/lib/python3.10/dist-packages (from datasets>=2.0.0->evaluate) (3.17.0)\r\n",
      "Requirement already satisfied: pyarrow>=15.0.0 in /usr/local/lib/python3.10/dist-packages (from datasets>=2.0.0->evaluate) (19.0.0)\r\n",
      "Requirement already satisfied: aiohttp in /usr/local/lib/python3.10/dist-packages (from datasets>=2.0.0->evaluate) (3.11.11)\r\n",
      "Requirement already satisfied: pyyaml>=5.1 in /usr/local/lib/python3.10/dist-packages (from datasets>=2.0.0->evaluate) (6.0.2)\r\n",
      "Requirement already satisfied: typing-extensions>=3.7.4.3 in /usr/local/lib/python3.10/dist-packages (from huggingface-hub>=0.7.0->evaluate) (4.12.2)\r\n",
      "Requirement already satisfied: mkl_fft in /usr/local/lib/python3.10/dist-packages (from numpy>=1.17->evaluate) (1.3.8)\r\n",
      "Requirement already satisfied: mkl_random in /usr/local/lib/python3.10/dist-packages (from numpy>=1.17->evaluate) (1.2.4)\r\n",
      "Requirement already satisfied: mkl_umath in /usr/local/lib/python3.10/dist-packages (from numpy>=1.17->evaluate) (0.1.1)\r\n",
      "Requirement already satisfied: mkl in /usr/local/lib/python3.10/dist-packages (from numpy>=1.17->evaluate) (2025.0.1)\r\n",
      "Requirement already satisfied: tbb4py in /usr/local/lib/python3.10/dist-packages (from numpy>=1.17->evaluate) (2022.0.0)\r\n",
      "Requirement already satisfied: mkl-service in /usr/local/lib/python3.10/dist-packages (from numpy>=1.17->evaluate) (2.4.1)\r\n",
      "Requirement already satisfied: charset-normalizer<4,>=2 in /usr/local/lib/python3.10/dist-packages (from requests>=2.19.0->evaluate) (3.4.1)\r\n",
      "Requirement already satisfied: idna<4,>=2.5 in /usr/local/lib/python3.10/dist-packages (from requests>=2.19.0->evaluate) (3.10)\r\n",
      "Requirement already satisfied: urllib3<3,>=1.21.1 in /usr/local/lib/python3.10/dist-packages (from requests>=2.19.0->evaluate) (2.3.0)\r\n",
      "Requirement already satisfied: certifi>=2017.4.17 in /usr/local/lib/python3.10/dist-packages (from requests>=2.19.0->evaluate) (2025.1.31)\r\n",
      "Requirement already satisfied: python-dateutil>=2.8.2 in /usr/local/lib/python3.10/dist-packages (from pandas->evaluate) (2.9.0.post0)\r\n",
      "Requirement already satisfied: pytz>=2020.1 in /usr/local/lib/python3.10/dist-packages (from pandas->evaluate) (2025.1)\r\n",
      "Requirement already satisfied: tzdata>=2022.7 in /usr/local/lib/python3.10/dist-packages (from pandas->evaluate) (2025.1)\r\n",
      "Requirement already satisfied: aiohappyeyeballs>=2.3.0 in /usr/local/lib/python3.10/dist-packages (from aiohttp->datasets>=2.0.0->evaluate) (2.4.4)\r\n",
      "Requirement already satisfied: aiosignal>=1.1.2 in /usr/local/lib/python3.10/dist-packages (from aiohttp->datasets>=2.0.0->evaluate) (1.3.2)\r\n",
      "Requirement already satisfied: async-timeout<6.0,>=4.0 in /usr/local/lib/python3.10/dist-packages (from aiohttp->datasets>=2.0.0->evaluate) (5.0.1)\r\n",
      "Requirement already satisfied: attrs>=17.3.0 in /usr/local/lib/python3.10/dist-packages (from aiohttp->datasets>=2.0.0->evaluate) (25.1.0)\r\n",
      "Requirement already satisfied: frozenlist>=1.1.1 in /usr/local/lib/python3.10/dist-packages (from aiohttp->datasets>=2.0.0->evaluate) (1.5.0)\r\n",
      "Requirement already satisfied: multidict<7.0,>=4.5 in /usr/local/lib/python3.10/dist-packages (from aiohttp->datasets>=2.0.0->evaluate) (6.1.0)\r\n",
      "Requirement already satisfied: propcache>=0.2.0 in /usr/local/lib/python3.10/dist-packages (from aiohttp->datasets>=2.0.0->evaluate) (0.2.1)\r\n",
      "Requirement already satisfied: yarl<2.0,>=1.17.0 in /usr/local/lib/python3.10/dist-packages (from aiohttp->datasets>=2.0.0->evaluate) (1.18.3)\r\n",
      "Requirement already satisfied: six>=1.5 in /usr/local/lib/python3.10/dist-packages (from python-dateutil>=2.8.2->pandas->evaluate) (1.17.0)\r\n",
      "Requirement already satisfied: intel-openmp>=2024 in /usr/local/lib/python3.10/dist-packages (from mkl->numpy>=1.17->evaluate) (2024.2.0)\r\n",
      "Requirement already satisfied: tbb==2022.* in /usr/local/lib/python3.10/dist-packages (from mkl->numpy>=1.17->evaluate) (2022.0.0)\r\n",
      "Requirement already satisfied: tcmlib==1.* in /usr/local/lib/python3.10/dist-packages (from tbb==2022.*->mkl->numpy>=1.17->evaluate) (1.2.0)\r\n",
      "Requirement already satisfied: intel-cmplr-lib-rt in /usr/local/lib/python3.10/dist-packages (from mkl_umath->numpy>=1.17->evaluate) (2024.2.0)\r\n",
      "Requirement already satisfied: intel-cmplr-lib-ur==2024.2.0 in /usr/local/lib/python3.10/dist-packages (from intel-openmp>=2024->mkl->numpy>=1.17->evaluate) (2024.2.0)\r\n",
      "Downloading evaluate-0.4.3-py3-none-any.whl (84 kB)\r\n",
      "\u001b[2K   \u001b[90m━━━━━━━━━━━━━━━━━━━━━━━━━━━━━━━━━━━━━━━━\u001b[0m \u001b[32m84.0/84.0 kB\u001b[0m \u001b[31m1.8 MB/s\u001b[0m eta \u001b[36m0:00:00\u001b[0m\r\n",
      "\u001b[?25hInstalling collected packages: evaluate\r\n",
      "Successfully installed evaluate-0.4.3\r\n"
     ]
    }
   ],
   "source": [
    "!pip install evaluate"
   ]
  },
  {
   "cell_type": "code",
   "execution_count": 4,
   "id": "a0ef3000",
   "metadata": {
    "_cell_guid": "b1076dfc-b9ad-4769-8c92-a6c4dae69d19",
    "_uuid": "8f2839f25d086af736a60e9eeb907d3b93b6e0e5",
    "execution": {
     "iopub.execute_input": "2025-02-15T00:16:23.511146Z",
     "iopub.status.busy": "2025-02-15T00:16:23.510873Z",
     "iopub.status.idle": "2025-02-15T00:16:44.754452Z",
     "shell.execute_reply": "2025-02-15T00:16:44.753727Z"
    },
    "papermill": {
     "duration": 21.252724,
     "end_time": "2025-02-15T00:16:44.756192",
     "exception": false,
     "start_time": "2025-02-15T00:16:23.503468",
     "status": "completed"
    },
    "tags": []
   },
   "outputs": [],
   "source": [
    "# Data Processing n' Visualization\n",
    "import matplotlib.pyplot as plt\n",
    "import pandas as pd\n",
    "import seaborn as sns\n",
    "\n",
    "# Compute\n",
    "import numpy as np\n",
    "import torch\n",
    "import torch.nn as nn\n",
    "import torch.optim as optim\n",
    "\n",
    "# Data\n",
    "from torch.utils.data import Dataset, DataLoader\n",
    "from sklearn.model_selection import train_test_split\n",
    "\n",
    "# Random\n",
    "import os\n",
    "import random as rand\n",
    "import timm"
   ]
  },
  {
   "cell_type": "code",
   "execution_count": 5,
   "id": "e2ca31a5",
   "metadata": {
    "execution": {
     "iopub.execute_input": "2025-02-15T00:16:44.771234Z",
     "iopub.status.busy": "2025-02-15T00:16:44.770971Z",
     "iopub.status.idle": "2025-02-15T00:16:44.774145Z",
     "shell.execute_reply": "2025-02-15T00:16:44.773515Z"
    },
    "papermill": {
     "duration": 0.011966,
     "end_time": "2025-02-15T00:16:44.775474",
     "exception": false,
     "start_time": "2025-02-15T00:16:44.763508",
     "status": "completed"
    },
    "tags": []
   },
   "outputs": [],
   "source": [
    "torch.cuda.empty_cache()"
   ]
  },
  {
   "cell_type": "code",
   "execution_count": 6,
   "id": "de13c351",
   "metadata": {
    "execution": {
     "iopub.execute_input": "2025-02-15T00:16:44.790633Z",
     "iopub.status.busy": "2025-02-15T00:16:44.790365Z",
     "iopub.status.idle": "2025-02-15T00:16:44.797182Z",
     "shell.execute_reply": "2025-02-15T00:16:44.796340Z"
    },
    "papermill": {
     "duration": 0.01615,
     "end_time": "2025-02-15T00:16:44.798539",
     "exception": false,
     "start_time": "2025-02-15T00:16:44.782389",
     "status": "completed"
    },
    "tags": []
   },
   "outputs": [],
   "source": [
    "def set_seed(seed):\n",
    "  rand.seed(seed)\n",
    "  np.random.seed(seed)\n",
    "  torch.cuda.manual_seed(seed)\n",
    "  torch.cuda.manual_seed_all(seed)\n",
    "  torch.backends.cudnn.deterministic = True\n",
    "  torch.backends.cudnn.benchmark = False\n",
    "\n",
    "seed = 59\n",
    "set_seed(59)"
   ]
  },
  {
   "cell_type": "markdown",
   "id": "830dd2dd",
   "metadata": {
    "papermill": {
     "duration": 0.006899,
     "end_time": "2025-02-15T00:16:44.812956",
     "exception": false,
     "start_time": "2025-02-15T00:16:44.806057",
     "status": "completed"
    },
    "tags": []
   },
   "source": [
    "--------------------\n",
    "# **Data Sample**"
   ]
  },
  {
   "cell_type": "code",
   "execution_count": 7,
   "id": "6f95e367",
   "metadata": {
    "execution": {
     "iopub.execute_input": "2025-02-15T00:16:44.828117Z",
     "iopub.status.busy": "2025-02-15T00:16:44.827805Z",
     "iopub.status.idle": "2025-02-15T00:16:44.831103Z",
     "shell.execute_reply": "2025-02-15T00:16:44.830421Z"
    },
    "papermill": {
     "duration": 0.012449,
     "end_time": "2025-02-15T00:16:44.832411",
     "exception": false,
     "start_time": "2025-02-15T00:16:44.819962",
     "status": "completed"
    },
    "tags": []
   },
   "outputs": [],
   "source": [
    "data_dir = '/kaggle/input/wharton-basketball-dataset/games_2022.xlsx'"
   ]
  },
  {
   "cell_type": "code",
   "execution_count": 8,
   "id": "b34dea7b",
   "metadata": {
    "execution": {
     "iopub.execute_input": "2025-02-15T00:16:44.847400Z",
     "iopub.status.busy": "2025-02-15T00:16:44.847153Z",
     "iopub.status.idle": "2025-02-15T00:16:50.756703Z",
     "shell.execute_reply": "2025-02-15T00:16:50.755642Z"
    },
    "papermill": {
     "duration": 5.918616,
     "end_time": "2025-02-15T00:16:50.758330",
     "exception": false,
     "start_time": "2025-02-15T00:16:44.839714",
     "status": "completed"
    },
    "tags": []
   },
   "outputs": [
    {
     "name": "stdout",
     "output_type": "stream",
     "text": [
      "Dataset Type: <class 'pandas.core.frame.DataFrame'>\n"
     ]
    }
   ],
   "source": [
    "df = pd.read_excel(data_dir)\n",
    "print(f\"Dataset Type: {type(df)}\")"
   ]
  },
  {
   "cell_type": "code",
   "execution_count": 9,
   "id": "8747f447",
   "metadata": {
    "execution": {
     "iopub.execute_input": "2025-02-15T00:16:50.773864Z",
     "iopub.status.busy": "2025-02-15T00:16:50.773322Z",
     "iopub.status.idle": "2025-02-15T00:16:50.777048Z",
     "shell.execute_reply": "2025-02-15T00:16:50.776317Z"
    },
    "papermill": {
     "duration": 0.012914,
     "end_time": "2025-02-15T00:16:50.778312",
     "exception": false,
     "start_time": "2025-02-15T00:16:50.765398",
     "status": "completed"
    },
    "tags": []
   },
   "outputs": [],
   "source": [
    "df_ts = df"
   ]
  },
  {
   "cell_type": "markdown",
   "id": "8cdac787",
   "metadata": {
    "papermill": {
     "duration": 0.00703,
     "end_time": "2025-02-15T00:16:50.792415",
     "exception": false,
     "start_time": "2025-02-15T00:16:50.785385",
     "status": "completed"
    },
    "tags": []
   },
   "source": [
    "----------------------------\n",
    "# **Data Preprocessing**"
   ]
  },
  {
   "cell_type": "code",
   "execution_count": 10,
   "id": "546e143c",
   "metadata": {
    "execution": {
     "iopub.execute_input": "2025-02-15T00:16:50.807070Z",
     "iopub.status.busy": "2025-02-15T00:16:50.806741Z",
     "iopub.status.idle": "2025-02-15T00:16:50.882255Z",
     "shell.execute_reply": "2025-02-15T00:16:50.880957Z"
    },
    "papermill": {
     "duration": 0.084709,
     "end_time": "2025-02-15T00:16:50.883846",
     "exception": false,
     "start_time": "2025-02-15T00:16:50.799137",
     "status": "completed"
    },
    "tags": []
   },
   "outputs": [
    {
     "name": "stdout",
     "output_type": "stream",
     "text": [
      "          game_id  game_date                       team     FGA_2     FGM_2  \\\n",
      "0  game_2022_2011 2021-12-30      georgia_lady_bulldogs  0.661290  0.513514   \n",
      "1  game_2022_2011 2021-12-30                 lsu_tigers  0.661290  0.567568   \n",
      "2  game_2022_2012 2021-12-30            missouri_tigers  0.548387  0.405405   \n",
      "3  game_2022_2012 2021-12-30   south_carolina_gamecocks  0.741935  0.540541   \n",
      "4  game_2022_2013 2021-12-30  tennessee_lady_volunteers  0.516129  0.459459   \n",
      "\n",
      "      FGA_3     FGM_3       FTA    FTM       AST  ...       TOV  TOV_team  \\\n",
      "0  0.196078  0.227273  0.125000  0.075  0.361111  ...  0.390244  0.000000   \n",
      "1  0.196078  0.181818  0.312500  0.200  0.388889  ...  0.292683  0.333333   \n",
      "2  0.274510  0.318182  0.333333  0.325  0.250000  ...  0.146341  0.166667   \n",
      "3  0.392157  0.272727  0.187500  0.125  0.388889  ...  0.146341  0.000000   \n",
      "4  0.274510  0.181818  0.312500  0.250  0.416667  ...  0.317073  0.166667   \n",
      "\n",
      "       DREB     OREB  F_tech  F_personal  rest_days  prev_game_dist  \\\n",
      "0  0.410256  0.34375     0.0    0.451613   0.210526        0.000000   \n",
      "1  0.410256  0.34375     0.0    0.096774   0.052632        0.105722   \n",
      "2  0.564103  0.18750     0.0    0.225806   0.184211        0.047601   \n",
      "3  0.461538  0.62500     0.0    0.354839   0.210526        0.148063   \n",
      "4  0.641026  0.37500     0.0    0.290323   0.052632        0.000000   \n",
      "\n",
      "   home_away_NS  travel_dist  \n",
      "0             1     0.000000  \n",
      "1             0     0.121105  \n",
      "2             1     0.000000  \n",
      "3             0     0.169606  \n",
      "4             1     0.000000  \n",
      "\n",
      "[5 rows x 22 columns]\n"
     ]
    }
   ],
   "source": [
    "df_ts = df_ts.drop(columns = ['OT_length_min_tot', 'attendance', 'tz_dif_H_E', 'opponent_team_score', \n",
    "                        'team_score', 'home_away', 'notD1_incomplete', 'largest_lead'])\n",
    "df_ts = df_ts.dropna()\n",
    "df_ts['home_away_NS'] = df_ts['home_away_NS'].replace({\n",
    "    1: 1, -1: 0, 0: 2\n",
    "})\n",
    "\n",
    "from sklearn.preprocessing import MinMaxScaler\n",
    "\n",
    "# List of columns to normalize\n",
    "stats_to_normalize = ['FGA_2', 'FGM_2', 'FGA_3', 'FGM_3', \n",
    "                      'FTA', 'FTM', 'AST', 'BLK', 'STL', 'TOV', \n",
    "                      'TOV_team', 'DREB', 'OREB', 'F_tech', 'F_personal', \n",
    "                      'rest_days', 'prev_game_dist', 'travel_dist']\n",
    "\n",
    "# Initialize MinMaxScaler\n",
    "scaler = MinMaxScaler(feature_range=(0,1))\n",
    "\n",
    "# Apply MinMaxScaler only to the selected stats\n",
    "df_ts[stats_to_normalize] = scaler.fit_transform(df_ts[stats_to_normalize])\n",
    "\n",
    "print(df_ts.head())  # Check normalized values"
   ]
  },
  {
   "cell_type": "code",
   "execution_count": 11,
   "id": "e2b0c58d",
   "metadata": {
    "execution": {
     "iopub.execute_input": "2025-02-15T00:16:50.899126Z",
     "iopub.status.busy": "2025-02-15T00:16:50.898839Z",
     "iopub.status.idle": "2025-02-15T00:16:56.184512Z",
     "shell.execute_reply": "2025-02-15T00:16:56.183754Z"
    },
    "papermill": {
     "duration": 5.295116,
     "end_time": "2025-02-15T00:16:56.186070",
     "exception": false,
     "start_time": "2025-02-15T00:16:50.890954",
     "status": "completed"
    },
    "scrolled": true,
    "tags": []
   },
   "outputs": [
    {
     "name": "stdout",
     "output_type": "stream",
     "text": [
      "[0.6612903225806451 0.5135135135135136 0.19607843137254904\n",
      " 0.2272727272727273 0.125 0.07500000000000001 0.36111111111111105\n",
      " 0.38888888888888884 0.25925925925925924 0.3902439024390244 0.0\n",
      " 0.41025641025641024 0.34375 0.0 0.4516129032258064 0.05263157894736842\n",
      " 0.06209905055170644 0 0.07113462669018225]\n",
      "Type of combined_stats: <class 'numpy.ndarray'>\n",
      "First Index: 0.6612903225806451\n",
      "-----------------------------------------------------------\n",
      "Label: [0.7580645161290323 0.6216216216216217 0.09803921568627451\n",
      " 0.045454545454545456 0.47916666666666663 0.45 0.25 0.1111111111111111\n",
      " 0.5555555555555556 0.3658536585365854 0.3333333333333333\n",
      " 0.2564102564102564 0.5 0.0 0.3548387096774194]\n",
      "Type of Label: <class 'numpy.ndarray'>\n",
      "First Index: 0.7580645161290323\n"
     ]
    }
   ],
   "source": [
    "Data = {}\n",
    "X = []\n",
    "y = []\n",
    "start_col = 'FGA_2'\n",
    "end_col = 'F_personal'\n",
    "\n",
    "start_col_nx = 'rest_days'\n",
    "end_col_nx = 'travel_dist'\n",
    "# Loop through all Teams in Dataset\n",
    "for i ,team in enumerate(df_ts['team'].unique()):\n",
    "    team_data = df_ts[df_ts['team'] == team]\n",
    "    for idx in range(len(team_data) - 1):\n",
    "        # Features = past game (FGA_2 to F_personal) + current game stats (rest_days to travel_dist)\n",
    "        past_game = team_data.iloc[idx]\n",
    "        next_game = team_data.iloc[idx + 1]\n",
    "        \n",
    "        past_stats = past_game.loc[start_col : end_col].values\n",
    "        next_stats = next_game.loc[start_col_nx:end_col_nx].values\n",
    "\n",
    "        # We predict next game FGA_2 to F_personal\n",
    "        label = next_game.loc[start_col:end_col].values\n",
    "\n",
    "        if idx == 0 and i == 0:\n",
    "            combined_stats_x = np.concatenate((past_stats, next_stats))\n",
    "            print(combined_stats_x)\n",
    "            print(f\"Type of combined_stats: {type(combined_stats_x)}\")\n",
    "            print(f\"First Index: {combined_stats_x[0]}\")\n",
    "            print(\"-\"*59)\n",
    "            print(f\"Label: {label}\")\n",
    "            print(f\"Type of Label: {type(label)}\")\n",
    "            print(f\"First Index: {label[0]}\")\n",
    "\n",
    "        combined_stats = np.concatenate((past_stats, next_stats))\n",
    "        X.append(combined_stats)\n",
    "        y.append(label)"
   ]
  },
  {
   "cell_type": "code",
   "execution_count": 12,
   "id": "7fa37a44",
   "metadata": {
    "execution": {
     "iopub.execute_input": "2025-02-15T00:16:56.202517Z",
     "iopub.status.busy": "2025-02-15T00:16:56.202262Z",
     "iopub.status.idle": "2025-02-15T00:16:56.207923Z",
     "shell.execute_reply": "2025-02-15T00:16:56.207202Z"
    },
    "papermill": {
     "duration": 0.015176,
     "end_time": "2025-02-15T00:16:56.209068",
     "exception": false,
     "start_time": "2025-02-15T00:16:56.193892",
     "status": "completed"
    },
    "scrolled": true,
    "tags": []
   },
   "outputs": [
    {
     "name": "stdout",
     "output_type": "stream",
     "text": [
      "First Features: [0.6612903225806451 0.5135135135135136 0.19607843137254904\n",
      " 0.2272727272727273 0.125 0.07500000000000001 0.36111111111111105\n",
      " 0.38888888888888884 0.25925925925925924 0.3902439024390244 0.0\n",
      " 0.41025641025641024 0.34375 0.0 0.4516129032258064 0.05263157894736842\n",
      " 0.06209905055170644 0 0.07113462669018225]\n",
      "Number of Features: 19\n",
      "-----------------------------------------------------------\n",
      "First Labels: [0.7580645161290323 0.6216216216216217 0.09803921568627451\n",
      " 0.045454545454545456 0.47916666666666663 0.45 0.25 0.1111111111111111\n",
      " 0.5555555555555556 0.3658536585365854 0.3333333333333333\n",
      " 0.2564102564102564 0.5 0.0 0.3548387096774194]\n",
      "Number of Features to Predict: 15\n",
      "Type: (<class 'list'>, <class 'list'>)\n"
     ]
    }
   ],
   "source": [
    "print(f\"First Features: {X[0]}\")\n",
    "print(f\"Number of Features: {len(X[0])}\")\n",
    "\n",
    "print(\"-\"*59)\n",
    "print(f\"First Labels: {y[0]}\")\n",
    "print(f\"Number of Features to Predict: {len(y[0])}\")\n",
    "\n",
    "print(f\"Type: {type(X), type(y)}\")"
   ]
  },
  {
   "cell_type": "code",
   "execution_count": 13,
   "id": "4fed8c7b",
   "metadata": {
    "execution": {
     "iopub.execute_input": "2025-02-15T00:16:56.223361Z",
     "iopub.status.busy": "2025-02-15T00:16:56.223139Z",
     "iopub.status.idle": "2025-02-15T00:16:56.284210Z",
     "shell.execute_reply": "2025-02-15T00:16:56.283368Z"
    },
    "papermill": {
     "duration": 0.069511,
     "end_time": "2025-02-15T00:16:56.285533",
     "exception": false,
     "start_time": "2025-02-15T00:16:56.216022",
     "status": "completed"
    },
    "tags": []
   },
   "outputs": [],
   "source": [
    "X = np.array(X, dtype=np.float32)\n",
    "y = np.array(y, dtype=np.float32)"
   ]
  },
  {
   "cell_type": "markdown",
   "id": "7f1b0381",
   "metadata": {
    "papermill": {
     "duration": 0.007023,
     "end_time": "2025-02-15T00:16:56.300137",
     "exception": false,
     "start_time": "2025-02-15T00:16:56.293114",
     "status": "completed"
    },
    "tags": []
   },
   "source": [
    "# **Dataset**"
   ]
  },
  {
   "cell_type": "code",
   "execution_count": 14,
   "id": "9d2f6308",
   "metadata": {
    "execution": {
     "iopub.execute_input": "2025-02-15T00:16:56.316071Z",
     "iopub.status.busy": "2025-02-15T00:16:56.315756Z",
     "iopub.status.idle": "2025-02-15T00:16:56.326242Z",
     "shell.execute_reply": "2025-02-15T00:16:56.325507Z"
    },
    "papermill": {
     "duration": 0.019624,
     "end_time": "2025-02-15T00:16:56.327437",
     "exception": false,
     "start_time": "2025-02-15T00:16:56.307813",
     "status": "completed"
    },
    "tags": []
   },
   "outputs": [
    {
     "name": "stdout",
     "output_type": "stream",
     "text": [
      "(6139, 19)\n",
      "(6139, 15)\n",
      "Type of X_train and X_test: <class 'numpy.ndarray'> | <class 'numpy.ndarray'>\n",
      "float32 float32\n",
      "float32 float32\n",
      "float32 float32\n"
     ]
    }
   ],
   "source": [
    "X_train, X_test, y_train, y_test = train_test_split(X, y, test_size=0.3, random_state=42)\n",
    "X_test, X_val, y_test, y_val = train_test_split(X_test, y_test, test_size=0.33, random_state=42)\n",
    "\n",
    "print(X_train.shape)  # Should be (num_samples, num_features) → (N, 19)\n",
    "print(y_train.shape)  # Should be (num_samples, num_outputs) → (N, 15)\n",
    "print(f\"Type of X_train and X_test: {type(X_train)} | {type(X_test)}\")\n",
    "print(X_train.dtype, y_train.dtype)\n",
    "print(X_val.dtype, y_val.dtype)\n",
    "print(X_test.dtype, y_test.dtype)"
   ]
  },
  {
   "cell_type": "code",
   "execution_count": 15,
   "id": "b05f8ddb",
   "metadata": {
    "execution": {
     "iopub.execute_input": "2025-02-15T00:16:56.343106Z",
     "iopub.status.busy": "2025-02-15T00:16:56.342860Z",
     "iopub.status.idle": "2025-02-15T00:16:56.347178Z",
     "shell.execute_reply": "2025-02-15T00:16:56.346550Z"
    },
    "papermill": {
     "duration": 0.012872,
     "end_time": "2025-02-15T00:16:56.348291",
     "exception": false,
     "start_time": "2025-02-15T00:16:56.335419",
     "status": "completed"
    },
    "tags": []
   },
   "outputs": [],
   "source": [
    "import torch\n",
    "from torch.utils.data import Dataset\n",
    "\n",
    "class bkb_dataset(Dataset):\n",
    "    def __init__(self, data, label):\n",
    "        self.data = data\n",
    "        self.label = label\n",
    "\n",
    "    def __len__(self):\n",
    "        return len(self.data)\n",
    "\n",
    "    def __getitem__(self, idx):\n",
    "        feature = torch.tensor(self.data[idx], dtype=torch.float32)  # Use float32\n",
    "        label = torch.tensor(self.label[idx], dtype=torch.float32)  # Use float32\n",
    "\n",
    "        return {\"input_ids\": feature, \"labels\": label}"
   ]
  },
  {
   "cell_type": "code",
   "execution_count": 16,
   "id": "791421b7",
   "metadata": {
    "execution": {
     "iopub.execute_input": "2025-02-15T00:16:56.363038Z",
     "iopub.status.busy": "2025-02-15T00:16:56.362819Z",
     "iopub.status.idle": "2025-02-15T00:16:56.367217Z",
     "shell.execute_reply": "2025-02-15T00:16:56.366417Z"
    },
    "papermill": {
     "duration": 0.01302,
     "end_time": "2025-02-15T00:16:56.368426",
     "exception": false,
     "start_time": "2025-02-15T00:16:56.355406",
     "status": "completed"
    },
    "tags": []
   },
   "outputs": [
    {
     "name": "stdout",
     "output_type": "stream",
     "text": [
      "Length of train_set: 6139\n",
      "Length of test_set: 1763\n",
      "Length of val_set: 869\n"
     ]
    }
   ],
   "source": [
    "train_set = bkb_dataset(\n",
    "    X_train,\n",
    "    y_train,\n",
    ")\n",
    "\n",
    "val_set = bkb_dataset(\n",
    "    X_val,\n",
    "    y_val,\n",
    ")\n",
    "\n",
    "test_set = bkb_dataset(\n",
    "    X_test,\n",
    "    y_test,\n",
    ")\n",
    "print(f\"Length of train_set: {len(train_set)}\")\n",
    "print(f\"Length of test_set: {len(test_set)}\")\n",
    "print(f\"Length of val_set: {len(val_set)}\")"
   ]
  },
  {
   "cell_type": "code",
   "execution_count": 17,
   "id": "677ca931",
   "metadata": {
    "execution": {
     "iopub.execute_input": "2025-02-15T00:16:56.383220Z",
     "iopub.status.busy": "2025-02-15T00:16:56.382999Z",
     "iopub.status.idle": "2025-02-15T00:16:56.388523Z",
     "shell.execute_reply": "2025-02-15T00:16:56.387885Z"
    },
    "papermill": {
     "duration": 0.014249,
     "end_time": "2025-02-15T00:16:56.389745",
     "exception": false,
     "start_time": "2025-02-15T00:16:56.375496",
     "status": "completed"
    },
    "tags": []
   },
   "outputs": [
    {
     "name": "stdout",
     "output_type": "stream",
     "text": [
      "Length train_loader: 24\n",
      "Length test_loader: 56\n",
      "Length val_loader: 28\n"
     ]
    }
   ],
   "source": [
    "train_batch = 256\n",
    "test_batch = 32\n",
    "\n",
    "train_loader = DataLoader(\n",
    "    train_set,\n",
    "    batch_size = train_batch,\n",
    "    shuffle = True\n",
    ")\n",
    "\n",
    "val_loader = DataLoader(\n",
    "    val_set,\n",
    "    batch_size = test_batch,\n",
    "    shuffle = False\n",
    ")\n",
    "\n",
    "test_loader = DataLoader(\n",
    "    test_set,\n",
    "    batch_size = test_batch,\n",
    "    shuffle = False\n",
    ")\n",
    "print(f\"Length train_loader: {len(train_loader)}\")\n",
    "print(f\"Length test_loader: {len(test_loader)}\")\n",
    "print(f\"Length val_loader: {len(val_loader)}\")"
   ]
  },
  {
   "cell_type": "markdown",
   "id": "4efceada",
   "metadata": {
    "papermill": {
     "duration": 0.006612,
     "end_time": "2025-02-15T00:16:56.403394",
     "exception": false,
     "start_time": "2025-02-15T00:16:56.396782",
     "status": "completed"
    },
    "tags": []
   },
   "source": [
    "# **Model**"
   ]
  },
  {
   "cell_type": "code",
   "execution_count": 18,
   "id": "581d3de5",
   "metadata": {
    "execution": {
     "iopub.execute_input": "2025-02-15T00:16:56.418062Z",
     "iopub.status.busy": "2025-02-15T00:16:56.417764Z",
     "iopub.status.idle": "2025-02-15T00:16:56.716056Z",
     "shell.execute_reply": "2025-02-15T00:16:56.714950Z"
    },
    "papermill": {
     "duration": 0.307517,
     "end_time": "2025-02-15T00:16:56.717799",
     "exception": false,
     "start_time": "2025-02-15T00:16:56.410282",
     "status": "completed"
    },
    "tags": []
   },
   "outputs": [],
   "source": [
    "from huggingface_hub import login\n",
    "\n",
    "from kaggle_secrets import UserSecretsClient\n",
    "user_secrets = UserSecretsClient()\n",
    "HUGGINGFACE_TOKEN = user_secrets.get_secret(\"HF_TOKEN\")\n",
    "\n",
    "# Login to Hugging Face\n",
    "login(HUGGINGFACE_TOKEN)"
   ]
  },
  {
   "cell_type": "code",
   "execution_count": 19,
   "id": "4ca0a8aa",
   "metadata": {
    "execution": {
     "iopub.execute_input": "2025-02-15T00:16:56.735506Z",
     "iopub.status.busy": "2025-02-15T00:16:56.735211Z",
     "iopub.status.idle": "2025-02-15T00:16:56.818646Z",
     "shell.execute_reply": "2025-02-15T00:16:56.817705Z"
    },
    "papermill": {
     "duration": 0.093709,
     "end_time": "2025-02-15T00:16:56.820010",
     "exception": false,
     "start_time": "2025-02-15T00:16:56.726301",
     "status": "completed"
    },
    "tags": []
   },
   "outputs": [],
   "source": [
    "device = torch.device(\"cuda\" if torch.cuda.is_available() else \"cpu\")"
   ]
  },
  {
   "cell_type": "code",
   "execution_count": 20,
   "id": "2f03809b",
   "metadata": {
    "execution": {
     "iopub.execute_input": "2025-02-15T00:16:56.835571Z",
     "iopub.status.busy": "2025-02-15T00:16:56.835265Z",
     "iopub.status.idle": "2025-02-15T00:16:58.760956Z",
     "shell.execute_reply": "2025-02-15T00:16:58.759882Z"
    },
    "papermill": {
     "duration": 1.934651,
     "end_time": "2025-02-15T00:16:58.762376",
     "exception": false,
     "start_time": "2025-02-15T00:16:56.827725",
     "status": "completed"
    },
    "tags": []
   },
   "outputs": [
    {
     "data": {
      "application/vnd.jupyter.widget-view+json": {
       "model_id": "eb4cfb1a9eaf4677ba1747835dd8e7da",
       "version_major": 2,
       "version_minor": 0
      },
      "text/plain": [
       "model.safetensors:   0%|          | 0.00/102M [00:00<?, ?B/s]"
      ]
     },
     "metadata": {},
     "output_type": "display_data"
    },
    {
     "name": "stdout",
     "output_type": "stream",
     "text": [
      "torch.Size([1, 15])\n",
      "tensor([[ 0.0318, -0.0478, -0.0531, -0.0289,  0.0227, -0.0224, -0.0027, -0.0831,\n",
      "          0.0125,  0.0182, -0.0009, -0.0501,  0.0409, -0.0578, -0.0387]],\n",
      "       grad_fn=<AddmmBackward0>)\n"
     ]
    }
   ],
   "source": [
    "import torch.nn.functional as F\n",
    "\n",
    "class FeatureGrouping(nn.Module):\n",
    "    def __init__(self, num_features=19, max_groups=3, embed_dim=4, output_dim=15, resnet_model=\"resnet50\", finetune = False):\n",
    "        super().__init__()\n",
    "        self.num_features = num_features\n",
    "        self.max_groups = max_groups\n",
    "        self.embed_dim = embed_dim\n",
    "        self.output_dim = output_dim\n",
    "\n",
    "        # Embedding for home_away (3 categories: Home, Away, Neutral)\n",
    "        self.home_away_embed = nn.Embedding(3, embed_dim)\n",
    "\n",
    "        # Adjust feature count after embedding replacement\n",
    "        self.adjusted_num_features = num_features - 1 + embed_dim  # 22 total features\n",
    "\n",
    "        # Calculate the maximum features per group to ensure consistent dimensions\n",
    "        self.max_features_per_group = self.adjusted_num_features\n",
    "\n",
    "        # Learnable logits for feature assignment\n",
    "        self.assignment_logits = nn.Parameter(torch.randn(self.adjusted_num_features, max_groups))\n",
    "\n",
    "        # Self-Attention layers for each possible number of groups\n",
    "        self.attention_layers = nn.ModuleDict({\n",
    "            f\"attn_{g}\": nn.MultiheadAttention(\n",
    "                embed_dim=self.max_features_per_group,\n",
    "                num_heads=1,\n",
    "                batch_first=True\n",
    "            )\n",
    "            for g in range(1, max_groups + 1)\n",
    "        })\n",
    "\n",
    "        # Reduce channels before ResNet\n",
    "        self.channel_reducer = nn.Conv2d(in_channels=max_groups, out_channels=3, kernel_size=1)\n",
    "\n",
    "        # Pretrained ResNet model\n",
    "        self.resnet = timm.create_model(resnet_model, pretrained=True)\n",
    "        in_features = self.resnet.get_classifier().in_features\n",
    "        self.resnet.reset_classifier(0)\n",
    "\n",
    "        # Final regression head\n",
    "        self.fc = nn.Linear(in_features, output_dim)\n",
    "\n",
    "    def forward(self, x):\n",
    "        batch_size = x.shape[0]\n",
    "\n",
    "        # Extract home_away index and convert to embeddings\n",
    "        home_away_idx = x[:, 17].long().clamp(0, 2)\n",
    "        home_away_embed = self.home_away_embed(home_away_idx)\n",
    "        x = torch.cat([x[:, :17], home_away_embed, x[:, 18:]], dim=1)\n",
    "\n",
    "        # Hard feature assignment\n",
    "        assignment_hard = torch.argmax(self.assignment_logits, dim=1)\n",
    "\n",
    "        all_group_outputs = []\n",
    "\n",
    "        # Process different group configurations\n",
    "        for num_groups in range(1, self.max_groups + 1):\n",
    "            # Split features into groups\n",
    "            groups = []\n",
    "            features_per_group = self.adjusted_num_features // num_groups\n",
    "            \n",
    "            for g in range(num_groups):\n",
    "                start_idx = g * features_per_group\n",
    "                end_idx = min(start_idx + features_per_group, self.adjusted_num_features)\n",
    "                group_features = x[:, start_idx:end_idx]\n",
    "                \n",
    "                # Pad to match max_features_per_group\n",
    "                if group_features.shape[1] < self.max_features_per_group:\n",
    "                    pad_size = self.max_features_per_group - group_features.shape[1]\n",
    "                    padding = torch.zeros(batch_size, pad_size, device=x.device)\n",
    "                    group_features = torch.cat([group_features, padding], dim=1)\n",
    "                \n",
    "                groups.append(group_features)\n",
    "\n",
    "            # Process each group with attention\n",
    "            processed_groups = []\n",
    "            for g in range(num_groups):\n",
    "                group_features = groups[g].unsqueeze(1)\n",
    "                attn_output, _ = self.attention_layers[f\"attn_{num_groups}\"](\n",
    "                    group_features, group_features, group_features)\n",
    "                processed_groups.append(attn_output)\n",
    "\n",
    "            # Combine processed groups\n",
    "            group_output = torch.cat(processed_groups, dim=1)\n",
    "            \n",
    "            # Pad to match max_groups if necessary\n",
    "            if num_groups < self.max_groups:\n",
    "                padding = torch.zeros(\n",
    "                    batch_size,\n",
    "                    self.max_groups - num_groups,\n",
    "                    self.max_features_per_group,\n",
    "                    device=x.device\n",
    "                )\n",
    "                group_output = torch.cat([group_output, padding], dim=1)\n",
    "            \n",
    "            all_group_outputs.append(group_output)\n",
    "\n",
    "        # Stack all configurations\n",
    "        x_final = torch.stack(all_group_outputs, dim=1)  # [B, max_groups, max_groups, Features]\n",
    "        \n",
    "        # Reshape for channel reducer\n",
    "        x_final = x_final.mean(dim=1)  # [B, max_groups, Features]\n",
    "        x_final = x_final.permute(0, 2, 1)  # [B, Features, max_groups]\n",
    "        x_final = x_final.mean(dim=1).unsqueeze(-1).unsqueeze(-1)  # [B, max_groups, 1, 1]\n",
    "        \n",
    "        # Apply channel reduction\n",
    "        x_final = self.channel_reducer(x_final)  # [B, 3, 1, 1]\n",
    "        \n",
    "        # Prepare for ResNet\n",
    "        x_final = x_final.expand(-1, -1, 224, 224)  # [B, 3, 224, 224]\n",
    "\n",
    "        # Process through ResNet and final layer\n",
    "        x_final = self.resnet(x_final)\n",
    "        output = self.fc(x_final)\n",
    "\n",
    "        return output\n",
    "\n",
    "batch_size = 1\n",
    "x = torch.randn(batch_size, 19)  # Example input features\n",
    "model = FeatureGrouping(resnet_model=\"resnet50\")  # Using ResNet50\n",
    "output = model(x)\n",
    "print(output.shape)  # Expected: (B, 15)\n",
    "print(output)"
   ]
  },
  {
   "cell_type": "code",
   "execution_count": 21,
   "id": "497a39c5",
   "metadata": {
    "execution": {
     "iopub.execute_input": "2025-02-15T00:16:58.778679Z",
     "iopub.status.busy": "2025-02-15T00:16:58.778256Z",
     "iopub.status.idle": "2025-02-15T00:17:19.632235Z",
     "shell.execute_reply": "2025-02-15T00:17:19.631432Z"
    },
    "papermill": {
     "duration": 20.863662,
     "end_time": "2025-02-15T00:17:19.633849",
     "exception": false,
     "start_time": "2025-02-15T00:16:58.770187",
     "status": "completed"
    },
    "tags": []
   },
   "outputs": [
    {
     "name": "stderr",
     "output_type": "stream",
     "text": [
      "The cache for model files in Transformers v4.22.0 has been updated. Migrating your old cache. This is a one-time only operation. You can interrupt this and resume the migration later on by calling `transformers.utils.move_cache()`.\n"
     ]
    },
    {
     "data": {
      "application/vnd.jupyter.widget-view+json": {
       "model_id": "fb7b1b7fff084eb280cf1f9673dab614",
       "version_major": 2,
       "version_minor": 0
      },
      "text/plain": [
       "0it [00:00, ?it/s]"
      ]
     },
     "metadata": {},
     "output_type": "display_data"
    }
   ],
   "source": [
    "from transformers import PreTrainedModel, PretrainedConfig\n",
    "\n",
    "class FeatureGroupingConfig(PretrainedConfig):\n",
    "    model_type = \"feature_grouping\"\n",
    "\n",
    "    def __init__(self, num_features=19, output_dim=15, **kwargs):\n",
    "        super().__init__(**kwargs)\n",
    "        self.num_features = num_features\n",
    "        self.output_dim = output_dim\n",
    "\n",
    "class FeatureGroupingModel(PreTrainedModel):\n",
    "    config_class = FeatureGroupingConfig\n",
    "\n",
    "    def __init__(self, config):\n",
    "        super().__init__(config)\n",
    "        self.model = FeatureGrouping(\n",
    "            num_features=config.num_features, \n",
    "            output_dim=config.output_dim\n",
    "        )\n",
    "\n",
    "    def forward(self, input_ids, labels=None):\n",
    "        output = self.model(input_ids)\n",
    "\n",
    "        loss = None\n",
    "        if labels is not None:\n",
    "            loss = F.mse_loss(output, labels)  # Mean Squared Error for regression\n",
    "\n",
    "        return {\"loss\": loss, \"logits\": output} if loss is not None else {\"logits\": output}"
   ]
  },
  {
   "cell_type": "code",
   "execution_count": 22,
   "id": "ee0d2e62",
   "metadata": {
    "execution": {
     "iopub.execute_input": "2025-02-15T00:17:19.650377Z",
     "iopub.status.busy": "2025-02-15T00:17:19.649818Z",
     "iopub.status.idle": "2025-02-15T00:17:21.207408Z",
     "shell.execute_reply": "2025-02-15T00:17:21.206455Z"
    },
    "papermill": {
     "duration": 1.567187,
     "end_time": "2025-02-15T00:17:21.209045",
     "exception": false,
     "start_time": "2025-02-15T00:17:19.641858",
     "status": "completed"
    },
    "tags": []
   },
   "outputs": [],
   "source": [
    "import evaluate\n",
    "\n",
    "def compute_metrics(eval_pred):\n",
    "    predictions, labels = eval_pred\n",
    "    predictions = np.array(predictions)\n",
    "    labels = np.array(labels)\n",
    "\n",
    "    mse_per_feature = ((predictions - labels) ** 2).mean(axis=0)  # (15,)\n",
    "    mse_mean = mse_per_feature.mean()  # Overall MSE\n",
    "\n",
    "    print(f\"\\n📢 Epoch MSE: {mse_mean:.4f}\")  # Print MSE for each epoch\n",
    "\n",
    "    return {\"mse_mean\": mse_mean}"
   ]
  },
  {
   "cell_type": "code",
   "execution_count": 23,
   "id": "f5f249a0",
   "metadata": {
    "execution": {
     "iopub.execute_input": "2025-02-15T00:17:21.225809Z",
     "iopub.status.busy": "2025-02-15T00:17:21.225187Z",
     "iopub.status.idle": "2025-02-15T00:17:21.237548Z",
     "shell.execute_reply": "2025-02-15T00:17:21.236730Z"
    },
    "papermill": {
     "duration": 0.022607,
     "end_time": "2025-02-15T00:17:21.239488",
     "exception": false,
     "start_time": "2025-02-15T00:17:21.216881",
     "status": "completed"
    },
    "tags": []
   },
   "outputs": [],
   "source": [
    "from transformers import TrainerCallback\n",
    "\n",
    "class LossLoggerCallback(TrainerCallback):\n",
    "    def on_log(self, args, state, control, logs=None, **kwargs):\n",
    "        if logs and \"loss\" in logs:\n",
    "            print(f\"📢 Epoch {state.epoch:.0f}: Train Loss = {logs['loss']:.4f}\")"
   ]
  },
  {
   "cell_type": "code",
   "execution_count": 24,
   "id": "8c544b6c",
   "metadata": {
    "execution": {
     "iopub.execute_input": "2025-02-15T00:17:21.255408Z",
     "iopub.status.busy": "2025-02-15T00:17:21.255148Z",
     "iopub.status.idle": "2025-02-15T00:36:56.089490Z",
     "shell.execute_reply": "2025-02-15T00:36:56.088601Z"
    },
    "papermill": {
     "duration": 1174.843709,
     "end_time": "2025-02-15T00:36:56.090892",
     "exception": false,
     "start_time": "2025-02-15T00:17:21.247183",
     "status": "completed"
    },
    "scrolled": true,
    "tags": []
   },
   "outputs": [
    {
     "name": "stderr",
     "output_type": "stream",
     "text": [
      "/usr/local/lib/python3.10/dist-packages/torch/nn/parallel/_functions.py:71: UserWarning: Was asked to gather along dimension 0, but all input tensors were scalars; will instead unsqueeze and return a vector.\n",
      "  warnings.warn(\n"
     ]
    },
    {
     "data": {
      "text/html": [
       "\n",
       "    <div>\n",
       "      \n",
       "      <progress value='720' max='720' style='width:300px; height:20px; vertical-align: middle;'></progress>\n",
       "      [720/720 19:21, Epoch 30/30]\n",
       "    </div>\n",
       "    <table border=\"1\" class=\"dataframe\">\n",
       "  <thead>\n",
       " <tr style=\"text-align: left;\">\n",
       "      <th>Epoch</th>\n",
       "      <th>Training Loss</th>\n",
       "      <th>Validation Loss</th>\n",
       "    </tr>\n",
       "  </thead>\n",
       "  <tbody>\n",
       "    <tr>\n",
       "      <td>1</td>\n",
       "      <td>0.111200</td>\n",
       "      <td>0.119334</td>\n",
       "    </tr>\n",
       "    <tr>\n",
       "      <td>2</td>\n",
       "      <td>0.089800</td>\n",
       "      <td>0.095662</td>\n",
       "    </tr>\n",
       "    <tr>\n",
       "      <td>3</td>\n",
       "      <td>0.071400</td>\n",
       "      <td>0.069570</td>\n",
       "    </tr>\n",
       "    <tr>\n",
       "      <td>4</td>\n",
       "      <td>0.056300</td>\n",
       "      <td>0.056870</td>\n",
       "    </tr>\n",
       "    <tr>\n",
       "      <td>5</td>\n",
       "      <td>0.044600</td>\n",
       "      <td>0.039971</td>\n",
       "    </tr>\n",
       "    <tr>\n",
       "      <td>6</td>\n",
       "      <td>0.034800</td>\n",
       "      <td>0.033208</td>\n",
       "    </tr>\n",
       "    <tr>\n",
       "      <td>7</td>\n",
       "      <td>0.028800</td>\n",
       "      <td>0.028715</td>\n",
       "    </tr>\n",
       "    <tr>\n",
       "      <td>8</td>\n",
       "      <td>0.025100</td>\n",
       "      <td>0.023576</td>\n",
       "    </tr>\n",
       "    <tr>\n",
       "      <td>9</td>\n",
       "      <td>0.023000</td>\n",
       "      <td>0.021675</td>\n",
       "    </tr>\n",
       "    <tr>\n",
       "      <td>10</td>\n",
       "      <td>0.021400</td>\n",
       "      <td>0.020926</td>\n",
       "    </tr>\n",
       "    <tr>\n",
       "      <td>11</td>\n",
       "      <td>0.020600</td>\n",
       "      <td>0.019981</td>\n",
       "    </tr>\n",
       "    <tr>\n",
       "      <td>12</td>\n",
       "      <td>0.020500</td>\n",
       "      <td>0.020579</td>\n",
       "    </tr>\n",
       "    <tr>\n",
       "      <td>13</td>\n",
       "      <td>0.020100</td>\n",
       "      <td>0.019634</td>\n",
       "    </tr>\n",
       "    <tr>\n",
       "      <td>14</td>\n",
       "      <td>0.019600</td>\n",
       "      <td>0.020408</td>\n",
       "    </tr>\n",
       "    <tr>\n",
       "      <td>15</td>\n",
       "      <td>0.019600</td>\n",
       "      <td>0.019477</td>\n",
       "    </tr>\n",
       "    <tr>\n",
       "      <td>16</td>\n",
       "      <td>0.019400</td>\n",
       "      <td>0.019064</td>\n",
       "    </tr>\n",
       "    <tr>\n",
       "      <td>17</td>\n",
       "      <td>0.019400</td>\n",
       "      <td>0.019219</td>\n",
       "    </tr>\n",
       "    <tr>\n",
       "      <td>18</td>\n",
       "      <td>0.019400</td>\n",
       "      <td>0.018790</td>\n",
       "    </tr>\n",
       "    <tr>\n",
       "      <td>19</td>\n",
       "      <td>0.019100</td>\n",
       "      <td>0.018752</td>\n",
       "    </tr>\n",
       "    <tr>\n",
       "      <td>20</td>\n",
       "      <td>0.019000</td>\n",
       "      <td>0.018828</td>\n",
       "    </tr>\n",
       "    <tr>\n",
       "      <td>21</td>\n",
       "      <td>0.019000</td>\n",
       "      <td>0.018845</td>\n",
       "    </tr>\n",
       "    <tr>\n",
       "      <td>22</td>\n",
       "      <td>0.019000</td>\n",
       "      <td>0.018497</td>\n",
       "    </tr>\n",
       "    <tr>\n",
       "      <td>23</td>\n",
       "      <td>0.019100</td>\n",
       "      <td>0.018513</td>\n",
       "    </tr>\n",
       "    <tr>\n",
       "      <td>24</td>\n",
       "      <td>0.019000</td>\n",
       "      <td>0.018575</td>\n",
       "    </tr>\n",
       "    <tr>\n",
       "      <td>25</td>\n",
       "      <td>0.018800</td>\n",
       "      <td>0.018416</td>\n",
       "    </tr>\n",
       "    <tr>\n",
       "      <td>26</td>\n",
       "      <td>0.018900</td>\n",
       "      <td>0.018297</td>\n",
       "    </tr>\n",
       "    <tr>\n",
       "      <td>27</td>\n",
       "      <td>0.018800</td>\n",
       "      <td>0.018590</td>\n",
       "    </tr>\n",
       "    <tr>\n",
       "      <td>28</td>\n",
       "      <td>0.018900</td>\n",
       "      <td>0.018417</td>\n",
       "    </tr>\n",
       "    <tr>\n",
       "      <td>29</td>\n",
       "      <td>0.018700</td>\n",
       "      <td>0.018268</td>\n",
       "    </tr>\n",
       "    <tr>\n",
       "      <td>30</td>\n",
       "      <td>0.018600</td>\n",
       "      <td>0.018173</td>\n",
       "    </tr>\n",
       "  </tbody>\n",
       "</table><p>"
      ],
      "text/plain": [
       "<IPython.core.display.HTML object>"
      ]
     },
     "metadata": {},
     "output_type": "display_data"
    },
    {
     "name": "stderr",
     "output_type": "stream",
     "text": [
      "/usr/local/lib/python3.10/dist-packages/torch/nn/parallel/_functions.py:71: UserWarning: Was asked to gather along dimension 0, but all input tensors were scalars; will instead unsqueeze and return a vector.\n",
      "  warnings.warn(\n",
      "/usr/local/lib/python3.10/dist-packages/torch/nn/parallel/_functions.py:71: UserWarning: Was asked to gather along dimension 0, but all input tensors were scalars; will instead unsqueeze and return a vector.\n",
      "  warnings.warn(\n",
      "/usr/local/lib/python3.10/dist-packages/torch/nn/parallel/_functions.py:71: UserWarning: Was asked to gather along dimension 0, but all input tensors were scalars; will instead unsqueeze and return a vector.\n",
      "  warnings.warn(\n",
      "/usr/local/lib/python3.10/dist-packages/torch/nn/parallel/_functions.py:71: UserWarning: Was asked to gather along dimension 0, but all input tensors were scalars; will instead unsqueeze and return a vector.\n",
      "  warnings.warn(\n",
      "/usr/local/lib/python3.10/dist-packages/torch/nn/parallel/_functions.py:71: UserWarning: Was asked to gather along dimension 0, but all input tensors were scalars; will instead unsqueeze and return a vector.\n",
      "  warnings.warn(\n",
      "/usr/local/lib/python3.10/dist-packages/torch/nn/parallel/_functions.py:71: UserWarning: Was asked to gather along dimension 0, but all input tensors were scalars; will instead unsqueeze and return a vector.\n",
      "  warnings.warn(\n",
      "/usr/local/lib/python3.10/dist-packages/torch/nn/parallel/_functions.py:71: UserWarning: Was asked to gather along dimension 0, but all input tensors were scalars; will instead unsqueeze and return a vector.\n",
      "  warnings.warn(\n",
      "/usr/local/lib/python3.10/dist-packages/torch/nn/parallel/_functions.py:71: UserWarning: Was asked to gather along dimension 0, but all input tensors were scalars; will instead unsqueeze and return a vector.\n",
      "  warnings.warn(\n",
      "/usr/local/lib/python3.10/dist-packages/torch/nn/parallel/_functions.py:71: UserWarning: Was asked to gather along dimension 0, but all input tensors were scalars; will instead unsqueeze and return a vector.\n",
      "  warnings.warn(\n",
      "/usr/local/lib/python3.10/dist-packages/torch/nn/parallel/_functions.py:71: UserWarning: Was asked to gather along dimension 0, but all input tensors were scalars; will instead unsqueeze and return a vector.\n",
      "  warnings.warn(\n",
      "/usr/local/lib/python3.10/dist-packages/torch/nn/parallel/_functions.py:71: UserWarning: Was asked to gather along dimension 0, but all input tensors were scalars; will instead unsqueeze and return a vector.\n",
      "  warnings.warn(\n",
      "/usr/local/lib/python3.10/dist-packages/torch/nn/parallel/_functions.py:71: UserWarning: Was asked to gather along dimension 0, but all input tensors were scalars; will instead unsqueeze and return a vector.\n",
      "  warnings.warn(\n",
      "/usr/local/lib/python3.10/dist-packages/torch/nn/parallel/_functions.py:71: UserWarning: Was asked to gather along dimension 0, but all input tensors were scalars; will instead unsqueeze and return a vector.\n",
      "  warnings.warn(\n",
      "/usr/local/lib/python3.10/dist-packages/torch/nn/parallel/_functions.py:71: UserWarning: Was asked to gather along dimension 0, but all input tensors were scalars; will instead unsqueeze and return a vector.\n",
      "  warnings.warn(\n",
      "/usr/local/lib/python3.10/dist-packages/torch/nn/parallel/_functions.py:71: UserWarning: Was asked to gather along dimension 0, but all input tensors were scalars; will instead unsqueeze and return a vector.\n",
      "  warnings.warn(\n",
      "/usr/local/lib/python3.10/dist-packages/torch/nn/parallel/_functions.py:71: UserWarning: Was asked to gather along dimension 0, but all input tensors were scalars; will instead unsqueeze and return a vector.\n",
      "  warnings.warn(\n",
      "/usr/local/lib/python3.10/dist-packages/torch/nn/parallel/_functions.py:71: UserWarning: Was asked to gather along dimension 0, but all input tensors were scalars; will instead unsqueeze and return a vector.\n",
      "  warnings.warn(\n",
      "/usr/local/lib/python3.10/dist-packages/torch/nn/parallel/_functions.py:71: UserWarning: Was asked to gather along dimension 0, but all input tensors were scalars; will instead unsqueeze and return a vector.\n",
      "  warnings.warn(\n",
      "/usr/local/lib/python3.10/dist-packages/torch/nn/parallel/_functions.py:71: UserWarning: Was asked to gather along dimension 0, but all input tensors were scalars; will instead unsqueeze and return a vector.\n",
      "  warnings.warn(\n",
      "/usr/local/lib/python3.10/dist-packages/torch/nn/parallel/_functions.py:71: UserWarning: Was asked to gather along dimension 0, but all input tensors were scalars; will instead unsqueeze and return a vector.\n",
      "  warnings.warn(\n",
      "/usr/local/lib/python3.10/dist-packages/torch/nn/parallel/_functions.py:71: UserWarning: Was asked to gather along dimension 0, but all input tensors were scalars; will instead unsqueeze and return a vector.\n",
      "  warnings.warn(\n",
      "/usr/local/lib/python3.10/dist-packages/torch/nn/parallel/_functions.py:71: UserWarning: Was asked to gather along dimension 0, but all input tensors were scalars; will instead unsqueeze and return a vector.\n",
      "  warnings.warn(\n",
      "/usr/local/lib/python3.10/dist-packages/torch/nn/parallel/_functions.py:71: UserWarning: Was asked to gather along dimension 0, but all input tensors were scalars; will instead unsqueeze and return a vector.\n",
      "  warnings.warn(\n",
      "/usr/local/lib/python3.10/dist-packages/torch/nn/parallel/_functions.py:71: UserWarning: Was asked to gather along dimension 0, but all input tensors were scalars; will instead unsqueeze and return a vector.\n",
      "  warnings.warn(\n",
      "/usr/local/lib/python3.10/dist-packages/torch/nn/parallel/_functions.py:71: UserWarning: Was asked to gather along dimension 0, but all input tensors were scalars; will instead unsqueeze and return a vector.\n",
      "  warnings.warn(\n",
      "/usr/local/lib/python3.10/dist-packages/torch/nn/parallel/_functions.py:71: UserWarning: Was asked to gather along dimension 0, but all input tensors were scalars; will instead unsqueeze and return a vector.\n",
      "  warnings.warn(\n",
      "/usr/local/lib/python3.10/dist-packages/torch/nn/parallel/_functions.py:71: UserWarning: Was asked to gather along dimension 0, but all input tensors were scalars; will instead unsqueeze and return a vector.\n",
      "  warnings.warn(\n",
      "/usr/local/lib/python3.10/dist-packages/torch/nn/parallel/_functions.py:71: UserWarning: Was asked to gather along dimension 0, but all input tensors were scalars; will instead unsqueeze and return a vector.\n",
      "  warnings.warn(\n",
      "/usr/local/lib/python3.10/dist-packages/torch/nn/parallel/_functions.py:71: UserWarning: Was asked to gather along dimension 0, but all input tensors were scalars; will instead unsqueeze and return a vector.\n",
      "  warnings.warn(\n",
      "/usr/local/lib/python3.10/dist-packages/torch/nn/parallel/_functions.py:71: UserWarning: Was asked to gather along dimension 0, but all input tensors were scalars; will instead unsqueeze and return a vector.\n",
      "  warnings.warn(\n",
      "No files have been modified since last commit. Skipping to prevent empty commit.\n"
     ]
    },
    {
     "data": {
      "text/plain": [
       "CommitInfo(commit_url='https://huggingface.co/KanWasTaken/basketball_model/commit/babe3625df4bf9b4eb3fadb87b41094fa8b3c595', commit_message='KanWasTaken/RandModel', commit_description='', oid='babe3625df4bf9b4eb3fadb87b41094fa8b3c595', pr_url=None, repo_url=RepoUrl('https://huggingface.co/KanWasTaken/basketball_model', endpoint='https://huggingface.co', repo_type='model', repo_id='KanWasTaken/basketball_model'), pr_revision=None, pr_num=None)"
      ]
     },
     "execution_count": 24,
     "metadata": {},
     "output_type": "execute_result"
    }
   ],
   "source": [
    "from transformers import Trainer, TrainingArguments\n",
    "\n",
    "training_args = TrainingArguments(\n",
    "    output_dir=\"./basketball_model\",\n",
    "    learning_rate = 1e-5,\n",
    "    eval_strategy=\"epoch\",  # Evaluate at each epoch\n",
    "    save_strategy=\"epoch\",\n",
    "    logging_strategy=\"epoch\",  # Log every epoch\n",
    "    logging_dir=\"./logs\",\n",
    "    logging_steps=1,  # Log at every step\n",
    "    per_device_train_batch_size=128,\n",
    "    per_device_eval_batch_size=32,\n",
    "    num_train_epochs=30,\n",
    "    weight_decay=0.01,\n",
    "    report_to=\"none\",\n",
    "    push_to_hub=True,\n",
    "    optim = 'adamw_torch'\n",
    ")\n",
    "\n",
    "# Initialize Model\n",
    "model = FeatureGroupingModel(FeatureGroupingConfig())\n",
    "\n",
    "trainer = Trainer(\n",
    "    model=model.to(device),\n",
    "    args=training_args,\n",
    "    train_dataset=train_set,\n",
    "    eval_dataset=val_set\n",
    "    #callbacks=[LossLoggerCallback()]  # Add the callback here\n",
    ")\n",
    "\n",
    "# Train the Model\n",
    "trainer.train()\n",
    "\n",
    "# Save Model\n",
    "trainer.save_model(\"./basketball_model\")\n",
    "\n",
    "# Save Model to Hugging Face Hub\n",
    "trainer.push_to_hub(\"KanWasTaken/RandModel\")"
   ]
  },
  {
   "cell_type": "markdown",
   "id": "e40d3229",
   "metadata": {
    "papermill": {
     "duration": 0.008747,
     "end_time": "2025-02-15T00:36:56.109157",
     "exception": false,
     "start_time": "2025-02-15T00:36:56.100410",
     "status": "completed"
    },
    "tags": []
   },
   "source": [
    "# **Test**"
   ]
  },
  {
   "cell_type": "code",
   "execution_count": 25,
   "id": "8675d149",
   "metadata": {
    "execution": {
     "iopub.execute_input": "2025-02-15T00:36:56.127959Z",
     "iopub.status.busy": "2025-02-15T00:36:56.127602Z",
     "iopub.status.idle": "2025-02-15T00:36:56.135932Z",
     "shell.execute_reply": "2025-02-15T00:36:56.135006Z"
    },
    "papermill": {
     "duration": 0.019398,
     "end_time": "2025-02-15T00:36:56.137336",
     "exception": false,
     "start_time": "2025-02-15T00:36:56.117938",
     "status": "completed"
    },
    "tags": []
   },
   "outputs": [
    {
     "name": "stdout",
     "output_type": "stream",
     "text": [
      "(6139, 19)\n",
      "(6139, 15)\n"
     ]
    }
   ],
   "source": [
    "X_train1, X_test1, y_train1, y_test1 = train_test_split(X, y, test_size=0.3, random_state=42)\n",
    "X_val1, X_test1, y_val1, y_test1 = train_test_split(X_test1, y_test1, test_size=0.33, random_state=42)\n",
    "\n",
    "print(X_train1.shape)  # Should be (num_samples, num_features) → (N, 19)\n",
    "print(y_train1.shape)  # Should be (num_samples, num_outputs) → (N, 15)"
   ]
  },
  {
   "cell_type": "code",
   "execution_count": 26,
   "id": "7691a580",
   "metadata": {
    "execution": {
     "iopub.execute_input": "2025-02-15T00:36:56.156991Z",
     "iopub.status.busy": "2025-02-15T00:36:56.156753Z",
     "iopub.status.idle": "2025-02-15T00:36:58.570523Z",
     "shell.execute_reply": "2025-02-15T00:36:58.569434Z"
    },
    "papermill": {
     "duration": 2.42475,
     "end_time": "2025-02-15T00:36:58.572051",
     "exception": false,
     "start_time": "2025-02-15T00:36:56.147301",
     "status": "completed"
    },
    "tags": []
   },
   "outputs": [
    {
     "name": "stdout",
     "output_type": "stream",
     "text": [
      "(869, 15)\n",
      "RMSE per output: [0.01580971 0.01553993 0.01405026 0.01751576 0.02033821 0.01815271\n",
      " 0.0154973  0.01604958 0.01456579 0.01404391 0.02238351 0.01987477\n",
      " 0.01867983 0.00606631 0.02056576]\n",
      "Average RMSE: 0.016608888\n"
     ]
    }
   ],
   "source": [
    "from sklearn.multioutput import MultiOutputRegressor\n",
    "from xgboost import XGBRegressor\n",
    "# Wrap XGBRegressor to handle multi-output regression\n",
    "model = MultiOutputRegressor(XGBRegressor(\n",
    "    objective='reg:squarederror',  \n",
    "    n_estimators=100,  \n",
    "    learning_rate=0.1  \n",
    "))\n",
    "\n",
    "# Train model\n",
    "model.fit(X_train1, y_train1)  \n",
    "\n",
    "y_pred = model.predict(X_test1)\n",
    "print(y_pred.shape)  # Should be (N_test, 15)\n",
    "\n",
    "from sklearn.metrics import mean_squared_error\n",
    "\n",
    "rmse = mean_squared_error(y_test1, y_pred, multioutput='raw_values')  # RMSE for each label\n",
    "print(\"RMSE per output:\", rmse)\n",
    "print(\"Average RMSE:\", rmse.mean())  # Average RMSE across all 15 labels"
   ]
  },
  {
   "cell_type": "code",
   "execution_count": 27,
   "id": "38525ef3",
   "metadata": {
    "execution": {
     "iopub.execute_input": "2025-02-15T00:36:58.646154Z",
     "iopub.status.busy": "2025-02-15T00:36:58.645859Z",
     "iopub.status.idle": "2025-02-15T00:36:58.662653Z",
     "shell.execute_reply": "2025-02-15T00:36:58.661749Z"
    },
    "papermill": {
     "duration": 0.078416,
     "end_time": "2025-02-15T00:36:58.664006",
     "exception": false,
     "start_time": "2025-02-15T00:36:58.585590",
     "status": "completed"
    },
    "tags": []
   },
   "outputs": [
    {
     "name": "stdout",
     "output_type": "stream",
     "text": [
      "[[0.44560626 0.2505317  0.35928938 0.27473179 0.35134402 0.24747607\n",
      "  0.28863877 0.10484435 0.25987056 0.33177465 0.07613    0.41842663\n",
      "  0.38874078 0.01177177 0.33863005]]\n",
      "[[0.5044346  0.37466002 0.33185732 0.25413755 0.3480368  0.2988583\n",
      "  0.3174013  0.15391321 0.26297748 0.31009695 0.07529958 0.3895041\n",
      "  0.35768604 0.0132556  0.3995734 ]]\n"
     ]
    }
   ],
   "source": [
    "X_pred_home = model.predict(np.array([X_train1[0]]))  # Ensures a 2D shape (1, 19)\n",
    "X_pred_away = model.predict(np.array([X_train1[1]]))\n",
    "print(X_pred_home)\n",
    "print(X_pred_away)"
   ]
  },
  {
   "cell_type": "code",
   "execution_count": 28,
   "id": "70f4c3a7",
   "metadata": {
    "execution": {
     "iopub.execute_input": "2025-02-15T00:36:58.685534Z",
     "iopub.status.busy": "2025-02-15T00:36:58.685254Z",
     "iopub.status.idle": "2025-02-15T00:37:26.074798Z",
     "shell.execute_reply": "2025-02-15T00:37:26.073729Z"
    },
    "papermill": {
     "duration": 27.401919,
     "end_time": "2025-02-15T00:37:26.076241",
     "exception": false,
     "start_time": "2025-02-15T00:36:58.674322",
     "status": "completed"
    },
    "scrolled": true,
    "tags": []
   },
   "outputs": [
    {
     "name": "stderr",
     "output_type": "stream",
     "text": [
      "/usr/local/lib/python3.10/dist-packages/pytorch_tabnet/abstract_model.py:82: UserWarning: Device used : cuda\n",
      "  warnings.warn(f\"Device used : {self.device}\")\n"
     ]
    },
    {
     "name": "stdout",
     "output_type": "stream",
     "text": [
      "epoch 0  | loss: 1.12782 | val_0_mse: 0.1220100000500679|  0:00:01s\n",
      "epoch 1  | loss: 0.22737 | val_0_mse: 0.12026000022888184|  0:00:01s\n",
      "epoch 2  | loss: 0.12084 | val_0_mse: 0.11929000169038773|  0:00:01s\n",
      "epoch 3  | loss: 0.10212 | val_0_mse: 0.1088699996471405|  0:00:01s\n",
      "epoch 4  | loss: 0.08596 | val_0_mse: 0.0903099998831749|  0:00:02s\n",
      "epoch 5  | loss: 0.07088 | val_0_mse: 0.07384999841451645|  0:00:02s\n",
      "epoch 6  | loss: 0.05865 | val_0_mse: 0.05849999934434891|  0:00:02s\n",
      "epoch 7  | loss: 0.04666 | val_0_mse: 0.044840000569820404|  0:00:02s\n",
      "epoch 8  | loss: 0.03785 | val_0_mse: 0.03044999949634075|  0:00:03s\n",
      "epoch 9  | loss: 0.03169 | val_0_mse: 0.023420000448822975|  0:00:03s\n",
      "epoch 10 | loss: 0.02778 | val_0_mse: 0.02078000083565712|  0:00:03s\n",
      "epoch 11 | loss: 0.02527 | val_0_mse: 0.018799999728798866|  0:00:04s\n",
      "epoch 12 | loss: 0.02378 | val_0_mse: 0.018309999257326126|  0:00:04s\n",
      "epoch 13 | loss: 0.02261 | val_0_mse: 0.0181099995970726|  0:00:04s\n",
      "epoch 14 | loss: 0.02187 | val_0_mse: 0.017969999462366104|  0:00:04s\n",
      "epoch 15 | loss: 0.02122 | val_0_mse: 0.017829999327659607|  0:00:05s\n",
      "epoch 16 | loss: 0.02063 | val_0_mse: 0.01769999973475933|  0:00:05s\n",
      "epoch 17 | loss: 0.02039 | val_0_mse: 0.017580000683665276|  0:00:05s\n",
      "epoch 18 | loss: 0.02002 | val_0_mse: 0.0175199992954731|  0:00:05s\n",
      "epoch 19 | loss: 0.01995 | val_0_mse: 0.017480000853538513|  0:00:06s\n",
      "epoch 20 | loss: 0.01945 | val_0_mse: 0.017470000311732292|  0:00:06s\n",
      "epoch 21 | loss: 0.01929 | val_0_mse: 0.01744000054895878|  0:00:06s\n",
      "epoch 22 | loss: 0.01893 | val_0_mse: 0.017430000007152557|  0:00:07s\n",
      "epoch 23 | loss: 0.0191  | val_0_mse: 0.017410000786185265|  0:00:07s\n",
      "epoch 24 | loss: 0.01883 | val_0_mse: 0.017389999702572823|  0:00:07s\n",
      "epoch 25 | loss: 0.01886 | val_0_mse: 0.0173799991607666|  0:00:07s\n",
      "epoch 26 | loss: 0.01872 | val_0_mse: 0.0173799991607666|  0:00:08s\n",
      "epoch 27 | loss: 0.01843 | val_0_mse: 0.017349999397993088|  0:00:08s\n",
      "epoch 28 | loss: 0.01862 | val_0_mse: 0.017330000177025795|  0:00:08s\n",
      "epoch 29 | loss: 0.01837 | val_0_mse: 0.017330000177025795|  0:00:08s\n",
      "epoch 30 | loss: 0.01839 | val_0_mse: 0.01730000041425228|  0:00:09s\n",
      "epoch 31 | loss: 0.01825 | val_0_mse: 0.017319999635219574|  0:00:09s\n",
      "epoch 32 | loss: 0.01815 | val_0_mse: 0.01727999933063984|  0:00:09s\n",
      "epoch 33 | loss: 0.01806 | val_0_mse: 0.017319999635219574|  0:00:10s\n",
      "epoch 34 | loss: 0.01807 | val_0_mse: 0.01727999933063984|  0:00:10s\n",
      "epoch 35 | loss: 0.01811 | val_0_mse: 0.01728999987244606|  0:00:10s\n",
      "epoch 36 | loss: 0.01817 | val_0_mse: 0.01727999933063984|  0:00:10s\n",
      "epoch 37 | loss: 0.01788 | val_0_mse: 0.017240000888705254|  0:00:11s\n",
      "epoch 38 | loss: 0.018   | val_0_mse: 0.017260000109672546|  0:00:11s\n",
      "epoch 39 | loss: 0.01786 | val_0_mse: 0.017230000346899033|  0:00:11s\n",
      "epoch 40 | loss: 0.01808 | val_0_mse: 0.01721999980509281|  0:00:11s\n",
      "epoch 41 | loss: 0.0178  | val_0_mse: 0.01721999980509281|  0:00:12s\n",
      "epoch 42 | loss: 0.0178  | val_0_mse: 0.01720000058412552|  0:00:12s\n",
      "epoch 43 | loss: 0.01781 | val_0_mse: 0.017230000346899033|  0:00:12s\n",
      "epoch 44 | loss: 0.01775 | val_0_mse: 0.01720999926328659|  0:00:12s\n",
      "epoch 45 | loss: 0.01788 | val_0_mse: 0.017190000042319298|  0:00:13s\n",
      "epoch 46 | loss: 0.01774 | val_0_mse: 0.01720000058412552|  0:00:13s\n",
      "epoch 47 | loss: 0.01776 | val_0_mse: 0.017160000279545784|  0:00:13s\n",
      "epoch 48 | loss: 0.01772 | val_0_mse: 0.017179999500513077|  0:00:14s\n",
      "epoch 49 | loss: 0.01775 | val_0_mse: 0.017160000279545784|  0:00:14s\n",
      "epoch 50 | loss: 0.01767 | val_0_mse: 0.017149999737739563|  0:00:14s\n",
      "epoch 51 | loss: 0.01768 | val_0_mse: 0.017149999737739563|  0:00:14s\n",
      "epoch 52 | loss: 0.01762 | val_0_mse: 0.01711999997496605|  0:00:15s\n",
      "epoch 53 | loss: 0.01769 | val_0_mse: 0.017139999195933342|  0:00:15s\n",
      "epoch 54 | loss: 0.01758 | val_0_mse: 0.01711999997496605|  0:00:15s\n",
      "epoch 55 | loss: 0.01757 | val_0_mse: 0.01713000051677227|  0:00:15s\n",
      "epoch 56 | loss: 0.01754 | val_0_mse: 0.017109999433159828|  0:00:16s\n",
      "epoch 57 | loss: 0.01753 | val_0_mse: 0.017100000753998756|  0:00:16s\n",
      "epoch 58 | loss: 0.01752 | val_0_mse: 0.017100000753998756|  0:00:16s\n",
      "epoch 59 | loss: 0.0176  | val_0_mse: 0.017100000753998756|  0:00:16s\n",
      "epoch 60 | loss: 0.01761 | val_0_mse: 0.017090000212192535|  0:00:17s\n",
      "epoch 61 | loss: 0.01751 | val_0_mse: 0.017069999128580093|  0:00:17s\n",
      "epoch 62 | loss: 0.01744 | val_0_mse: 0.017079999670386314|  0:00:17s\n",
      "epoch 63 | loss: 0.01745 | val_0_mse: 0.01706000044941902|  0:00:18s\n",
      "epoch 64 | loss: 0.01742 | val_0_mse: 0.017069999128580093|  0:00:18s\n",
      "epoch 65 | loss: 0.01748 | val_0_mse: 0.0170499999076128|  0:00:18s\n",
      "epoch 66 | loss: 0.01755 | val_0_mse: 0.01703999936580658|  0:00:18s\n",
      "epoch 67 | loss: 0.01747 | val_0_mse: 0.017069999128580093|  0:00:19s\n",
      "epoch 68 | loss: 0.01745 | val_0_mse: 0.017030000686645508|  0:00:19s\n",
      "epoch 69 | loss: 0.01753 | val_0_mse: 0.01703999936580658|  0:00:19s\n",
      "epoch 70 | loss: 0.01746 | val_0_mse: 0.017020000144839287|  0:00:19s\n",
      "epoch 71 | loss: 0.01742 | val_0_mse: 0.017030000686645508|  0:00:20s\n",
      "epoch 72 | loss: 0.01735 | val_0_mse: 0.017020000144839287|  0:00:20s\n",
      "epoch 73 | loss: 0.01756 | val_0_mse: 0.017009999603033066|  0:00:20s\n",
      "epoch 74 | loss: 0.01739 | val_0_mse: 0.017020000144839287|  0:00:20s\n",
      "epoch 75 | loss: 0.01742 | val_0_mse: 0.017020000144839287|  0:00:21s\n",
      "epoch 76 | loss: 0.0174  | val_0_mse: 0.017000000923871994|  0:00:21s\n",
      "epoch 77 | loss: 0.0173  | val_0_mse: 0.017000000923871994|  0:00:21s\n",
      "epoch 78 | loss: 0.01734 | val_0_mse: 0.016990000382065773|  0:00:22s\n",
      "epoch 79 | loss: 0.01731 | val_0_mse: 0.017000000923871994|  0:00:22s\n",
      "epoch 80 | loss: 0.01731 | val_0_mse: 0.016979999840259552|  0:00:22s\n",
      "epoch 81 | loss: 0.01735 | val_0_mse: 0.016990000382065773|  0:00:22s\n",
      "epoch 82 | loss: 0.0173  | val_0_mse: 0.016979999840259552|  0:00:23s\n",
      "epoch 83 | loss: 0.01742 | val_0_mse: 0.016979999840259552|  0:00:23s\n",
      "epoch 84 | loss: 0.01722 | val_0_mse: 0.016979999840259552|  0:00:23s\n",
      "epoch 85 | loss: 0.01726 | val_0_mse: 0.016979999840259552|  0:00:24s\n",
      "epoch 86 | loss: 0.01728 | val_0_mse: 0.016990000382065773|  0:00:24s\n",
      "epoch 87 | loss: 0.01735 | val_0_mse: 0.01696999929845333|  0:00:24s\n",
      "epoch 88 | loss: 0.01731 | val_0_mse: 0.01696999929845333|  0:00:24s\n",
      "epoch 89 | loss: 0.01737 | val_0_mse: 0.016979999840259552|  0:00:25s\n",
      "epoch 90 | loss: 0.01726 | val_0_mse: 0.016979999840259552|  0:00:25s\n",
      "epoch 91 | loss: 0.01735 | val_0_mse: 0.016979999840259552|  0:00:25s\n",
      "epoch 92 | loss: 0.01725 | val_0_mse: 0.016990000382065773|  0:00:25s\n",
      "epoch 93 | loss: 0.01714 | val_0_mse: 0.016979999840259552|  0:00:26s\n",
      "epoch 94 | loss: 0.01719 | val_0_mse: 0.01696999929845333|  0:00:26s\n",
      "epoch 95 | loss: 0.01735 | val_0_mse: 0.01696999929845333|  0:00:26s\n",
      "epoch 96 | loss: 0.01731 | val_0_mse: 0.016979999840259552|  0:00:26s\n",
      "epoch 97 | loss: 0.01728 | val_0_mse: 0.01696999929845333|  0:00:27s\n",
      "\n",
      "Early stopping occurred at epoch 97 with best_epoch = 87 and best_val_0_mse = 0.01696999929845333\n"
     ]
    },
    {
     "name": "stderr",
     "output_type": "stream",
     "text": [
      "/usr/local/lib/python3.10/dist-packages/pytorch_tabnet/callbacks.py:172: UserWarning: Best weights from best epoch are automatically used!\n",
      "  warnings.warn(wrn_msg)\n"
     ]
    }
   ],
   "source": [
    "from pytorch_tabnet.tab_model import TabNetRegressor\n",
    "\n",
    "X_train1 = X_train1.astype(np.float32)\n",
    "y_train1 = y_train1.astype(np.float32)\n",
    "X_val1 = X_val1.astype(np.float32)\n",
    "y_val1 = y_val1.astype(np.float32)\n",
    "\n",
    "X_test1 = X_test1.astype(np.float32)\n",
    "y_test1 = y_test1.astype(np.float32)\n",
    "\n",
    "if y_test1.ndim == 1:\n",
    "    y_test1 = y_test1.reshape(-1, 1)\n",
    "\n",
    "if y_train1.ndim == 1:\n",
    "    y_train1 = y_train1.reshape(-1, 1)\n",
    "if y_val1.ndim == 1:\n",
    "    y_val1 = y_val1.reshape(-1, 1)\n",
    "    \n",
    "model = TabNetRegressor()\n",
    "model.fit(X_train1, y_train1, eval_set=[(X_val1, y_val1)])\n",
    "preds = model.predict(X_test1)"
   ]
  }
 ],
 "metadata": {
  "kaggle": {
   "accelerator": "nvidiaTeslaT4",
   "dataSources": [
    {
     "datasetId": 6633633,
     "sourceId": 10703903,
     "sourceType": "datasetVersion"
    }
   ],
   "dockerImageVersionId": 30886,
   "isGpuEnabled": true,
   "isInternetEnabled": true,
   "language": "python",
   "sourceType": "notebook"
  },
  "kernelspec": {
   "display_name": "Python 3",
   "language": "python",
   "name": "python3"
  },
  "language_info": {
   "codemirror_mode": {
    "name": "ipython",
    "version": 3
   },
   "file_extension": ".py",
   "mimetype": "text/x-python",
   "name": "python",
   "nbconvert_exporter": "python",
   "pygments_lexer": "ipython3",
   "version": "3.10.12"
  },
  "papermill": {
   "default_parameters": {},
   "duration": 1283.952862,
   "end_time": "2025-02-15T00:37:29.697927",
   "environment_variables": {},
   "exception": null,
   "input_path": "__notebook__.ipynb",
   "output_path": "__notebook__.ipynb",
   "parameters": {},
   "start_time": "2025-02-15T00:16:05.745065",
   "version": "2.6.0"
  },
  "widgets": {
   "application/vnd.jupyter.widget-state+json": {
    "state": {
     "001a55cff45d4510a51884f4959b19d4": {
      "model_module": "@jupyter-widgets/controls",
      "model_module_version": "2.0.0",
      "model_name": "HTMLStyleModel",
      "state": {
       "_model_module": "@jupyter-widgets/controls",
       "_model_module_version": "2.0.0",
       "_model_name": "HTMLStyleModel",
       "_view_count": null,
       "_view_module": "@jupyter-widgets/base",
       "_view_module_version": "2.0.0",
       "_view_name": "StyleView",
       "background": null,
       "description_width": "",
       "font_size": null,
       "text_color": null
      }
     },
     "0481bdb03b294f32bf16a7fa9a2a71d7": {
      "model_module": "@jupyter-widgets/base",
      "model_module_version": "2.0.0",
      "model_name": "LayoutModel",
      "state": {
       "_model_module": "@jupyter-widgets/base",
       "_model_module_version": "2.0.0",
       "_model_name": "LayoutModel",
       "_view_count": null,
       "_view_module": "@jupyter-widgets/base",
       "_view_module_version": "2.0.0",
       "_view_name": "LayoutView",
       "align_content": null,
       "align_items": null,
       "align_self": null,
       "border_bottom": null,
       "border_left": null,
       "border_right": null,
       "border_top": null,
       "bottom": null,
       "display": null,
       "flex": null,
       "flex_flow": null,
       "grid_area": null,
       "grid_auto_columns": null,
       "grid_auto_flow": null,
       "grid_auto_rows": null,
       "grid_column": null,
       "grid_gap": null,
       "grid_row": null,
       "grid_template_areas": null,
       "grid_template_columns": null,
       "grid_template_rows": null,
       "height": null,
       "justify_content": null,
       "justify_items": null,
       "left": null,
       "margin": null,
       "max_height": null,
       "max_width": null,
       "min_height": null,
       "min_width": null,
       "object_fit": null,
       "object_position": null,
       "order": null,
       "overflow": null,
       "padding": null,
       "right": null,
       "top": null,
       "visibility": null,
       "width": null
      }
     },
     "056745ac49044438bddf8c7dc0cf648b": {
      "model_module": "@jupyter-widgets/base",
      "model_module_version": "2.0.0",
      "model_name": "LayoutModel",
      "state": {
       "_model_module": "@jupyter-widgets/base",
       "_model_module_version": "2.0.0",
       "_model_name": "LayoutModel",
       "_view_count": null,
       "_view_module": "@jupyter-widgets/base",
       "_view_module_version": "2.0.0",
       "_view_name": "LayoutView",
       "align_content": null,
       "align_items": null,
       "align_self": null,
       "border_bottom": null,
       "border_left": null,
       "border_right": null,
       "border_top": null,
       "bottom": null,
       "display": null,
       "flex": null,
       "flex_flow": null,
       "grid_area": null,
       "grid_auto_columns": null,
       "grid_auto_flow": null,
       "grid_auto_rows": null,
       "grid_column": null,
       "grid_gap": null,
       "grid_row": null,
       "grid_template_areas": null,
       "grid_template_columns": null,
       "grid_template_rows": null,
       "height": null,
       "justify_content": null,
       "justify_items": null,
       "left": null,
       "margin": null,
       "max_height": null,
       "max_width": null,
       "min_height": null,
       "min_width": null,
       "object_fit": null,
       "object_position": null,
       "order": null,
       "overflow": null,
       "padding": null,
       "right": null,
       "top": null,
       "visibility": null,
       "width": null
      }
     },
     "073d062dc840441c8d32da148ad25f51": {
      "model_module": "@jupyter-widgets/controls",
      "model_module_version": "2.0.0",
      "model_name": "HTMLStyleModel",
      "state": {
       "_model_module": "@jupyter-widgets/controls",
       "_model_module_version": "2.0.0",
       "_model_name": "HTMLStyleModel",
       "_view_count": null,
       "_view_module": "@jupyter-widgets/base",
       "_view_module_version": "2.0.0",
       "_view_name": "StyleView",
       "background": null,
       "description_width": "",
       "font_size": null,
       "text_color": null
      }
     },
     "0cacaa6a44c14dc6a2f83886b8cb9a9d": {
      "model_module": "@jupyter-widgets/controls",
      "model_module_version": "2.0.0",
      "model_name": "HTMLStyleModel",
      "state": {
       "_model_module": "@jupyter-widgets/controls",
       "_model_module_version": "2.0.0",
       "_model_name": "HTMLStyleModel",
       "_view_count": null,
       "_view_module": "@jupyter-widgets/base",
       "_view_module_version": "2.0.0",
       "_view_name": "StyleView",
       "background": null,
       "description_width": "",
       "font_size": null,
       "text_color": null
      }
     },
     "0d444caaa9d94de498252189ca24d18a": {
      "model_module": "@jupyter-widgets/controls",
      "model_module_version": "2.0.0",
      "model_name": "HTMLModel",
      "state": {
       "_dom_classes": [],
       "_model_module": "@jupyter-widgets/controls",
       "_model_module_version": "2.0.0",
       "_model_name": "HTMLModel",
       "_view_count": null,
       "_view_module": "@jupyter-widgets/controls",
       "_view_module_version": "2.0.0",
       "_view_name": "HTMLView",
       "description": "",
       "description_allow_html": false,
       "layout": "IPY_MODEL_21f566026f444c4880dc2534e9f37c37",
       "placeholder": "​",
       "style": "IPY_MODEL_073d062dc840441c8d32da148ad25f51",
       "tabbable": null,
       "tooltip": null,
       "value": ""
      }
     },
     "174f66ad2ce240e8b6de41a36f93c2ef": {
      "model_module": "@jupyter-widgets/controls",
      "model_module_version": "2.0.0",
      "model_name": "HTMLStyleModel",
      "state": {
       "_model_module": "@jupyter-widgets/controls",
       "_model_module_version": "2.0.0",
       "_model_name": "HTMLStyleModel",
       "_view_count": null,
       "_view_module": "@jupyter-widgets/base",
       "_view_module_version": "2.0.0",
       "_view_name": "StyleView",
       "background": null,
       "description_width": "",
       "font_size": null,
       "text_color": null
      }
     },
     "21f566026f444c4880dc2534e9f37c37": {
      "model_module": "@jupyter-widgets/base",
      "model_module_version": "2.0.0",
      "model_name": "LayoutModel",
      "state": {
       "_model_module": "@jupyter-widgets/base",
       "_model_module_version": "2.0.0",
       "_model_name": "LayoutModel",
       "_view_count": null,
       "_view_module": "@jupyter-widgets/base",
       "_view_module_version": "2.0.0",
       "_view_name": "LayoutView",
       "align_content": null,
       "align_items": null,
       "align_self": null,
       "border_bottom": null,
       "border_left": null,
       "border_right": null,
       "border_top": null,
       "bottom": null,
       "display": null,
       "flex": null,
       "flex_flow": null,
       "grid_area": null,
       "grid_auto_columns": null,
       "grid_auto_flow": null,
       "grid_auto_rows": null,
       "grid_column": null,
       "grid_gap": null,
       "grid_row": null,
       "grid_template_areas": null,
       "grid_template_columns": null,
       "grid_template_rows": null,
       "height": null,
       "justify_content": null,
       "justify_items": null,
       "left": null,
       "margin": null,
       "max_height": null,
       "max_width": null,
       "min_height": null,
       "min_width": null,
       "object_fit": null,
       "object_position": null,
       "order": null,
       "overflow": null,
       "padding": null,
       "right": null,
       "top": null,
       "visibility": null,
       "width": null
      }
     },
     "2c97c2182e004c6c8f48120dbec12a3b": {
      "model_module": "@jupyter-widgets/base",
      "model_module_version": "2.0.0",
      "model_name": "LayoutModel",
      "state": {
       "_model_module": "@jupyter-widgets/base",
       "_model_module_version": "2.0.0",
       "_model_name": "LayoutModel",
       "_view_count": null,
       "_view_module": "@jupyter-widgets/base",
       "_view_module_version": "2.0.0",
       "_view_name": "LayoutView",
       "align_content": null,
       "align_items": null,
       "align_self": null,
       "border_bottom": null,
       "border_left": null,
       "border_right": null,
       "border_top": null,
       "bottom": null,
       "display": null,
       "flex": null,
       "flex_flow": null,
       "grid_area": null,
       "grid_auto_columns": null,
       "grid_auto_flow": null,
       "grid_auto_rows": null,
       "grid_column": null,
       "grid_gap": null,
       "grid_row": null,
       "grid_template_areas": null,
       "grid_template_columns": null,
       "grid_template_rows": null,
       "height": null,
       "justify_content": null,
       "justify_items": null,
       "left": null,
       "margin": null,
       "max_height": null,
       "max_width": null,
       "min_height": null,
       "min_width": null,
       "object_fit": null,
       "object_position": null,
       "order": null,
       "overflow": null,
       "padding": null,
       "right": null,
       "top": null,
       "visibility": null,
       "width": null
      }
     },
     "2ca06d7c1da041cd841bd00561edf457": {
      "model_module": "@jupyter-widgets/base",
      "model_module_version": "2.0.0",
      "model_name": "LayoutModel",
      "state": {
       "_model_module": "@jupyter-widgets/base",
       "_model_module_version": "2.0.0",
       "_model_name": "LayoutModel",
       "_view_count": null,
       "_view_module": "@jupyter-widgets/base",
       "_view_module_version": "2.0.0",
       "_view_name": "LayoutView",
       "align_content": null,
       "align_items": null,
       "align_self": null,
       "border_bottom": null,
       "border_left": null,
       "border_right": null,
       "border_top": null,
       "bottom": null,
       "display": null,
       "flex": null,
       "flex_flow": null,
       "grid_area": null,
       "grid_auto_columns": null,
       "grid_auto_flow": null,
       "grid_auto_rows": null,
       "grid_column": null,
       "grid_gap": null,
       "grid_row": null,
       "grid_template_areas": null,
       "grid_template_columns": null,
       "grid_template_rows": null,
       "height": null,
       "justify_content": null,
       "justify_items": null,
       "left": null,
       "margin": null,
       "max_height": null,
       "max_width": null,
       "min_height": null,
       "min_width": null,
       "object_fit": null,
       "object_position": null,
       "order": null,
       "overflow": null,
       "padding": null,
       "right": null,
       "top": null,
       "visibility": null,
       "width": null
      }
     },
     "3b773f495158450184cf7993571e7ea0": {
      "model_module": "@jupyter-widgets/controls",
      "model_module_version": "2.0.0",
      "model_name": "FloatProgressModel",
      "state": {
       "_dom_classes": [],
       "_model_module": "@jupyter-widgets/controls",
       "_model_module_version": "2.0.0",
       "_model_name": "FloatProgressModel",
       "_view_count": null,
       "_view_module": "@jupyter-widgets/controls",
       "_view_module_version": "2.0.0",
       "_view_name": "ProgressView",
       "bar_style": "success",
       "description": "",
       "description_allow_html": false,
       "layout": "IPY_MODEL_b9acd667eee44b71b0432ded621a57c1",
       "max": 1.0,
       "min": 0.0,
       "orientation": "horizontal",
       "style": "IPY_MODEL_dc95b98b1d8d4b7aa8dd0f96cdab9409",
       "tabbable": null,
       "tooltip": null,
       "value": 0.0
      }
     },
     "8479c9a2062b483b8222b18406fa7122": {
      "model_module": "@jupyter-widgets/controls",
      "model_module_version": "2.0.0",
      "model_name": "HTMLModel",
      "state": {
       "_dom_classes": [],
       "_model_module": "@jupyter-widgets/controls",
       "_model_module_version": "2.0.0",
       "_model_name": "HTMLModel",
       "_view_count": null,
       "_view_module": "@jupyter-widgets/controls",
       "_view_module_version": "2.0.0",
       "_view_name": "HTMLView",
       "description": "",
       "description_allow_html": false,
       "layout": "IPY_MODEL_056745ac49044438bddf8c7dc0cf648b",
       "placeholder": "​",
       "style": "IPY_MODEL_174f66ad2ce240e8b6de41a36f93c2ef",
       "tabbable": null,
       "tooltip": null,
       "value": " 102M/102M [00:00&lt;00:00, 218MB/s]"
      }
     },
     "8a6b1b2715554cbb901d8f871ff04415": {
      "model_module": "@jupyter-widgets/base",
      "model_module_version": "2.0.0",
      "model_name": "LayoutModel",
      "state": {
       "_model_module": "@jupyter-widgets/base",
       "_model_module_version": "2.0.0",
       "_model_name": "LayoutModel",
       "_view_count": null,
       "_view_module": "@jupyter-widgets/base",
       "_view_module_version": "2.0.0",
       "_view_name": "LayoutView",
       "align_content": null,
       "align_items": null,
       "align_self": null,
       "border_bottom": null,
       "border_left": null,
       "border_right": null,
       "border_top": null,
       "bottom": null,
       "display": null,
       "flex": null,
       "flex_flow": null,
       "grid_area": null,
       "grid_auto_columns": null,
       "grid_auto_flow": null,
       "grid_auto_rows": null,
       "grid_column": null,
       "grid_gap": null,
       "grid_row": null,
       "grid_template_areas": null,
       "grid_template_columns": null,
       "grid_template_rows": null,
       "height": null,
       "justify_content": null,
       "justify_items": null,
       "left": null,
       "margin": null,
       "max_height": null,
       "max_width": null,
       "min_height": null,
       "min_width": null,
       "object_fit": null,
       "object_position": null,
       "order": null,
       "overflow": null,
       "padding": null,
       "right": null,
       "top": null,
       "visibility": null,
       "width": null
      }
     },
     "9b507bde78454437b6fdc7b368914a64": {
      "model_module": "@jupyter-widgets/base",
      "model_module_version": "2.0.0",
      "model_name": "LayoutModel",
      "state": {
       "_model_module": "@jupyter-widgets/base",
       "_model_module_version": "2.0.0",
       "_model_name": "LayoutModel",
       "_view_count": null,
       "_view_module": "@jupyter-widgets/base",
       "_view_module_version": "2.0.0",
       "_view_name": "LayoutView",
       "align_content": null,
       "align_items": null,
       "align_self": null,
       "border_bottom": null,
       "border_left": null,
       "border_right": null,
       "border_top": null,
       "bottom": null,
       "display": null,
       "flex": null,
       "flex_flow": null,
       "grid_area": null,
       "grid_auto_columns": null,
       "grid_auto_flow": null,
       "grid_auto_rows": null,
       "grid_column": null,
       "grid_gap": null,
       "grid_row": null,
       "grid_template_areas": null,
       "grid_template_columns": null,
       "grid_template_rows": null,
       "height": null,
       "justify_content": null,
       "justify_items": null,
       "left": null,
       "margin": null,
       "max_height": null,
       "max_width": null,
       "min_height": null,
       "min_width": null,
       "object_fit": null,
       "object_position": null,
       "order": null,
       "overflow": null,
       "padding": null,
       "right": null,
       "top": null,
       "visibility": null,
       "width": null
      }
     },
     "b57add016a6e4d45b69bfc5c1dcf00b9": {
      "model_module": "@jupyter-widgets/controls",
      "model_module_version": "2.0.0",
      "model_name": "HTMLModel",
      "state": {
       "_dom_classes": [],
       "_model_module": "@jupyter-widgets/controls",
       "_model_module_version": "2.0.0",
       "_model_name": "HTMLModel",
       "_view_count": null,
       "_view_module": "@jupyter-widgets/controls",
       "_view_module_version": "2.0.0",
       "_view_name": "HTMLView",
       "description": "",
       "description_allow_html": false,
       "layout": "IPY_MODEL_2ca06d7c1da041cd841bd00561edf457",
       "placeholder": "​",
       "style": "IPY_MODEL_0cacaa6a44c14dc6a2f83886b8cb9a9d",
       "tabbable": null,
       "tooltip": null,
       "value": "model.safetensors: 100%"
      }
     },
     "b9acd667eee44b71b0432ded621a57c1": {
      "model_module": "@jupyter-widgets/base",
      "model_module_version": "2.0.0",
      "model_name": "LayoutModel",
      "state": {
       "_model_module": "@jupyter-widgets/base",
       "_model_module_version": "2.0.0",
       "_model_name": "LayoutModel",
       "_view_count": null,
       "_view_module": "@jupyter-widgets/base",
       "_view_module_version": "2.0.0",
       "_view_name": "LayoutView",
       "align_content": null,
       "align_items": null,
       "align_self": null,
       "border_bottom": null,
       "border_left": null,
       "border_right": null,
       "border_top": null,
       "bottom": null,
       "display": null,
       "flex": null,
       "flex_flow": null,
       "grid_area": null,
       "grid_auto_columns": null,
       "grid_auto_flow": null,
       "grid_auto_rows": null,
       "grid_column": null,
       "grid_gap": null,
       "grid_row": null,
       "grid_template_areas": null,
       "grid_template_columns": null,
       "grid_template_rows": null,
       "height": null,
       "justify_content": null,
       "justify_items": null,
       "left": null,
       "margin": null,
       "max_height": null,
       "max_width": null,
       "min_height": null,
       "min_width": null,
       "object_fit": null,
       "object_position": null,
       "order": null,
       "overflow": null,
       "padding": null,
       "right": null,
       "top": null,
       "visibility": null,
       "width": "20px"
      }
     },
     "c389364a91cc45bcbd554fe4a2a9ef74": {
      "model_module": "@jupyter-widgets/controls",
      "model_module_version": "2.0.0",
      "model_name": "HTMLModel",
      "state": {
       "_dom_classes": [],
       "_model_module": "@jupyter-widgets/controls",
       "_model_module_version": "2.0.0",
       "_model_name": "HTMLModel",
       "_view_count": null,
       "_view_module": "@jupyter-widgets/controls",
       "_view_module_version": "2.0.0",
       "_view_name": "HTMLView",
       "description": "",
       "description_allow_html": false,
       "layout": "IPY_MODEL_0481bdb03b294f32bf16a7fa9a2a71d7",
       "placeholder": "​",
       "style": "IPY_MODEL_001a55cff45d4510a51884f4959b19d4",
       "tabbable": null,
       "tooltip": null,
       "value": " 0/0 [00:00&lt;?, ?it/s]"
      }
     },
     "ceb311e49c904ec8b51d63cdd1218f0f": {
      "model_module": "@jupyter-widgets/controls",
      "model_module_version": "2.0.0",
      "model_name": "ProgressStyleModel",
      "state": {
       "_model_module": "@jupyter-widgets/controls",
       "_model_module_version": "2.0.0",
       "_model_name": "ProgressStyleModel",
       "_view_count": null,
       "_view_module": "@jupyter-widgets/base",
       "_view_module_version": "2.0.0",
       "_view_name": "StyleView",
       "bar_color": null,
       "description_width": ""
      }
     },
     "dc95b98b1d8d4b7aa8dd0f96cdab9409": {
      "model_module": "@jupyter-widgets/controls",
      "model_module_version": "2.0.0",
      "model_name": "ProgressStyleModel",
      "state": {
       "_model_module": "@jupyter-widgets/controls",
       "_model_module_version": "2.0.0",
       "_model_name": "ProgressStyleModel",
       "_view_count": null,
       "_view_module": "@jupyter-widgets/base",
       "_view_module_version": "2.0.0",
       "_view_name": "StyleView",
       "bar_color": null,
       "description_width": ""
      }
     },
     "eb4cfb1a9eaf4677ba1747835dd8e7da": {
      "model_module": "@jupyter-widgets/controls",
      "model_module_version": "2.0.0",
      "model_name": "HBoxModel",
      "state": {
       "_dom_classes": [],
       "_model_module": "@jupyter-widgets/controls",
       "_model_module_version": "2.0.0",
       "_model_name": "HBoxModel",
       "_view_count": null,
       "_view_module": "@jupyter-widgets/controls",
       "_view_module_version": "2.0.0",
       "_view_name": "HBoxView",
       "box_style": "",
       "children": [
        "IPY_MODEL_b57add016a6e4d45b69bfc5c1dcf00b9",
        "IPY_MODEL_fd3bd25c5aa24aae9424240bfc0fe85b",
        "IPY_MODEL_8479c9a2062b483b8222b18406fa7122"
       ],
       "layout": "IPY_MODEL_9b507bde78454437b6fdc7b368914a64",
       "tabbable": null,
       "tooltip": null
      }
     },
     "fb7b1b7fff084eb280cf1f9673dab614": {
      "model_module": "@jupyter-widgets/controls",
      "model_module_version": "2.0.0",
      "model_name": "HBoxModel",
      "state": {
       "_dom_classes": [],
       "_model_module": "@jupyter-widgets/controls",
       "_model_module_version": "2.0.0",
       "_model_name": "HBoxModel",
       "_view_count": null,
       "_view_module": "@jupyter-widgets/controls",
       "_view_module_version": "2.0.0",
       "_view_name": "HBoxView",
       "box_style": "",
       "children": [
        "IPY_MODEL_0d444caaa9d94de498252189ca24d18a",
        "IPY_MODEL_3b773f495158450184cf7993571e7ea0",
        "IPY_MODEL_c389364a91cc45bcbd554fe4a2a9ef74"
       ],
       "layout": "IPY_MODEL_2c97c2182e004c6c8f48120dbec12a3b",
       "tabbable": null,
       "tooltip": null
      }
     },
     "fd3bd25c5aa24aae9424240bfc0fe85b": {
      "model_module": "@jupyter-widgets/controls",
      "model_module_version": "2.0.0",
      "model_name": "FloatProgressModel",
      "state": {
       "_dom_classes": [],
       "_model_module": "@jupyter-widgets/controls",
       "_model_module_version": "2.0.0",
       "_model_name": "FloatProgressModel",
       "_view_count": null,
       "_view_module": "@jupyter-widgets/controls",
       "_view_module_version": "2.0.0",
       "_view_name": "ProgressView",
       "bar_style": "success",
       "description": "",
       "description_allow_html": false,
       "layout": "IPY_MODEL_8a6b1b2715554cbb901d8f871ff04415",
       "max": 102469840.0,
       "min": 0.0,
       "orientation": "horizontal",
       "style": "IPY_MODEL_ceb311e49c904ec8b51d63cdd1218f0f",
       "tabbable": null,
       "tooltip": null,
       "value": 102469840.0
      }
     }
    },
    "version_major": 2,
    "version_minor": 0
   }
  }
 },
 "nbformat": 4,
 "nbformat_minor": 5
}
