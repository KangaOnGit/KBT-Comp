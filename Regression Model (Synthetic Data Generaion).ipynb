{
 "cells": [
  {
   "cell_type": "markdown",
   "id": "68f9daa7",
   "metadata": {
    "papermill": {
     "duration": 0.005605,
     "end_time": "2025-02-15T11:35:49.452961",
     "exception": false,
     "start_time": "2025-02-15T11:35:49.447356",
     "status": "completed"
    },
    "tags": []
   },
   "source": [
    "# **Libraries**"
   ]
  },
  {
   "cell_type": "code",
   "execution_count": 1,
   "id": "dc62f557",
   "metadata": {
    "execution": {
     "iopub.execute_input": "2025-02-15T11:35:49.464052Z",
     "iopub.status.busy": "2025-02-15T11:35:49.463727Z",
     "iopub.status.idle": "2025-02-15T11:35:54.228162Z",
     "shell.execute_reply": "2025-02-15T11:35:54.227261Z"
    },
    "papermill": {
     "duration": 4.771996,
     "end_time": "2025-02-15T11:35:54.230285",
     "exception": false,
     "start_time": "2025-02-15T11:35:49.458289",
     "status": "completed"
    },
    "scrolled": true,
    "tags": []
   },
   "outputs": [
    {
     "name": "stdout",
     "output_type": "stream",
     "text": [
      "Requirement already satisfied: timm in /usr/local/lib/python3.10/dist-packages (1.0.12)\r\n",
      "Requirement already satisfied: torch in /usr/local/lib/python3.10/dist-packages (from timm) (2.5.1+cu121)\r\n",
      "Requirement already satisfied: torchvision in /usr/local/lib/python3.10/dist-packages (from timm) (0.20.1+cu121)\r\n",
      "Requirement already satisfied: pyyaml in /usr/local/lib/python3.10/dist-packages (from timm) (6.0.2)\r\n",
      "Requirement already satisfied: huggingface_hub in /usr/local/lib/python3.10/dist-packages (from timm) (0.28.1)\r\n",
      "Requirement already satisfied: safetensors in /usr/local/lib/python3.10/dist-packages (from timm) (0.4.5)\r\n",
      "Requirement already satisfied: filelock in /usr/local/lib/python3.10/dist-packages (from huggingface_hub->timm) (3.17.0)\r\n",
      "Requirement already satisfied: fsspec>=2023.5.0 in /usr/local/lib/python3.10/dist-packages (from huggingface_hub->timm) (2024.9.0)\r\n",
      "Requirement already satisfied: packaging>=20.9 in /usr/local/lib/python3.10/dist-packages (from huggingface_hub->timm) (24.2)\r\n",
      "Requirement already satisfied: requests in /usr/local/lib/python3.10/dist-packages (from huggingface_hub->timm) (2.32.3)\r\n",
      "Requirement already satisfied: tqdm>=4.42.1 in /usr/local/lib/python3.10/dist-packages (from huggingface_hub->timm) (4.67.1)\r\n",
      "Requirement already satisfied: typing-extensions>=3.7.4.3 in /usr/local/lib/python3.10/dist-packages (from huggingface_hub->timm) (4.12.2)\r\n",
      "Requirement already satisfied: networkx in /usr/local/lib/python3.10/dist-packages (from torch->timm) (3.4.2)\r\n",
      "Requirement already satisfied: jinja2 in /usr/local/lib/python3.10/dist-packages (from torch->timm) (3.1.4)\r\n",
      "Requirement already satisfied: sympy==1.13.1 in /usr/local/lib/python3.10/dist-packages (from torch->timm) (1.13.1)\r\n",
      "Requirement already satisfied: mpmath<1.4,>=1.1.0 in /usr/local/lib/python3.10/dist-packages (from sympy==1.13.1->torch->timm) (1.3.0)\r\n",
      "Requirement already satisfied: numpy in /usr/local/lib/python3.10/dist-packages (from torchvision->timm) (1.26.4)\r\n",
      "Requirement already satisfied: pillow!=8.3.*,>=5.3.0 in /usr/local/lib/python3.10/dist-packages (from torchvision->timm) (11.0.0)\r\n",
      "Requirement already satisfied: MarkupSafe>=2.0 in /usr/local/lib/python3.10/dist-packages (from jinja2->torch->timm) (3.0.2)\r\n",
      "Requirement already satisfied: mkl_fft in /usr/local/lib/python3.10/dist-packages (from numpy->torchvision->timm) (1.3.8)\r\n",
      "Requirement already satisfied: mkl_random in /usr/local/lib/python3.10/dist-packages (from numpy->torchvision->timm) (1.2.4)\r\n",
      "Requirement already satisfied: mkl_umath in /usr/local/lib/python3.10/dist-packages (from numpy->torchvision->timm) (0.1.1)\r\n",
      "Requirement already satisfied: mkl in /usr/local/lib/python3.10/dist-packages (from numpy->torchvision->timm) (2025.0.1)\r\n",
      "Requirement already satisfied: tbb4py in /usr/local/lib/python3.10/dist-packages (from numpy->torchvision->timm) (2022.0.0)\r\n",
      "Requirement already satisfied: mkl-service in /usr/local/lib/python3.10/dist-packages (from numpy->torchvision->timm) (2.4.1)\r\n",
      "Requirement already satisfied: charset-normalizer<4,>=2 in /usr/local/lib/python3.10/dist-packages (from requests->huggingface_hub->timm) (3.4.1)\r\n",
      "Requirement already satisfied: idna<4,>=2.5 in /usr/local/lib/python3.10/dist-packages (from requests->huggingface_hub->timm) (3.10)\r\n",
      "Requirement already satisfied: urllib3<3,>=1.21.1 in /usr/local/lib/python3.10/dist-packages (from requests->huggingface_hub->timm) (2.3.0)\r\n",
      "Requirement already satisfied: certifi>=2017.4.17 in /usr/local/lib/python3.10/dist-packages (from requests->huggingface_hub->timm) (2025.1.31)\r\n",
      "Requirement already satisfied: intel-openmp>=2024 in /usr/local/lib/python3.10/dist-packages (from mkl->numpy->torchvision->timm) (2024.2.0)\r\n",
      "Requirement already satisfied: tbb==2022.* in /usr/local/lib/python3.10/dist-packages (from mkl->numpy->torchvision->timm) (2022.0.0)\r\n",
      "Requirement already satisfied: tcmlib==1.* in /usr/local/lib/python3.10/dist-packages (from tbb==2022.*->mkl->numpy->torchvision->timm) (1.2.0)\r\n",
      "Requirement already satisfied: intel-cmplr-lib-rt in /usr/local/lib/python3.10/dist-packages (from mkl_umath->numpy->torchvision->timm) (2024.2.0)\r\n",
      "Requirement already satisfied: intel-cmplr-lib-ur==2024.2.0 in /usr/local/lib/python3.10/dist-packages (from intel-openmp>=2024->mkl->numpy->torchvision->timm) (2024.2.0)\r\n"
     ]
    }
   ],
   "source": [
    "!pip install timm"
   ]
  },
  {
   "cell_type": "code",
   "execution_count": 2,
   "id": "d7a80ba3",
   "metadata": {
    "execution": {
     "iopub.execute_input": "2025-02-15T11:35:54.241700Z",
     "iopub.status.busy": "2025-02-15T11:35:54.241459Z",
     "iopub.status.idle": "2025-02-15T11:35:57.856172Z",
     "shell.execute_reply": "2025-02-15T11:35:57.855297Z"
    },
    "papermill": {
     "duration": 3.622069,
     "end_time": "2025-02-15T11:35:57.857736",
     "exception": false,
     "start_time": "2025-02-15T11:35:54.235667",
     "status": "completed"
    },
    "scrolled": true,
    "tags": []
   },
   "outputs": [
    {
     "name": "stdout",
     "output_type": "stream",
     "text": [
      "Collecting pytorch_tabnet\r\n",
      "  Downloading pytorch_tabnet-4.1.0-py3-none-any.whl.metadata (15 kB)\r\n",
      "Requirement already satisfied: numpy>=1.17 in /usr/local/lib/python3.10/dist-packages (from pytorch_tabnet) (1.26.4)\r\n",
      "Requirement already satisfied: scikit_learn>0.21 in /usr/local/lib/python3.10/dist-packages (from pytorch_tabnet) (1.2.2)\r\n",
      "Requirement already satisfied: scipy>1.4 in /usr/local/lib/python3.10/dist-packages (from pytorch_tabnet) (1.13.1)\r\n",
      "Requirement already satisfied: torch>=1.3 in /usr/local/lib/python3.10/dist-packages (from pytorch_tabnet) (2.5.1+cu121)\r\n",
      "Requirement already satisfied: tqdm>=4.36 in /usr/local/lib/python3.10/dist-packages (from pytorch_tabnet) (4.67.1)\r\n",
      "Requirement already satisfied: mkl_fft in /usr/local/lib/python3.10/dist-packages (from numpy>=1.17->pytorch_tabnet) (1.3.8)\r\n",
      "Requirement already satisfied: mkl_random in /usr/local/lib/python3.10/dist-packages (from numpy>=1.17->pytorch_tabnet) (1.2.4)\r\n",
      "Requirement already satisfied: mkl_umath in /usr/local/lib/python3.10/dist-packages (from numpy>=1.17->pytorch_tabnet) (0.1.1)\r\n",
      "Requirement already satisfied: mkl in /usr/local/lib/python3.10/dist-packages (from numpy>=1.17->pytorch_tabnet) (2025.0.1)\r\n",
      "Requirement already satisfied: tbb4py in /usr/local/lib/python3.10/dist-packages (from numpy>=1.17->pytorch_tabnet) (2022.0.0)\r\n",
      "Requirement already satisfied: mkl-service in /usr/local/lib/python3.10/dist-packages (from numpy>=1.17->pytorch_tabnet) (2.4.1)\r\n",
      "Requirement already satisfied: joblib>=1.1.1 in /usr/local/lib/python3.10/dist-packages (from scikit_learn>0.21->pytorch_tabnet) (1.4.2)\r\n",
      "Requirement already satisfied: threadpoolctl>=2.0.0 in /usr/local/lib/python3.10/dist-packages (from scikit_learn>0.21->pytorch_tabnet) (3.5.0)\r\n",
      "Requirement already satisfied: filelock in /usr/local/lib/python3.10/dist-packages (from torch>=1.3->pytorch_tabnet) (3.17.0)\r\n",
      "Requirement already satisfied: typing-extensions>=4.8.0 in /usr/local/lib/python3.10/dist-packages (from torch>=1.3->pytorch_tabnet) (4.12.2)\r\n",
      "Requirement already satisfied: networkx in /usr/local/lib/python3.10/dist-packages (from torch>=1.3->pytorch_tabnet) (3.4.2)\r\n",
      "Requirement already satisfied: jinja2 in /usr/local/lib/python3.10/dist-packages (from torch>=1.3->pytorch_tabnet) (3.1.4)\r\n",
      "Requirement already satisfied: fsspec in /usr/local/lib/python3.10/dist-packages (from torch>=1.3->pytorch_tabnet) (2024.9.0)\r\n",
      "Requirement already satisfied: sympy==1.13.1 in /usr/local/lib/python3.10/dist-packages (from torch>=1.3->pytorch_tabnet) (1.13.1)\r\n",
      "Requirement already satisfied: mpmath<1.4,>=1.1.0 in /usr/local/lib/python3.10/dist-packages (from sympy==1.13.1->torch>=1.3->pytorch_tabnet) (1.3.0)\r\n",
      "Requirement already satisfied: MarkupSafe>=2.0 in /usr/local/lib/python3.10/dist-packages (from jinja2->torch>=1.3->pytorch_tabnet) (3.0.2)\r\n",
      "Requirement already satisfied: intel-openmp>=2024 in /usr/local/lib/python3.10/dist-packages (from mkl->numpy>=1.17->pytorch_tabnet) (2024.2.0)\r\n",
      "Requirement already satisfied: tbb==2022.* in /usr/local/lib/python3.10/dist-packages (from mkl->numpy>=1.17->pytorch_tabnet) (2022.0.0)\r\n",
      "Requirement already satisfied: tcmlib==1.* in /usr/local/lib/python3.10/dist-packages (from tbb==2022.*->mkl->numpy>=1.17->pytorch_tabnet) (1.2.0)\r\n",
      "Requirement already satisfied: intel-cmplr-lib-rt in /usr/local/lib/python3.10/dist-packages (from mkl_umath->numpy>=1.17->pytorch_tabnet) (2024.2.0)\r\n",
      "Requirement already satisfied: intel-cmplr-lib-ur==2024.2.0 in /usr/local/lib/python3.10/dist-packages (from intel-openmp>=2024->mkl->numpy>=1.17->pytorch_tabnet) (2024.2.0)\r\n",
      "Downloading pytorch_tabnet-4.1.0-py3-none-any.whl (44 kB)\r\n",
      "\u001b[2K   \u001b[90m━━━━━━━━━━━━━━━━━━━━━━━━━━━━━━━━━━━━━━━━\u001b[0m \u001b[32m44.5/44.5 kB\u001b[0m \u001b[31m1.6 MB/s\u001b[0m eta \u001b[36m0:00:00\u001b[0m\r\n",
      "\u001b[?25hInstalling collected packages: pytorch_tabnet\r\n",
      "Successfully installed pytorch_tabnet-4.1.0\r\n"
     ]
    }
   ],
   "source": [
    "!pip install pytorch_tabnet"
   ]
  },
  {
   "cell_type": "code",
   "execution_count": 3,
   "id": "e4c0a6a7",
   "metadata": {
    "execution": {
     "iopub.execute_input": "2025-02-15T11:35:57.870349Z",
     "iopub.status.busy": "2025-02-15T11:35:57.870092Z",
     "iopub.status.idle": "2025-02-15T11:36:01.718345Z",
     "shell.execute_reply": "2025-02-15T11:36:01.717198Z"
    },
    "papermill": {
     "duration": 3.856124,
     "end_time": "2025-02-15T11:36:01.719907",
     "exception": false,
     "start_time": "2025-02-15T11:35:57.863783",
     "status": "completed"
    },
    "tags": []
   },
   "outputs": [
    {
     "name": "stdout",
     "output_type": "stream",
     "text": [
      "Collecting evaluate\r\n",
      "  Downloading evaluate-0.4.3-py3-none-any.whl.metadata (9.2 kB)\r\n",
      "Requirement already satisfied: datasets>=2.0.0 in /usr/local/lib/python3.10/dist-packages (from evaluate) (3.2.0)\r\n",
      "Requirement already satisfied: numpy>=1.17 in /usr/local/lib/python3.10/dist-packages (from evaluate) (1.26.4)\r\n",
      "Requirement already satisfied: dill in /usr/local/lib/python3.10/dist-packages (from evaluate) (0.3.8)\r\n",
      "Requirement already satisfied: pandas in /usr/local/lib/python3.10/dist-packages (from evaluate) (2.2.3)\r\n",
      "Requirement already satisfied: requests>=2.19.0 in /usr/local/lib/python3.10/dist-packages (from evaluate) (2.32.3)\r\n",
      "Requirement already satisfied: tqdm>=4.62.1 in /usr/local/lib/python3.10/dist-packages (from evaluate) (4.67.1)\r\n",
      "Requirement already satisfied: xxhash in /usr/local/lib/python3.10/dist-packages (from evaluate) (3.5.0)\r\n",
      "Requirement already satisfied: multiprocess in /usr/local/lib/python3.10/dist-packages (from evaluate) (0.70.16)\r\n",
      "Requirement already satisfied: fsspec>=2021.05.0 in /usr/local/lib/python3.10/dist-packages (from fsspec[http]>=2021.05.0->evaluate) (2024.9.0)\r\n",
      "Requirement already satisfied: huggingface-hub>=0.7.0 in /usr/local/lib/python3.10/dist-packages (from evaluate) (0.28.1)\r\n",
      "Requirement already satisfied: packaging in /usr/local/lib/python3.10/dist-packages (from evaluate) (24.2)\r\n",
      "Requirement already satisfied: filelock in /usr/local/lib/python3.10/dist-packages (from datasets>=2.0.0->evaluate) (3.17.0)\r\n",
      "Requirement already satisfied: pyarrow>=15.0.0 in /usr/local/lib/python3.10/dist-packages (from datasets>=2.0.0->evaluate) (19.0.0)\r\n",
      "Requirement already satisfied: aiohttp in /usr/local/lib/python3.10/dist-packages (from datasets>=2.0.0->evaluate) (3.11.11)\r\n",
      "Requirement already satisfied: pyyaml>=5.1 in /usr/local/lib/python3.10/dist-packages (from datasets>=2.0.0->evaluate) (6.0.2)\r\n",
      "Requirement already satisfied: typing-extensions>=3.7.4.3 in /usr/local/lib/python3.10/dist-packages (from huggingface-hub>=0.7.0->evaluate) (4.12.2)\r\n",
      "Requirement already satisfied: mkl_fft in /usr/local/lib/python3.10/dist-packages (from numpy>=1.17->evaluate) (1.3.8)\r\n",
      "Requirement already satisfied: mkl_random in /usr/local/lib/python3.10/dist-packages (from numpy>=1.17->evaluate) (1.2.4)\r\n",
      "Requirement already satisfied: mkl_umath in /usr/local/lib/python3.10/dist-packages (from numpy>=1.17->evaluate) (0.1.1)\r\n",
      "Requirement already satisfied: mkl in /usr/local/lib/python3.10/dist-packages (from numpy>=1.17->evaluate) (2025.0.1)\r\n",
      "Requirement already satisfied: tbb4py in /usr/local/lib/python3.10/dist-packages (from numpy>=1.17->evaluate) (2022.0.0)\r\n",
      "Requirement already satisfied: mkl-service in /usr/local/lib/python3.10/dist-packages (from numpy>=1.17->evaluate) (2.4.1)\r\n",
      "Requirement already satisfied: charset-normalizer<4,>=2 in /usr/local/lib/python3.10/dist-packages (from requests>=2.19.0->evaluate) (3.4.1)\r\n",
      "Requirement already satisfied: idna<4,>=2.5 in /usr/local/lib/python3.10/dist-packages (from requests>=2.19.0->evaluate) (3.10)\r\n",
      "Requirement already satisfied: urllib3<3,>=1.21.1 in /usr/local/lib/python3.10/dist-packages (from requests>=2.19.0->evaluate) (2.3.0)\r\n",
      "Requirement already satisfied: certifi>=2017.4.17 in /usr/local/lib/python3.10/dist-packages (from requests>=2.19.0->evaluate) (2025.1.31)\r\n",
      "Requirement already satisfied: python-dateutil>=2.8.2 in /usr/local/lib/python3.10/dist-packages (from pandas->evaluate) (2.9.0.post0)\r\n",
      "Requirement already satisfied: pytz>=2020.1 in /usr/local/lib/python3.10/dist-packages (from pandas->evaluate) (2025.1)\r\n",
      "Requirement already satisfied: tzdata>=2022.7 in /usr/local/lib/python3.10/dist-packages (from pandas->evaluate) (2025.1)\r\n",
      "Requirement already satisfied: aiohappyeyeballs>=2.3.0 in /usr/local/lib/python3.10/dist-packages (from aiohttp->datasets>=2.0.0->evaluate) (2.4.4)\r\n",
      "Requirement already satisfied: aiosignal>=1.1.2 in /usr/local/lib/python3.10/dist-packages (from aiohttp->datasets>=2.0.0->evaluate) (1.3.2)\r\n",
      "Requirement already satisfied: async-timeout<6.0,>=4.0 in /usr/local/lib/python3.10/dist-packages (from aiohttp->datasets>=2.0.0->evaluate) (5.0.1)\r\n",
      "Requirement already satisfied: attrs>=17.3.0 in /usr/local/lib/python3.10/dist-packages (from aiohttp->datasets>=2.0.0->evaluate) (25.1.0)\r\n",
      "Requirement already satisfied: frozenlist>=1.1.1 in /usr/local/lib/python3.10/dist-packages (from aiohttp->datasets>=2.0.0->evaluate) (1.5.0)\r\n",
      "Requirement already satisfied: multidict<7.0,>=4.5 in /usr/local/lib/python3.10/dist-packages (from aiohttp->datasets>=2.0.0->evaluate) (6.1.0)\r\n",
      "Requirement already satisfied: propcache>=0.2.0 in /usr/local/lib/python3.10/dist-packages (from aiohttp->datasets>=2.0.0->evaluate) (0.2.1)\r\n",
      "Requirement already satisfied: yarl<2.0,>=1.17.0 in /usr/local/lib/python3.10/dist-packages (from aiohttp->datasets>=2.0.0->evaluate) (1.18.3)\r\n",
      "Requirement already satisfied: six>=1.5 in /usr/local/lib/python3.10/dist-packages (from python-dateutil>=2.8.2->pandas->evaluate) (1.17.0)\r\n",
      "Requirement already satisfied: intel-openmp>=2024 in /usr/local/lib/python3.10/dist-packages (from mkl->numpy>=1.17->evaluate) (2024.2.0)\r\n",
      "Requirement already satisfied: tbb==2022.* in /usr/local/lib/python3.10/dist-packages (from mkl->numpy>=1.17->evaluate) (2022.0.0)\r\n",
      "Requirement already satisfied: tcmlib==1.* in /usr/local/lib/python3.10/dist-packages (from tbb==2022.*->mkl->numpy>=1.17->evaluate) (1.2.0)\r\n",
      "Requirement already satisfied: intel-cmplr-lib-rt in /usr/local/lib/python3.10/dist-packages (from mkl_umath->numpy>=1.17->evaluate) (2024.2.0)\r\n",
      "Requirement already satisfied: intel-cmplr-lib-ur==2024.2.0 in /usr/local/lib/python3.10/dist-packages (from intel-openmp>=2024->mkl->numpy>=1.17->evaluate) (2024.2.0)\r\n",
      "Downloading evaluate-0.4.3-py3-none-any.whl (84 kB)\r\n",
      "\u001b[2K   \u001b[90m━━━━━━━━━━━━━━━━━━━━━━━━━━━━━━━━━━━━━━━━\u001b[0m \u001b[32m84.0/84.0 kB\u001b[0m \u001b[31m2.9 MB/s\u001b[0m eta \u001b[36m0:00:00\u001b[0m\r\n",
      "\u001b[?25hInstalling collected packages: evaluate\r\n",
      "Successfully installed evaluate-0.4.3\r\n"
     ]
    }
   ],
   "source": [
    "!pip install evaluate"
   ]
  },
  {
   "cell_type": "code",
   "execution_count": 4,
   "id": "19fa3aa6",
   "metadata": {
    "_cell_guid": "b1076dfc-b9ad-4769-8c92-a6c4dae69d19",
    "_uuid": "8f2839f25d086af736a60e9eeb907d3b93b6e0e5",
    "execution": {
     "iopub.execute_input": "2025-02-15T11:36:01.733222Z",
     "iopub.status.busy": "2025-02-15T11:36:01.732965Z",
     "iopub.status.idle": "2025-02-15T11:36:16.034811Z",
     "shell.execute_reply": "2025-02-15T11:36:16.034139Z"
    },
    "papermill": {
     "duration": 14.310265,
     "end_time": "2025-02-15T11:36:16.036536",
     "exception": false,
     "start_time": "2025-02-15T11:36:01.726271",
     "status": "completed"
    },
    "tags": []
   },
   "outputs": [],
   "source": [
    "# Data Processing n' Visualization\n",
    "import matplotlib.pyplot as plt\n",
    "import pandas as pd\n",
    "import seaborn as sns\n",
    "\n",
    "# Compute\n",
    "import numpy as np\n",
    "import torch\n",
    "import torch.nn as nn\n",
    "import torch.optim as optim\n",
    "\n",
    "# Data\n",
    "from torch.utils.data import Dataset, DataLoader\n",
    "from sklearn.model_selection import train_test_split\n",
    "\n",
    "# Random\n",
    "import os\n",
    "import random as rand\n",
    "import timm"
   ]
  },
  {
   "cell_type": "code",
   "execution_count": 5,
   "id": "0b7c9442",
   "metadata": {
    "execution": {
     "iopub.execute_input": "2025-02-15T11:36:16.049882Z",
     "iopub.status.busy": "2025-02-15T11:36:16.049606Z",
     "iopub.status.idle": "2025-02-15T11:36:16.052638Z",
     "shell.execute_reply": "2025-02-15T11:36:16.052053Z"
    },
    "papermill": {
     "duration": 0.010748,
     "end_time": "2025-02-15T11:36:16.053807",
     "exception": false,
     "start_time": "2025-02-15T11:36:16.043059",
     "status": "completed"
    },
    "tags": []
   },
   "outputs": [],
   "source": [
    "torch.cuda.empty_cache()"
   ]
  },
  {
   "cell_type": "code",
   "execution_count": 6,
   "id": "c4780608",
   "metadata": {
    "execution": {
     "iopub.execute_input": "2025-02-15T11:36:16.066722Z",
     "iopub.status.busy": "2025-02-15T11:36:16.066514Z",
     "iopub.status.idle": "2025-02-15T11:36:16.072162Z",
     "shell.execute_reply": "2025-02-15T11:36:16.071602Z"
    },
    "papermill": {
     "duration": 0.013329,
     "end_time": "2025-02-15T11:36:16.073383",
     "exception": false,
     "start_time": "2025-02-15T11:36:16.060054",
     "status": "completed"
    },
    "tags": []
   },
   "outputs": [],
   "source": [
    "def set_seed(seed):\n",
    "  rand.seed(seed)\n",
    "  np.random.seed(seed)\n",
    "  torch.cuda.manual_seed(seed)\n",
    "  torch.cuda.manual_seed_all(seed)\n",
    "  torch.backends.cudnn.deterministic = True\n",
    "  torch.backends.cudnn.benchmark = False\n",
    "\n",
    "seed = 59\n",
    "set_seed(59)"
   ]
  },
  {
   "cell_type": "markdown",
   "id": "dfb96aae",
   "metadata": {
    "papermill": {
     "duration": 0.005819,
     "end_time": "2025-02-15T11:36:16.085335",
     "exception": false,
     "start_time": "2025-02-15T11:36:16.079516",
     "status": "completed"
    },
    "tags": []
   },
   "source": [
    "--------------------\n",
    "# **Data Sample**"
   ]
  },
  {
   "cell_type": "code",
   "execution_count": 7,
   "id": "986f9e52",
   "metadata": {
    "execution": {
     "iopub.execute_input": "2025-02-15T11:36:16.097876Z",
     "iopub.status.busy": "2025-02-15T11:36:16.097629Z",
     "iopub.status.idle": "2025-02-15T11:36:16.100543Z",
     "shell.execute_reply": "2025-02-15T11:36:16.099968Z"
    },
    "papermill": {
     "duration": 0.010357,
     "end_time": "2025-02-15T11:36:16.101589",
     "exception": false,
     "start_time": "2025-02-15T11:36:16.091232",
     "status": "completed"
    },
    "tags": []
   },
   "outputs": [],
   "source": [
    "data_dir = '/kaggle/input/wharton-basketball-dataset/games_2022.xlsx'"
   ]
  },
  {
   "cell_type": "code",
   "execution_count": 8,
   "id": "77c3ff25",
   "metadata": {
    "execution": {
     "iopub.execute_input": "2025-02-15T11:36:16.114141Z",
     "iopub.status.busy": "2025-02-15T11:36:16.113930Z",
     "iopub.status.idle": "2025-02-15T11:36:22.286405Z",
     "shell.execute_reply": "2025-02-15T11:36:22.285372Z"
    },
    "papermill": {
     "duration": 6.180254,
     "end_time": "2025-02-15T11:36:22.287741",
     "exception": false,
     "start_time": "2025-02-15T11:36:16.107487",
     "status": "completed"
    },
    "tags": []
   },
   "outputs": [
    {
     "name": "stdout",
     "output_type": "stream",
     "text": [
      "Dataset Type: <class 'pandas.core.frame.DataFrame'>\n"
     ]
    }
   ],
   "source": [
    "df = pd.read_excel(data_dir)\n",
    "print(f\"Dataset Type: {type(df)}\")"
   ]
  },
  {
   "cell_type": "code",
   "execution_count": 9,
   "id": "6448dc10",
   "metadata": {
    "execution": {
     "iopub.execute_input": "2025-02-15T11:36:22.301173Z",
     "iopub.status.busy": "2025-02-15T11:36:22.300754Z",
     "iopub.status.idle": "2025-02-15T11:36:22.303922Z",
     "shell.execute_reply": "2025-02-15T11:36:22.303301Z"
    },
    "papermill": {
     "duration": 0.011019,
     "end_time": "2025-02-15T11:36:22.305195",
     "exception": false,
     "start_time": "2025-02-15T11:36:22.294176",
     "status": "completed"
    },
    "tags": []
   },
   "outputs": [],
   "source": [
    "df_ts = df"
   ]
  },
  {
   "cell_type": "markdown",
   "id": "df2c1897",
   "metadata": {
    "papermill": {
     "duration": 0.005758,
     "end_time": "2025-02-15T11:36:22.317117",
     "exception": false,
     "start_time": "2025-02-15T11:36:22.311359",
     "status": "completed"
    },
    "tags": []
   },
   "source": [
    "----------------------------\n",
    "# **Data Preprocessing**"
   ]
  },
  {
   "cell_type": "code",
   "execution_count": 10,
   "id": "fb69b066",
   "metadata": {
    "execution": {
     "iopub.execute_input": "2025-02-15T11:36:22.330293Z",
     "iopub.status.busy": "2025-02-15T11:36:22.330052Z",
     "iopub.status.idle": "2025-02-15T11:36:22.385343Z",
     "shell.execute_reply": "2025-02-15T11:36:22.384098Z"
    },
    "papermill": {
     "duration": 0.063709,
     "end_time": "2025-02-15T11:36:22.387114",
     "exception": false,
     "start_time": "2025-02-15T11:36:22.323405",
     "status": "completed"
    },
    "tags": []
   },
   "outputs": [
    {
     "name": "stdout",
     "output_type": "stream",
     "text": [
      "          game_id  game_date                       team     FGA_2     FGM_2  \\\n",
      "0  game_2022_2011 2021-12-30      georgia_lady_bulldogs  0.661290  0.513514   \n",
      "1  game_2022_2011 2021-12-30                 lsu_tigers  0.661290  0.567568   \n",
      "2  game_2022_2012 2021-12-30            missouri_tigers  0.548387  0.405405   \n",
      "3  game_2022_2012 2021-12-30   south_carolina_gamecocks  0.741935  0.540541   \n",
      "4  game_2022_2013 2021-12-30  tennessee_lady_volunteers  0.516129  0.459459   \n",
      "\n",
      "      FGA_3     FGM_3       FTA    FTM       AST  ...       TOV  TOV_team  \\\n",
      "0  0.196078  0.227273  0.125000  0.075  0.361111  ...  0.390244  0.000000   \n",
      "1  0.196078  0.181818  0.312500  0.200  0.388889  ...  0.292683  0.333333   \n",
      "2  0.274510  0.318182  0.333333  0.325  0.250000  ...  0.146341  0.166667   \n",
      "3  0.392157  0.272727  0.187500  0.125  0.388889  ...  0.146341  0.000000   \n",
      "4  0.274510  0.181818  0.312500  0.250  0.416667  ...  0.317073  0.166667   \n",
      "\n",
      "       DREB     OREB  F_tech  F_personal  rest_days  prev_game_dist  \\\n",
      "0  0.410256  0.34375     0.0    0.451613   0.210526        0.000000   \n",
      "1  0.410256  0.34375     0.0    0.096774   0.052632        0.105722   \n",
      "2  0.564103  0.18750     0.0    0.225806   0.184211        0.047601   \n",
      "3  0.461538  0.62500     0.0    0.354839   0.210526        0.148063   \n",
      "4  0.641026  0.37500     0.0    0.290323   0.052632        0.000000   \n",
      "\n",
      "   home_away_NS  travel_dist  \n",
      "0             1     0.000000  \n",
      "1             0     0.121105  \n",
      "2             1     0.000000  \n",
      "3             0     0.169606  \n",
      "4             1     0.000000  \n",
      "\n",
      "[5 rows x 22 columns]\n"
     ]
    }
   ],
   "source": [
    "df_ts = df_ts.drop(columns = ['OT_length_min_tot', 'attendance', 'tz_dif_H_E', 'opponent_team_score', \n",
    "                        'team_score', 'home_away', 'notD1_incomplete', 'largest_lead'])\n",
    "df_ts = df_ts.dropna()\n",
    "df_ts['home_away_NS'] = df_ts['home_away_NS'].replace({\n",
    "    1: 1, -1: 0, 0: 2\n",
    "})\n",
    "\n",
    "from sklearn.preprocessing import MinMaxScaler\n",
    "\n",
    "# List of columns to normalize\n",
    "stats_to_normalize = ['FGA_2', 'FGM_2', 'FGA_3', 'FGM_3', \n",
    "                      'FTA', 'FTM', 'AST', 'BLK', 'STL', 'TOV', \n",
    "                      'TOV_team', 'DREB', 'OREB', 'F_tech', 'F_personal', \n",
    "                      'rest_days', 'prev_game_dist', 'travel_dist']\n",
    "\n",
    "# Initialize MinMaxScaler\n",
    "scaler = MinMaxScaler(feature_range=(0,1))\n",
    "\n",
    "# Apply MinMaxScaler only to the selected stats\n",
    "df_ts[stats_to_normalize] = scaler.fit_transform(df_ts[stats_to_normalize])\n",
    "\n",
    "print(df_ts.head())  # Check normalized values"
   ]
  },
  {
   "cell_type": "code",
   "execution_count": 11,
   "id": "285b2fc5",
   "metadata": {
    "execution": {
     "iopub.execute_input": "2025-02-15T11:36:22.401158Z",
     "iopub.status.busy": "2025-02-15T11:36:22.400886Z",
     "iopub.status.idle": "2025-02-15T11:36:27.401138Z",
     "shell.execute_reply": "2025-02-15T11:36:27.400363Z"
    },
    "papermill": {
     "duration": 5.008716,
     "end_time": "2025-02-15T11:36:27.402722",
     "exception": false,
     "start_time": "2025-02-15T11:36:22.394006",
     "status": "completed"
    },
    "scrolled": true,
    "tags": []
   },
   "outputs": [
    {
     "name": "stdout",
     "output_type": "stream",
     "text": [
      "[0.6612903225806451 0.5135135135135136 0.19607843137254904\n",
      " 0.2272727272727273 0.125 0.07500000000000001 0.36111111111111105\n",
      " 0.38888888888888884 0.25925925925925924 0.3902439024390244 0.0\n",
      " 0.41025641025641024 0.34375 0.0 0.4516129032258064 0.05263157894736842\n",
      " 0.06209905055170644 0 0.07113462669018225]\n",
      "Type of combined_stats: <class 'numpy.ndarray'>\n",
      "First Index: 0.6612903225806451\n",
      "-----------------------------------------------------------\n",
      "Label: [0.7580645161290323 0.6216216216216217 0.09803921568627451\n",
      " 0.045454545454545456 0.47916666666666663 0.45 0.25 0.1111111111111111\n",
      " 0.5555555555555556 0.3658536585365854 0.3333333333333333\n",
      " 0.2564102564102564 0.5 0.0 0.3548387096774194]\n",
      "Type of Label: <class 'numpy.ndarray'>\n",
      "First Index: 0.7580645161290323\n"
     ]
    }
   ],
   "source": [
    "Data = {}\n",
    "X = []\n",
    "y = []\n",
    "start_col = 'FGA_2'\n",
    "end_col = 'F_personal'\n",
    "\n",
    "start_col_nx = 'rest_days'\n",
    "end_col_nx = 'travel_dist'\n",
    "# Loop through all Teams in Dataset\n",
    "for i ,team in enumerate(df_ts['team'].unique()):\n",
    "    team_data = df_ts[df_ts['team'] == team]\n",
    "    for idx in range(len(team_data) - 1):\n",
    "        # Features = past game (FGA_2 to F_personal) + current game stats (rest_days to travel_dist)\n",
    "        past_game = team_data.iloc[idx]\n",
    "        next_game = team_data.iloc[idx + 1]\n",
    "        \n",
    "        past_stats = past_game.loc[start_col : end_col].values\n",
    "        next_stats = next_game.loc[start_col_nx:end_col_nx].values\n",
    "\n",
    "        # We predict next game FGA_2 to F_personal\n",
    "        label = next_game.loc[start_col:end_col].values\n",
    "\n",
    "        if idx == 0 and i == 0:\n",
    "            combined_stats_x = np.concatenate((past_stats, next_stats))\n",
    "            print(combined_stats_x)\n",
    "            print(f\"Type of combined_stats: {type(combined_stats_x)}\")\n",
    "            print(f\"First Index: {combined_stats_x[0]}\")\n",
    "            print(\"-\"*59)\n",
    "            print(f\"Label: {label}\")\n",
    "            print(f\"Type of Label: {type(label)}\")\n",
    "            print(f\"First Index: {label[0]}\")\n",
    "\n",
    "        combined_stats = np.concatenate((past_stats, next_stats))\n",
    "        X.append(combined_stats)\n",
    "        y.append(label)"
   ]
  },
  {
   "cell_type": "code",
   "execution_count": 12,
   "id": "9139b7f7",
   "metadata": {
    "execution": {
     "iopub.execute_input": "2025-02-15T11:36:27.420659Z",
     "iopub.status.busy": "2025-02-15T11:36:27.420399Z",
     "iopub.status.idle": "2025-02-15T11:36:27.425782Z",
     "shell.execute_reply": "2025-02-15T11:36:27.424923Z"
    },
    "papermill": {
     "duration": 0.016922,
     "end_time": "2025-02-15T11:36:27.427077",
     "exception": false,
     "start_time": "2025-02-15T11:36:27.410155",
     "status": "completed"
    },
    "scrolled": true,
    "tags": []
   },
   "outputs": [
    {
     "name": "stdout",
     "output_type": "stream",
     "text": [
      "First Features: [0.6612903225806451 0.5135135135135136 0.19607843137254904\n",
      " 0.2272727272727273 0.125 0.07500000000000001 0.36111111111111105\n",
      " 0.38888888888888884 0.25925925925925924 0.3902439024390244 0.0\n",
      " 0.41025641025641024 0.34375 0.0 0.4516129032258064 0.05263157894736842\n",
      " 0.06209905055170644 0 0.07113462669018225]\n",
      "Number of Features: 19\n",
      "-----------------------------------------------------------\n",
      "First Labels: [0.7580645161290323 0.6216216216216217 0.09803921568627451\n",
      " 0.045454545454545456 0.47916666666666663 0.45 0.25 0.1111111111111111\n",
      " 0.5555555555555556 0.3658536585365854 0.3333333333333333\n",
      " 0.2564102564102564 0.5 0.0 0.3548387096774194]\n",
      "Number of Features to Predict: 15\n",
      "Type: (<class 'list'>, <class 'list'>)\n"
     ]
    }
   ],
   "source": [
    "print(f\"First Features: {X[0]}\")\n",
    "print(f\"Number of Features: {len(X[0])}\")\n",
    "\n",
    "print(\"-\"*59)\n",
    "print(f\"First Labels: {y[0]}\")\n",
    "print(f\"Number of Features to Predict: {len(y[0])}\")\n",
    "\n",
    "print(f\"Type: {type(X), type(y)}\")"
   ]
  },
  {
   "cell_type": "code",
   "execution_count": 13,
   "id": "3b728c31",
   "metadata": {
    "execution": {
     "iopub.execute_input": "2025-02-15T11:36:27.440283Z",
     "iopub.status.busy": "2025-02-15T11:36:27.440072Z",
     "iopub.status.idle": "2025-02-15T11:36:27.498990Z",
     "shell.execute_reply": "2025-02-15T11:36:27.498235Z"
    },
    "papermill": {
     "duration": 0.06686,
     "end_time": "2025-02-15T11:36:27.500335",
     "exception": false,
     "start_time": "2025-02-15T11:36:27.433475",
     "status": "completed"
    },
    "tags": []
   },
   "outputs": [],
   "source": [
    "X = np.array(X, dtype=np.float32)\n",
    "y = np.array(y, dtype=np.float32)"
   ]
  },
  {
   "cell_type": "markdown",
   "id": "a1a6a891",
   "metadata": {
    "papermill": {
     "duration": 0.006399,
     "end_time": "2025-02-15T11:36:27.513059",
     "exception": false,
     "start_time": "2025-02-15T11:36:27.506660",
     "status": "completed"
    },
    "tags": []
   },
   "source": [
    "# **Dataset**"
   ]
  },
  {
   "cell_type": "code",
   "execution_count": 14,
   "id": "94566bd4",
   "metadata": {
    "execution": {
     "iopub.execute_input": "2025-02-15T11:36:27.526610Z",
     "iopub.status.busy": "2025-02-15T11:36:27.526363Z",
     "iopub.status.idle": "2025-02-15T11:36:27.535624Z",
     "shell.execute_reply": "2025-02-15T11:36:27.534867Z"
    },
    "papermill": {
     "duration": 0.017557,
     "end_time": "2025-02-15T11:36:27.536939",
     "exception": false,
     "start_time": "2025-02-15T11:36:27.519382",
     "status": "completed"
    },
    "tags": []
   },
   "outputs": [
    {
     "name": "stdout",
     "output_type": "stream",
     "text": [
      "(6139, 19)\n",
      "(6139, 15)\n",
      "Type of X_train and X_test: <class 'numpy.ndarray'> | <class 'numpy.ndarray'>\n",
      "float32 float32\n",
      "float32 float32\n",
      "float32 float32\n"
     ]
    }
   ],
   "source": [
    "X_train, X_test, y_train, y_test = train_test_split(X, y, test_size=0.3, random_state=42)\n",
    "X_test, X_val, y_test, y_val = train_test_split(X_test, y_test, test_size=0.33, random_state=42)\n",
    "\n",
    "print(X_train.shape)  # Should be (num_samples, num_features) → (N, 19)\n",
    "print(y_train.shape)  # Should be (num_samples, num_outputs) → (N, 15)\n",
    "print(f\"Type of X_train and X_test: {type(X_train)} | {type(X_test)}\")\n",
    "print(X_train.dtype, y_train.dtype)\n",
    "print(X_val.dtype, y_val.dtype)\n",
    "print(X_test.dtype, y_test.dtype)"
   ]
  },
  {
   "cell_type": "code",
   "execution_count": 15,
   "id": "fa3778e7",
   "metadata": {
    "execution": {
     "iopub.execute_input": "2025-02-15T11:36:27.550038Z",
     "iopub.status.busy": "2025-02-15T11:36:27.549772Z",
     "iopub.status.idle": "2025-02-15T11:36:27.554009Z",
     "shell.execute_reply": "2025-02-15T11:36:27.553358Z"
    },
    "papermill": {
     "duration": 0.012095,
     "end_time": "2025-02-15T11:36:27.555309",
     "exception": false,
     "start_time": "2025-02-15T11:36:27.543214",
     "status": "completed"
    },
    "tags": []
   },
   "outputs": [],
   "source": [
    "import torch\n",
    "from torch.utils.data import Dataset\n",
    "\n",
    "class bkb_dataset(Dataset):\n",
    "    def __init__(self, data, label):\n",
    "        self.data = data\n",
    "        self.label = label\n",
    "\n",
    "    def __len__(self):\n",
    "        return len(self.data)\n",
    "\n",
    "    def __getitem__(self, idx):\n",
    "        feature = torch.tensor(self.data[idx], dtype=torch.float32)  # Use float32\n",
    "        label = torch.tensor(self.label[idx], dtype=torch.float32)  # Use float32\n",
    "\n",
    "        return {\"input_ids\": feature, \"labels\": label}"
   ]
  },
  {
   "cell_type": "code",
   "execution_count": 16,
   "id": "c5ff0fee",
   "metadata": {
    "execution": {
     "iopub.execute_input": "2025-02-15T11:36:27.568553Z",
     "iopub.status.busy": "2025-02-15T11:36:27.568337Z",
     "iopub.status.idle": "2025-02-15T11:36:27.573141Z",
     "shell.execute_reply": "2025-02-15T11:36:27.572327Z"
    },
    "papermill": {
     "duration": 0.012732,
     "end_time": "2025-02-15T11:36:27.574294",
     "exception": false,
     "start_time": "2025-02-15T11:36:27.561562",
     "status": "completed"
    },
    "tags": []
   },
   "outputs": [
    {
     "name": "stdout",
     "output_type": "stream",
     "text": [
      "Length of train_set: 6139\n",
      "Length of test_set: 1763\n",
      "Length of val_set: 869\n"
     ]
    }
   ],
   "source": [
    "train_set = bkb_dataset(\n",
    "    X_train,\n",
    "    y_train,\n",
    ")\n",
    "\n",
    "val_set = bkb_dataset(\n",
    "    X_val,\n",
    "    y_val,\n",
    ")\n",
    "\n",
    "test_set = bkb_dataset(\n",
    "    X_test,\n",
    "    y_test,\n",
    ")\n",
    "print(f\"Length of train_set: {len(train_set)}\")\n",
    "print(f\"Length of test_set: {len(test_set)}\")\n",
    "print(f\"Length of val_set: {len(val_set)}\")"
   ]
  },
  {
   "cell_type": "code",
   "execution_count": 17,
   "id": "69ec9644",
   "metadata": {
    "execution": {
     "iopub.execute_input": "2025-02-15T11:36:27.587616Z",
     "iopub.status.busy": "2025-02-15T11:36:27.587386Z",
     "iopub.status.idle": "2025-02-15T11:36:27.593231Z",
     "shell.execute_reply": "2025-02-15T11:36:27.592384Z"
    },
    "papermill": {
     "duration": 0.01415,
     "end_time": "2025-02-15T11:36:27.594472",
     "exception": false,
     "start_time": "2025-02-15T11:36:27.580322",
     "status": "completed"
    },
    "tags": []
   },
   "outputs": [
    {
     "name": "stdout",
     "output_type": "stream",
     "text": [
      "Length train_loader: 24\n",
      "Length test_loader: 56\n",
      "Length val_loader: 28\n"
     ]
    }
   ],
   "source": [
    "train_batch = 256\n",
    "test_batch = 32\n",
    "\n",
    "train_loader = DataLoader(\n",
    "    train_set,\n",
    "    batch_size = train_batch,\n",
    "    shuffle = True\n",
    ")\n",
    "\n",
    "val_loader = DataLoader(\n",
    "    val_set,\n",
    "    batch_size = test_batch,\n",
    "    shuffle = False\n",
    ")\n",
    "\n",
    "test_loader = DataLoader(\n",
    "    test_set,\n",
    "    batch_size = test_batch,\n",
    "    shuffle = False\n",
    ")\n",
    "print(f\"Length train_loader: {len(train_loader)}\")\n",
    "print(f\"Length test_loader: {len(test_loader)}\")\n",
    "print(f\"Length val_loader: {len(val_loader)}\")"
   ]
  },
  {
   "cell_type": "markdown",
   "id": "da7d94d9",
   "metadata": {
    "papermill": {
     "duration": 0.006027,
     "end_time": "2025-02-15T11:36:27.607127",
     "exception": false,
     "start_time": "2025-02-15T11:36:27.601100",
     "status": "completed"
    },
    "tags": []
   },
   "source": [
    "# **Model**"
   ]
  },
  {
   "cell_type": "code",
   "execution_count": 18,
   "id": "caa0d197",
   "metadata": {
    "execution": {
     "iopub.execute_input": "2025-02-15T11:36:27.620310Z",
     "iopub.status.busy": "2025-02-15T11:36:27.620069Z",
     "iopub.status.idle": "2025-02-15T11:36:27.890579Z",
     "shell.execute_reply": "2025-02-15T11:36:27.889770Z"
    },
    "papermill": {
     "duration": 0.278793,
     "end_time": "2025-02-15T11:36:27.892159",
     "exception": false,
     "start_time": "2025-02-15T11:36:27.613366",
     "status": "completed"
    },
    "tags": []
   },
   "outputs": [],
   "source": [
    "from huggingface_hub import login\n",
    "\n",
    "from kaggle_secrets import UserSecretsClient\n",
    "user_secrets = UserSecretsClient()\n",
    "HUGGINGFACE_TOKEN = user_secrets.get_secret(\"HF_TOKEN\")\n",
    "\n",
    "# Login to Hugging Face\n",
    "login(HUGGINGFACE_TOKEN)"
   ]
  },
  {
   "cell_type": "code",
   "execution_count": 19,
   "id": "63899f08",
   "metadata": {
    "execution": {
     "iopub.execute_input": "2025-02-15T11:36:27.906366Z",
     "iopub.status.busy": "2025-02-15T11:36:27.906086Z",
     "iopub.status.idle": "2025-02-15T11:36:27.987226Z",
     "shell.execute_reply": "2025-02-15T11:36:27.986461Z"
    },
    "papermill": {
     "duration": 0.089581,
     "end_time": "2025-02-15T11:36:27.988582",
     "exception": false,
     "start_time": "2025-02-15T11:36:27.899001",
     "status": "completed"
    },
    "tags": []
   },
   "outputs": [],
   "source": [
    "device = torch.device(\"cuda\" if torch.cuda.is_available() else \"cpu\")"
   ]
  },
  {
   "cell_type": "code",
   "execution_count": 20,
   "id": "c10ecaf6",
   "metadata": {
    "execution": {
     "iopub.execute_input": "2025-02-15T11:36:28.002907Z",
     "iopub.status.busy": "2025-02-15T11:36:28.002585Z",
     "iopub.status.idle": "2025-02-15T11:36:29.602473Z",
     "shell.execute_reply": "2025-02-15T11:36:29.601426Z"
    },
    "papermill": {
     "duration": 1.608382,
     "end_time": "2025-02-15T11:36:29.603756",
     "exception": false,
     "start_time": "2025-02-15T11:36:27.995374",
     "status": "completed"
    },
    "tags": []
   },
   "outputs": [
    {
     "data": {
      "application/vnd.jupyter.widget-view+json": {
       "model_id": "b032a7981a82467b86f83614b47bba38",
       "version_major": 2,
       "version_minor": 0
      },
      "text/plain": [
       "model.safetensors:   0%|          | 0.00/102M [00:00<?, ?B/s]"
      ]
     },
     "metadata": {},
     "output_type": "display_data"
    },
    {
     "name": "stdout",
     "output_type": "stream",
     "text": [
      "torch.Size([1, 15])\n",
      "tensor([[-0.0529, -0.0350, -0.0882, -0.0269,  0.0513, -0.0041, -0.0172,  0.0066,\n",
      "         -0.0193,  0.0788, -0.0156,  0.0617,  0.0282,  0.0277, -0.0826]],\n",
      "       grad_fn=<AddmmBackward0>)\n"
     ]
    }
   ],
   "source": [
    "import torch.nn.functional as F\n",
    "\n",
    "class FeatureGrouping(nn.Module):\n",
    "    def __init__(self, num_features=19, max_groups=3, embed_dim=4, output_dim=15, resnet_model=\"resnet50\", finetune = False):\n",
    "        super().__init__()\n",
    "        self.num_features = num_features\n",
    "        self.max_groups = max_groups\n",
    "        self.embed_dim = embed_dim\n",
    "        self.output_dim = output_dim\n",
    "\n",
    "        # Embedding for home_away (3 categories: Home, Away, Neutral)\n",
    "        self.home_away_embed = nn.Embedding(3, embed_dim)\n",
    "\n",
    "        # Adjust feature count after embedding replacement\n",
    "        self.adjusted_num_features = num_features - 1 + embed_dim  # 22 total features\n",
    "\n",
    "        # Calculate the maximum features per group to ensure consistent dimensions\n",
    "        self.max_features_per_group = self.adjusted_num_features\n",
    "\n",
    "        # Learnable logits for feature assignment\n",
    "        self.assignment_logits = nn.Parameter(torch.randn(self.adjusted_num_features, max_groups))\n",
    "\n",
    "        # Self-Attention layers for each possible number of groups\n",
    "        self.attention_layers = nn.ModuleDict({\n",
    "            f\"attn_{g}\": nn.MultiheadAttention(\n",
    "                embed_dim=self.max_features_per_group,\n",
    "                num_heads=1,\n",
    "                batch_first=True\n",
    "            )\n",
    "            for g in range(1, max_groups + 1)\n",
    "        })\n",
    "\n",
    "        # Reduce channels before ResNet\n",
    "        self.channel_reducer = nn.Conv2d(in_channels=max_groups, out_channels=3, kernel_size=1)\n",
    "\n",
    "        # Pretrained ResNet model\n",
    "        self.resnet = timm.create_model(resnet_model, pretrained=True)\n",
    "        in_features = self.resnet.get_classifier().in_features\n",
    "        self.resnet.reset_classifier(0)\n",
    "\n",
    "        # Final regression head\n",
    "        self.fc = nn.Linear(in_features, output_dim)\n",
    "        \n",
    "        if finetune:\n",
    "            for param in self.resnet.parameters():\n",
    "                param.requires_grad = True\n",
    "        else:\n",
    "            for param in self.resnet.parameters():\n",
    "                param.requires_grad = False\n",
    "                \n",
    "    def forward(self, x):\n",
    "        batch_size = x.shape[0]\n",
    "\n",
    "        # Extract home_away index and convert to embeddings\n",
    "        home_away_idx = x[:, 17].long().clamp(0, 2)\n",
    "        home_away_embed = self.home_away_embed(home_away_idx)\n",
    "        x = torch.cat([x[:, :17], home_away_embed, x[:, 18:]], dim=1)\n",
    "\n",
    "        # Hard feature assignment\n",
    "        assignment_hard = torch.argmax(self.assignment_logits, dim=1)\n",
    "\n",
    "        all_group_outputs = []\n",
    "\n",
    "        # Process different group configurations\n",
    "        for num_groups in range(1, self.max_groups + 1):\n",
    "            # Split features into groups\n",
    "            groups = []\n",
    "            features_per_group = self.adjusted_num_features // num_groups\n",
    "            \n",
    "            for g in range(num_groups):\n",
    "                start_idx = g * features_per_group\n",
    "                end_idx = min(start_idx + features_per_group, self.adjusted_num_features)\n",
    "                group_features = x[:, start_idx:end_idx]\n",
    "                \n",
    "                # Pad to match max_features_per_group\n",
    "                if group_features.shape[1] < self.max_features_per_group:\n",
    "                    pad_size = self.max_features_per_group - group_features.shape[1]\n",
    "                    padding = torch.zeros(batch_size, pad_size, device=x.device)\n",
    "                    group_features = torch.cat([group_features, padding], dim=1)\n",
    "                \n",
    "                groups.append(group_features)\n",
    "\n",
    "            # Process each group with attention\n",
    "            processed_groups = []\n",
    "            for g in range(num_groups):\n",
    "                group_features = groups[g].unsqueeze(1)\n",
    "                attn_output, _ = self.attention_layers[f\"attn_{num_groups}\"](\n",
    "                    group_features, group_features, group_features)\n",
    "                processed_groups.append(attn_output)\n",
    "\n",
    "            # Combine processed groups\n",
    "            group_output = torch.cat(processed_groups, dim=1)\n",
    "            \n",
    "            # Pad to match max_groups if necessary\n",
    "            if num_groups < self.max_groups:\n",
    "                padding = torch.zeros(\n",
    "                    batch_size,\n",
    "                    self.max_groups - num_groups,\n",
    "                    self.max_features_per_group,\n",
    "                    device=x.device\n",
    "                )\n",
    "                group_output = torch.cat([group_output, padding], dim=1)\n",
    "            \n",
    "            all_group_outputs.append(group_output)\n",
    "\n",
    "        # Stack all configurations\n",
    "        x_final = torch.stack(all_group_outputs, dim=1)  # [B, max_groups, max_groups, Features]\n",
    "        \n",
    "        # Reshape for channel reducer\n",
    "        x_final = x_final.mean(dim=1)  # [B, max_groups, Features]\n",
    "        x_final = x_final.permute(0, 2, 1)  # [B, Features, max_groups]\n",
    "        x_final = x_final.mean(dim=1).unsqueeze(-1).unsqueeze(-1)  # [B, max_groups, 1, 1]\n",
    "        \n",
    "        # Apply channel reduction\n",
    "        x_final = self.channel_reducer(x_final)  # [B, 3, 1, 1]\n",
    "        \n",
    "        # Prepare for ResNet\n",
    "        x_final = x_final.expand(-1, -1, 224, 224)  # [B, 3, 224, 224]\n",
    "\n",
    "        # Process through ResNet and final layer\n",
    "        x_final = self.resnet(x_final)\n",
    "        output = self.fc(x_final)\n",
    "\n",
    "        return output\n",
    "\n",
    "batch_size = 1\n",
    "x = torch.randn(batch_size, 19)  # Example input features\n",
    "model = FeatureGrouping(resnet_model=\"resnet50\")  # Using ResNet50\n",
    "output = model(x)\n",
    "print(output.shape)  # Expected: (B, 15)\n",
    "print(output)"
   ]
  },
  {
   "cell_type": "code",
   "execution_count": 21,
   "id": "b4879113",
   "metadata": {
    "execution": {
     "iopub.execute_input": "2025-02-15T11:36:29.617948Z",
     "iopub.status.busy": "2025-02-15T11:36:29.617616Z",
     "iopub.status.idle": "2025-02-15T11:36:44.400069Z",
     "shell.execute_reply": "2025-02-15T11:36:44.399115Z"
    },
    "papermill": {
     "duration": 14.791168,
     "end_time": "2025-02-15T11:36:44.401657",
     "exception": false,
     "start_time": "2025-02-15T11:36:29.610489",
     "status": "completed"
    },
    "tags": []
   },
   "outputs": [
    {
     "name": "stderr",
     "output_type": "stream",
     "text": [
      "The cache for model files in Transformers v4.22.0 has been updated. Migrating your old cache. This is a one-time only operation. You can interrupt this and resume the migration later on by calling `transformers.utils.move_cache()`.\n"
     ]
    },
    {
     "data": {
      "application/vnd.jupyter.widget-view+json": {
       "model_id": "952b9062c9104602b0f5ea1c11eb79d7",
       "version_major": 2,
       "version_minor": 0
      },
      "text/plain": [
       "0it [00:00, ?it/s]"
      ]
     },
     "metadata": {},
     "output_type": "display_data"
    }
   ],
   "source": [
    "from transformers import PreTrainedModel, PretrainedConfig\n",
    "\n",
    "class FeatureGroupingConfig(PretrainedConfig):\n",
    "    model_type = \"feature_grouping\"\n",
    "\n",
    "    def __init__(self, num_features=19, output_dim=15, **kwargs):\n",
    "        super().__init__(**kwargs)\n",
    "        self.num_features = num_features\n",
    "        self.output_dim = output_dim\n",
    "\n",
    "class FeatureGroupingModel(PreTrainedModel):\n",
    "    config_class = FeatureGroupingConfig\n",
    "\n",
    "    def __init__(self, config):\n",
    "        super().__init__(config)\n",
    "        self.model = FeatureGrouping(\n",
    "            num_features=config.num_features, \n",
    "            output_dim=config.output_dim\n",
    "        )\n",
    "\n",
    "    def forward(self, input_ids, labels=None):\n",
    "        output = self.model(input_ids)\n",
    "\n",
    "        loss = None\n",
    "        if labels is not None:\n",
    "            loss = F.mse_loss(output, labels)  # Mean Squared Error for regression\n",
    "\n",
    "        return {\"loss\": loss, \"logits\": output} if loss is not None else {\"logits\": output}"
   ]
  },
  {
   "cell_type": "code",
   "execution_count": 22,
   "id": "6ff6a851",
   "metadata": {
    "execution": {
     "iopub.execute_input": "2025-02-15T11:36:44.416670Z",
     "iopub.status.busy": "2025-02-15T11:36:44.416098Z",
     "iopub.status.idle": "2025-02-15T11:36:45.689330Z",
     "shell.execute_reply": "2025-02-15T11:36:45.688622Z"
    },
    "papermill": {
     "duration": 1.282082,
     "end_time": "2025-02-15T11:36:45.690813",
     "exception": false,
     "start_time": "2025-02-15T11:36:44.408731",
     "status": "completed"
    },
    "tags": []
   },
   "outputs": [],
   "source": [
    "import evaluate\n",
    "\n",
    "def compute_metrics(eval_pred):\n",
    "    predictions, labels = eval_pred\n",
    "    predictions = np.array(predictions)\n",
    "    labels = np.array(labels)\n",
    "\n",
    "    mse_per_feature = ((predictions - labels) ** 2).mean(axis=0)  # (15,)\n",
    "    mse_mean = mse_per_feature.mean()  # Overall MSE\n",
    "\n",
    "    print(f\"\\n📢 Epoch MSE: {mse_mean:.4f}\")  # Print MSE for each epoch\n",
    "\n",
    "    return {\"mse_mean\": mse_mean}"
   ]
  },
  {
   "cell_type": "code",
   "execution_count": 23,
   "id": "20046637",
   "metadata": {
    "execution": {
     "iopub.execute_input": "2025-02-15T11:36:45.705380Z",
     "iopub.status.busy": "2025-02-15T11:36:45.704810Z",
     "iopub.status.idle": "2025-02-15T11:36:45.715037Z",
     "shell.execute_reply": "2025-02-15T11:36:45.714413Z"
    },
    "papermill": {
     "duration": 0.018514,
     "end_time": "2025-02-15T11:36:45.716192",
     "exception": false,
     "start_time": "2025-02-15T11:36:45.697678",
     "status": "completed"
    },
    "tags": []
   },
   "outputs": [],
   "source": [
    "from transformers import TrainerCallback\n",
    "\n",
    "class LossLoggerCallback(TrainerCallback):\n",
    "    def on_log(self, args, state, control, logs=None, **kwargs):\n",
    "        if logs and \"loss\" in logs:\n",
    "            print(f\"📢 Epoch {state.epoch:.0f}: Train Loss = {logs['loss']:.4f}\")"
   ]
  },
  {
   "cell_type": "code",
   "execution_count": 24,
   "id": "ccef9af0",
   "metadata": {
    "execution": {
     "iopub.execute_input": "2025-02-15T11:36:45.730071Z",
     "iopub.status.busy": "2025-02-15T11:36:45.729784Z",
     "iopub.status.idle": "2025-02-15T11:51:27.431929Z",
     "shell.execute_reply": "2025-02-15T11:51:27.431053Z"
    },
    "papermill": {
     "duration": 881.710577,
     "end_time": "2025-02-15T11:51:27.433388",
     "exception": false,
     "start_time": "2025-02-15T11:36:45.722811",
     "status": "completed"
    },
    "scrolled": true,
    "tags": []
   },
   "outputs": [
    {
     "name": "stderr",
     "output_type": "stream",
     "text": [
      "/usr/local/lib/python3.10/dist-packages/torch/nn/parallel/_functions.py:71: UserWarning: Was asked to gather along dimension 0, but all input tensors were scalars; will instead unsqueeze and return a vector.\n",
      "  warnings.warn(\n"
     ]
    },
    {
     "data": {
      "text/html": [
       "\n",
       "    <div>\n",
       "      \n",
       "      <progress value='720' max='720' style='width:300px; height:20px; vertical-align: middle;'></progress>\n",
       "      [720/720 14:29, Epoch 30/30]\n",
       "    </div>\n",
       "    <table border=\"1\" class=\"dataframe\">\n",
       "  <thead>\n",
       " <tr style=\"text-align: left;\">\n",
       "      <th>Epoch</th>\n",
       "      <th>Training Loss</th>\n",
       "      <th>Validation Loss</th>\n",
       "    </tr>\n",
       "  </thead>\n",
       "  <tbody>\n",
       "    <tr>\n",
       "      <td>1</td>\n",
       "      <td>0.107000</td>\n",
       "      <td>0.110143</td>\n",
       "    </tr>\n",
       "    <tr>\n",
       "      <td>2</td>\n",
       "      <td>0.093600</td>\n",
       "      <td>0.105190</td>\n",
       "    </tr>\n",
       "    <tr>\n",
       "      <td>3</td>\n",
       "      <td>0.082200</td>\n",
       "      <td>0.082312</td>\n",
       "    </tr>\n",
       "    <tr>\n",
       "      <td>4</td>\n",
       "      <td>0.072800</td>\n",
       "      <td>0.070914</td>\n",
       "    </tr>\n",
       "    <tr>\n",
       "      <td>5</td>\n",
       "      <td>0.065000</td>\n",
       "      <td>0.062866</td>\n",
       "    </tr>\n",
       "    <tr>\n",
       "      <td>6</td>\n",
       "      <td>0.058500</td>\n",
       "      <td>0.056162</td>\n",
       "    </tr>\n",
       "    <tr>\n",
       "      <td>7</td>\n",
       "      <td>0.053200</td>\n",
       "      <td>0.051042</td>\n",
       "    </tr>\n",
       "    <tr>\n",
       "      <td>8</td>\n",
       "      <td>0.048700</td>\n",
       "      <td>0.047306</td>\n",
       "    </tr>\n",
       "    <tr>\n",
       "      <td>9</td>\n",
       "      <td>0.045000</td>\n",
       "      <td>0.043097</td>\n",
       "    </tr>\n",
       "    <tr>\n",
       "      <td>10</td>\n",
       "      <td>0.042000</td>\n",
       "      <td>0.041756</td>\n",
       "    </tr>\n",
       "    <tr>\n",
       "      <td>11</td>\n",
       "      <td>0.039500</td>\n",
       "      <td>0.038721</td>\n",
       "    </tr>\n",
       "    <tr>\n",
       "      <td>12</td>\n",
       "      <td>0.037300</td>\n",
       "      <td>0.036879</td>\n",
       "    </tr>\n",
       "    <tr>\n",
       "      <td>13</td>\n",
       "      <td>0.035600</td>\n",
       "      <td>0.034736</td>\n",
       "    </tr>\n",
       "    <tr>\n",
       "      <td>14</td>\n",
       "      <td>0.034000</td>\n",
       "      <td>0.033516</td>\n",
       "    </tr>\n",
       "    <tr>\n",
       "      <td>15</td>\n",
       "      <td>0.032700</td>\n",
       "      <td>0.032140</td>\n",
       "    </tr>\n",
       "    <tr>\n",
       "      <td>16</td>\n",
       "      <td>0.031600</td>\n",
       "      <td>0.032241</td>\n",
       "    </tr>\n",
       "    <tr>\n",
       "      <td>17</td>\n",
       "      <td>0.031000</td>\n",
       "      <td>0.031023</td>\n",
       "    </tr>\n",
       "    <tr>\n",
       "      <td>18</td>\n",
       "      <td>0.030000</td>\n",
       "      <td>0.030462</td>\n",
       "    </tr>\n",
       "    <tr>\n",
       "      <td>19</td>\n",
       "      <td>0.029400</td>\n",
       "      <td>0.029726</td>\n",
       "    </tr>\n",
       "    <tr>\n",
       "      <td>20</td>\n",
       "      <td>0.028800</td>\n",
       "      <td>0.028606</td>\n",
       "    </tr>\n",
       "    <tr>\n",
       "      <td>21</td>\n",
       "      <td>0.028200</td>\n",
       "      <td>0.027894</td>\n",
       "    </tr>\n",
       "    <tr>\n",
       "      <td>22</td>\n",
       "      <td>0.027900</td>\n",
       "      <td>0.028095</td>\n",
       "    </tr>\n",
       "    <tr>\n",
       "      <td>23</td>\n",
       "      <td>0.027700</td>\n",
       "      <td>0.028283</td>\n",
       "    </tr>\n",
       "    <tr>\n",
       "      <td>24</td>\n",
       "      <td>0.027300</td>\n",
       "      <td>0.027189</td>\n",
       "    </tr>\n",
       "    <tr>\n",
       "      <td>25</td>\n",
       "      <td>0.027200</td>\n",
       "      <td>0.027054</td>\n",
       "    </tr>\n",
       "    <tr>\n",
       "      <td>26</td>\n",
       "      <td>0.027000</td>\n",
       "      <td>0.026823</td>\n",
       "    </tr>\n",
       "    <tr>\n",
       "      <td>27</td>\n",
       "      <td>0.026900</td>\n",
       "      <td>0.026882</td>\n",
       "    </tr>\n",
       "    <tr>\n",
       "      <td>28</td>\n",
       "      <td>0.026600</td>\n",
       "      <td>0.026740</td>\n",
       "    </tr>\n",
       "    <tr>\n",
       "      <td>29</td>\n",
       "      <td>0.026600</td>\n",
       "      <td>0.026677</td>\n",
       "    </tr>\n",
       "    <tr>\n",
       "      <td>30</td>\n",
       "      <td>0.026500</td>\n",
       "      <td>0.026464</td>\n",
       "    </tr>\n",
       "  </tbody>\n",
       "</table><p>"
      ],
      "text/plain": [
       "<IPython.core.display.HTML object>"
      ]
     },
     "metadata": {},
     "output_type": "display_data"
    },
    {
     "name": "stderr",
     "output_type": "stream",
     "text": [
      "/usr/local/lib/python3.10/dist-packages/torch/nn/parallel/_functions.py:71: UserWarning: Was asked to gather along dimension 0, but all input tensors were scalars; will instead unsqueeze and return a vector.\n",
      "  warnings.warn(\n",
      "/usr/local/lib/python3.10/dist-packages/torch/nn/parallel/_functions.py:71: UserWarning: Was asked to gather along dimension 0, but all input tensors were scalars; will instead unsqueeze and return a vector.\n",
      "  warnings.warn(\n",
      "/usr/local/lib/python3.10/dist-packages/torch/nn/parallel/_functions.py:71: UserWarning: Was asked to gather along dimension 0, but all input tensors were scalars; will instead unsqueeze and return a vector.\n",
      "  warnings.warn(\n",
      "/usr/local/lib/python3.10/dist-packages/torch/nn/parallel/_functions.py:71: UserWarning: Was asked to gather along dimension 0, but all input tensors were scalars; will instead unsqueeze and return a vector.\n",
      "  warnings.warn(\n",
      "/usr/local/lib/python3.10/dist-packages/torch/nn/parallel/_functions.py:71: UserWarning: Was asked to gather along dimension 0, but all input tensors were scalars; will instead unsqueeze and return a vector.\n",
      "  warnings.warn(\n",
      "/usr/local/lib/python3.10/dist-packages/torch/nn/parallel/_functions.py:71: UserWarning: Was asked to gather along dimension 0, but all input tensors were scalars; will instead unsqueeze and return a vector.\n",
      "  warnings.warn(\n",
      "/usr/local/lib/python3.10/dist-packages/torch/nn/parallel/_functions.py:71: UserWarning: Was asked to gather along dimension 0, but all input tensors were scalars; will instead unsqueeze and return a vector.\n",
      "  warnings.warn(\n",
      "/usr/local/lib/python3.10/dist-packages/torch/nn/parallel/_functions.py:71: UserWarning: Was asked to gather along dimension 0, but all input tensors were scalars; will instead unsqueeze and return a vector.\n",
      "  warnings.warn(\n",
      "/usr/local/lib/python3.10/dist-packages/torch/nn/parallel/_functions.py:71: UserWarning: Was asked to gather along dimension 0, but all input tensors were scalars; will instead unsqueeze and return a vector.\n",
      "  warnings.warn(\n",
      "/usr/local/lib/python3.10/dist-packages/torch/nn/parallel/_functions.py:71: UserWarning: Was asked to gather along dimension 0, but all input tensors were scalars; will instead unsqueeze and return a vector.\n",
      "  warnings.warn(\n",
      "/usr/local/lib/python3.10/dist-packages/torch/nn/parallel/_functions.py:71: UserWarning: Was asked to gather along dimension 0, but all input tensors were scalars; will instead unsqueeze and return a vector.\n",
      "  warnings.warn(\n",
      "/usr/local/lib/python3.10/dist-packages/torch/nn/parallel/_functions.py:71: UserWarning: Was asked to gather along dimension 0, but all input tensors were scalars; will instead unsqueeze and return a vector.\n",
      "  warnings.warn(\n",
      "/usr/local/lib/python3.10/dist-packages/torch/nn/parallel/_functions.py:71: UserWarning: Was asked to gather along dimension 0, but all input tensors were scalars; will instead unsqueeze and return a vector.\n",
      "  warnings.warn(\n",
      "/usr/local/lib/python3.10/dist-packages/torch/nn/parallel/_functions.py:71: UserWarning: Was asked to gather along dimension 0, but all input tensors were scalars; will instead unsqueeze and return a vector.\n",
      "  warnings.warn(\n",
      "/usr/local/lib/python3.10/dist-packages/torch/nn/parallel/_functions.py:71: UserWarning: Was asked to gather along dimension 0, but all input tensors were scalars; will instead unsqueeze and return a vector.\n",
      "  warnings.warn(\n",
      "/usr/local/lib/python3.10/dist-packages/torch/nn/parallel/_functions.py:71: UserWarning: Was asked to gather along dimension 0, but all input tensors were scalars; will instead unsqueeze and return a vector.\n",
      "  warnings.warn(\n",
      "/usr/local/lib/python3.10/dist-packages/torch/nn/parallel/_functions.py:71: UserWarning: Was asked to gather along dimension 0, but all input tensors were scalars; will instead unsqueeze and return a vector.\n",
      "  warnings.warn(\n",
      "/usr/local/lib/python3.10/dist-packages/torch/nn/parallel/_functions.py:71: UserWarning: Was asked to gather along dimension 0, but all input tensors were scalars; will instead unsqueeze and return a vector.\n",
      "  warnings.warn(\n",
      "/usr/local/lib/python3.10/dist-packages/torch/nn/parallel/_functions.py:71: UserWarning: Was asked to gather along dimension 0, but all input tensors were scalars; will instead unsqueeze and return a vector.\n",
      "  warnings.warn(\n",
      "/usr/local/lib/python3.10/dist-packages/torch/nn/parallel/_functions.py:71: UserWarning: Was asked to gather along dimension 0, but all input tensors were scalars; will instead unsqueeze and return a vector.\n",
      "  warnings.warn(\n",
      "/usr/local/lib/python3.10/dist-packages/torch/nn/parallel/_functions.py:71: UserWarning: Was asked to gather along dimension 0, but all input tensors were scalars; will instead unsqueeze and return a vector.\n",
      "  warnings.warn(\n",
      "/usr/local/lib/python3.10/dist-packages/torch/nn/parallel/_functions.py:71: UserWarning: Was asked to gather along dimension 0, but all input tensors were scalars; will instead unsqueeze and return a vector.\n",
      "  warnings.warn(\n",
      "/usr/local/lib/python3.10/dist-packages/torch/nn/parallel/_functions.py:71: UserWarning: Was asked to gather along dimension 0, but all input tensors were scalars; will instead unsqueeze and return a vector.\n",
      "  warnings.warn(\n",
      "/usr/local/lib/python3.10/dist-packages/torch/nn/parallel/_functions.py:71: UserWarning: Was asked to gather along dimension 0, but all input tensors were scalars; will instead unsqueeze and return a vector.\n",
      "  warnings.warn(\n",
      "/usr/local/lib/python3.10/dist-packages/torch/nn/parallel/_functions.py:71: UserWarning: Was asked to gather along dimension 0, but all input tensors were scalars; will instead unsqueeze and return a vector.\n",
      "  warnings.warn(\n",
      "/usr/local/lib/python3.10/dist-packages/torch/nn/parallel/_functions.py:71: UserWarning: Was asked to gather along dimension 0, but all input tensors were scalars; will instead unsqueeze and return a vector.\n",
      "  warnings.warn(\n",
      "/usr/local/lib/python3.10/dist-packages/torch/nn/parallel/_functions.py:71: UserWarning: Was asked to gather along dimension 0, but all input tensors were scalars; will instead unsqueeze and return a vector.\n",
      "  warnings.warn(\n",
      "/usr/local/lib/python3.10/dist-packages/torch/nn/parallel/_functions.py:71: UserWarning: Was asked to gather along dimension 0, but all input tensors were scalars; will instead unsqueeze and return a vector.\n",
      "  warnings.warn(\n",
      "/usr/local/lib/python3.10/dist-packages/torch/nn/parallel/_functions.py:71: UserWarning: Was asked to gather along dimension 0, but all input tensors were scalars; will instead unsqueeze and return a vector.\n",
      "  warnings.warn(\n",
      "/usr/local/lib/python3.10/dist-packages/torch/nn/parallel/_functions.py:71: UserWarning: Was asked to gather along dimension 0, but all input tensors were scalars; will instead unsqueeze and return a vector.\n",
      "  warnings.warn(\n",
      "No files have been modified since last commit. Skipping to prevent empty commit.\n"
     ]
    },
    {
     "data": {
      "text/plain": [
       "CommitInfo(commit_url='https://huggingface.co/KanWasTaken/WhartonDS_RegressionModel/commit/1bd3a6de033784c8f700fc7c82f465e67eddd06f', commit_message='KanWasTaken/WhartonDS_RegressionModel', commit_description='', oid='1bd3a6de033784c8f700fc7c82f465e67eddd06f', pr_url=None, repo_url=RepoUrl('https://huggingface.co/KanWasTaken/WhartonDS_RegressionModel', endpoint='https://huggingface.co', repo_type='model', repo_id='KanWasTaken/WhartonDS_RegressionModel'), pr_revision=None, pr_num=None)"
      ]
     },
     "execution_count": 24,
     "metadata": {},
     "output_type": "execute_result"
    }
   ],
   "source": [
    "from transformers import Trainer, TrainingArguments\n",
    "\n",
    "training_args = TrainingArguments(\n",
    "    output_dir=\"./WhartonDS_RegressionModel\",\n",
    "    learning_rate = 1e-5,\n",
    "    eval_strategy=\"epoch\",  # Evaluate at each epoch\n",
    "    save_strategy=\"epoch\",\n",
    "    logging_strategy=\"epoch\",  # Log every epoch\n",
    "    logging_dir=\"./logs\",\n",
    "    logging_steps=1,  # Log at every step\n",
    "    per_device_train_batch_size=128,\n",
    "    per_device_eval_batch_size=32,\n",
    "    num_train_epochs=30,\n",
    "    weight_decay=0.01,\n",
    "    report_to=\"none\",\n",
    "    push_to_hub=True,\n",
    "    optim = 'adamw_torch'\n",
    ")\n",
    "\n",
    "# Initialize Model\n",
    "model = FeatureGroupingModel(FeatureGroupingConfig())\n",
    "\n",
    "trainer = Trainer(\n",
    "    model=model.to(device),\n",
    "    args=training_args,\n",
    "    train_dataset=train_set,\n",
    "    eval_dataset=val_set\n",
    "    #callbacks=[LossLoggerCallback()]  # Add the callback here\n",
    ")\n",
    "\n",
    "# Train the Model\n",
    "trainer.train()\n",
    "\n",
    "# Save Model\n",
    "trainer.save_model(\"./WhartonDS_RegressionModel\")\n",
    "\n",
    "# Save Model to Hugging Face Hub\n",
    "trainer.push_to_hub(\"KanWasTaken/WhartonDS_RegressionModel\")"
   ]
  },
  {
   "cell_type": "markdown",
   "id": "50d9ce6b",
   "metadata": {
    "papermill": {
     "duration": 0.007995,
     "end_time": "2025-02-15T11:51:27.450079",
     "exception": false,
     "start_time": "2025-02-15T11:51:27.442084",
     "status": "completed"
    },
    "tags": []
   },
   "source": [
    "# **Test**"
   ]
  }
 ],
 "metadata": {
  "kaggle": {
   "accelerator": "nvidiaTeslaT4",
   "dataSources": [
    {
     "datasetId": 6633633,
     "sourceId": 10703903,
     "sourceType": "datasetVersion"
    }
   ],
   "dockerImageVersionId": 30886,
   "isGpuEnabled": true,
   "isInternetEnabled": true,
   "language": "python",
   "sourceType": "notebook"
  },
  "kernelspec": {
   "display_name": "Python 3",
   "language": "python",
   "name": "python3"
  },
  "language_info": {
   "codemirror_mode": {
    "name": "ipython",
    "version": 3
   },
   "file_extension": ".py",
   "mimetype": "text/x-python",
   "name": "python",
   "nbconvert_exporter": "python",
   "pygments_lexer": "ipython3",
   "version": "3.10.12"
  },
  "papermill": {
   "default_parameters": {},
   "duration": 944.310806,
   "end_time": "2025-02-15T11:51:30.858372",
   "environment_variables": {},
   "exception": null,
   "input_path": "__notebook__.ipynb",
   "output_path": "__notebook__.ipynb",
   "parameters": {},
   "start_time": "2025-02-15T11:35:46.547566",
   "version": "2.6.0"
  },
  "widgets": {
   "application/vnd.jupyter.widget-state+json": {
    "state": {
     "13636b51f2a84de6a89727d9ec20d59a": {
      "model_module": "@jupyter-widgets/controls",
      "model_module_version": "2.0.0",
      "model_name": "HTMLStyleModel",
      "state": {
       "_model_module": "@jupyter-widgets/controls",
       "_model_module_version": "2.0.0",
       "_model_name": "HTMLStyleModel",
       "_view_count": null,
       "_view_module": "@jupyter-widgets/base",
       "_view_module_version": "2.0.0",
       "_view_name": "StyleView",
       "background": null,
       "description_width": "",
       "font_size": null,
       "text_color": null
      }
     },
     "1f49cf2deac84036adb97468daec7b93": {
      "model_module": "@jupyter-widgets/base",
      "model_module_version": "2.0.0",
      "model_name": "LayoutModel",
      "state": {
       "_model_module": "@jupyter-widgets/base",
       "_model_module_version": "2.0.0",
       "_model_name": "LayoutModel",
       "_view_count": null,
       "_view_module": "@jupyter-widgets/base",
       "_view_module_version": "2.0.0",
       "_view_name": "LayoutView",
       "align_content": null,
       "align_items": null,
       "align_self": null,
       "border_bottom": null,
       "border_left": null,
       "border_right": null,
       "border_top": null,
       "bottom": null,
       "display": null,
       "flex": null,
       "flex_flow": null,
       "grid_area": null,
       "grid_auto_columns": null,
       "grid_auto_flow": null,
       "grid_auto_rows": null,
       "grid_column": null,
       "grid_gap": null,
       "grid_row": null,
       "grid_template_areas": null,
       "grid_template_columns": null,
       "grid_template_rows": null,
       "height": null,
       "justify_content": null,
       "justify_items": null,
       "left": null,
       "margin": null,
       "max_height": null,
       "max_width": null,
       "min_height": null,
       "min_width": null,
       "object_fit": null,
       "object_position": null,
       "order": null,
       "overflow": null,
       "padding": null,
       "right": null,
       "top": null,
       "visibility": null,
       "width": null
      }
     },
     "27d6163fe9834a5182eb3c0e73783dfb": {
      "model_module": "@jupyter-widgets/controls",
      "model_module_version": "2.0.0",
      "model_name": "ProgressStyleModel",
      "state": {
       "_model_module": "@jupyter-widgets/controls",
       "_model_module_version": "2.0.0",
       "_model_name": "ProgressStyleModel",
       "_view_count": null,
       "_view_module": "@jupyter-widgets/base",
       "_view_module_version": "2.0.0",
       "_view_name": "StyleView",
       "bar_color": null,
       "description_width": ""
      }
     },
     "39ffc7ba8fa24e71ab48440ab999ebf3": {
      "model_module": "@jupyter-widgets/base",
      "model_module_version": "2.0.0",
      "model_name": "LayoutModel",
      "state": {
       "_model_module": "@jupyter-widgets/base",
       "_model_module_version": "2.0.0",
       "_model_name": "LayoutModel",
       "_view_count": null,
       "_view_module": "@jupyter-widgets/base",
       "_view_module_version": "2.0.0",
       "_view_name": "LayoutView",
       "align_content": null,
       "align_items": null,
       "align_self": null,
       "border_bottom": null,
       "border_left": null,
       "border_right": null,
       "border_top": null,
       "bottom": null,
       "display": null,
       "flex": null,
       "flex_flow": null,
       "grid_area": null,
       "grid_auto_columns": null,
       "grid_auto_flow": null,
       "grid_auto_rows": null,
       "grid_column": null,
       "grid_gap": null,
       "grid_row": null,
       "grid_template_areas": null,
       "grid_template_columns": null,
       "grid_template_rows": null,
       "height": null,
       "justify_content": null,
       "justify_items": null,
       "left": null,
       "margin": null,
       "max_height": null,
       "max_width": null,
       "min_height": null,
       "min_width": null,
       "object_fit": null,
       "object_position": null,
       "order": null,
       "overflow": null,
       "padding": null,
       "right": null,
       "top": null,
       "visibility": null,
       "width": null
      }
     },
     "3e7a22215cdc4cbf8020072a98126592": {
      "model_module": "@jupyter-widgets/base",
      "model_module_version": "2.0.0",
      "model_name": "LayoutModel",
      "state": {
       "_model_module": "@jupyter-widgets/base",
       "_model_module_version": "2.0.0",
       "_model_name": "LayoutModel",
       "_view_count": null,
       "_view_module": "@jupyter-widgets/base",
       "_view_module_version": "2.0.0",
       "_view_name": "LayoutView",
       "align_content": null,
       "align_items": null,
       "align_self": null,
       "border_bottom": null,
       "border_left": null,
       "border_right": null,
       "border_top": null,
       "bottom": null,
       "display": null,
       "flex": null,
       "flex_flow": null,
       "grid_area": null,
       "grid_auto_columns": null,
       "grid_auto_flow": null,
       "grid_auto_rows": null,
       "grid_column": null,
       "grid_gap": null,
       "grid_row": null,
       "grid_template_areas": null,
       "grid_template_columns": null,
       "grid_template_rows": null,
       "height": null,
       "justify_content": null,
       "justify_items": null,
       "left": null,
       "margin": null,
       "max_height": null,
       "max_width": null,
       "min_height": null,
       "min_width": null,
       "object_fit": null,
       "object_position": null,
       "order": null,
       "overflow": null,
       "padding": null,
       "right": null,
       "top": null,
       "visibility": null,
       "width": null
      }
     },
     "3ea7d32f8db948298d788e8188308694": {
      "model_module": "@jupyter-widgets/controls",
      "model_module_version": "2.0.0",
      "model_name": "FloatProgressModel",
      "state": {
       "_dom_classes": [],
       "_model_module": "@jupyter-widgets/controls",
       "_model_module_version": "2.0.0",
       "_model_name": "FloatProgressModel",
       "_view_count": null,
       "_view_module": "@jupyter-widgets/controls",
       "_view_module_version": "2.0.0",
       "_view_name": "ProgressView",
       "bar_style": "success",
       "description": "",
       "description_allow_html": false,
       "layout": "IPY_MODEL_e90dcc36ebff4208be5537db6b9c536a",
       "max": 1.0,
       "min": 0.0,
       "orientation": "horizontal",
       "style": "IPY_MODEL_27d6163fe9834a5182eb3c0e73783dfb",
       "tabbable": null,
       "tooltip": null,
       "value": 0.0
      }
     },
     "4fe9bcde3f1644229cd01722644c934e": {
      "model_module": "@jupyter-widgets/controls",
      "model_module_version": "2.0.0",
      "model_name": "FloatProgressModel",
      "state": {
       "_dom_classes": [],
       "_model_module": "@jupyter-widgets/controls",
       "_model_module_version": "2.0.0",
       "_model_name": "FloatProgressModel",
       "_view_count": null,
       "_view_module": "@jupyter-widgets/controls",
       "_view_module_version": "2.0.0",
       "_view_name": "ProgressView",
       "bar_style": "success",
       "description": "",
       "description_allow_html": false,
       "layout": "IPY_MODEL_fd7283019f0149c09dce56bb91d1e1d5",
       "max": 102469840.0,
       "min": 0.0,
       "orientation": "horizontal",
       "style": "IPY_MODEL_928305c5c4cb4056997afe53267d1c5b",
       "tabbable": null,
       "tooltip": null,
       "value": 102469840.0
      }
     },
     "7aeed8f24ce74897a3c3fe59322f77ff": {
      "model_module": "@jupyter-widgets/controls",
      "model_module_version": "2.0.0",
      "model_name": "HTMLStyleModel",
      "state": {
       "_model_module": "@jupyter-widgets/controls",
       "_model_module_version": "2.0.0",
       "_model_name": "HTMLStyleModel",
       "_view_count": null,
       "_view_module": "@jupyter-widgets/base",
       "_view_module_version": "2.0.0",
       "_view_name": "StyleView",
       "background": null,
       "description_width": "",
       "font_size": null,
       "text_color": null
      }
     },
     "928305c5c4cb4056997afe53267d1c5b": {
      "model_module": "@jupyter-widgets/controls",
      "model_module_version": "2.0.0",
      "model_name": "ProgressStyleModel",
      "state": {
       "_model_module": "@jupyter-widgets/controls",
       "_model_module_version": "2.0.0",
       "_model_name": "ProgressStyleModel",
       "_view_count": null,
       "_view_module": "@jupyter-widgets/base",
       "_view_module_version": "2.0.0",
       "_view_name": "StyleView",
       "bar_color": null,
       "description_width": ""
      }
     },
     "92bfe72a6297443e8739d017c5d99784": {
      "model_module": "@jupyter-widgets/base",
      "model_module_version": "2.0.0",
      "model_name": "LayoutModel",
      "state": {
       "_model_module": "@jupyter-widgets/base",
       "_model_module_version": "2.0.0",
       "_model_name": "LayoutModel",
       "_view_count": null,
       "_view_module": "@jupyter-widgets/base",
       "_view_module_version": "2.0.0",
       "_view_name": "LayoutView",
       "align_content": null,
       "align_items": null,
       "align_self": null,
       "border_bottom": null,
       "border_left": null,
       "border_right": null,
       "border_top": null,
       "bottom": null,
       "display": null,
       "flex": null,
       "flex_flow": null,
       "grid_area": null,
       "grid_auto_columns": null,
       "grid_auto_flow": null,
       "grid_auto_rows": null,
       "grid_column": null,
       "grid_gap": null,
       "grid_row": null,
       "grid_template_areas": null,
       "grid_template_columns": null,
       "grid_template_rows": null,
       "height": null,
       "justify_content": null,
       "justify_items": null,
       "left": null,
       "margin": null,
       "max_height": null,
       "max_width": null,
       "min_height": null,
       "min_width": null,
       "object_fit": null,
       "object_position": null,
       "order": null,
       "overflow": null,
       "padding": null,
       "right": null,
       "top": null,
       "visibility": null,
       "width": null
      }
     },
     "952b9062c9104602b0f5ea1c11eb79d7": {
      "model_module": "@jupyter-widgets/controls",
      "model_module_version": "2.0.0",
      "model_name": "HBoxModel",
      "state": {
       "_dom_classes": [],
       "_model_module": "@jupyter-widgets/controls",
       "_model_module_version": "2.0.0",
       "_model_name": "HBoxModel",
       "_view_count": null,
       "_view_module": "@jupyter-widgets/controls",
       "_view_module_version": "2.0.0",
       "_view_name": "HBoxView",
       "box_style": "",
       "children": [
        "IPY_MODEL_eeca5c451d664a44b88e210e7a923a56",
        "IPY_MODEL_3ea7d32f8db948298d788e8188308694",
        "IPY_MODEL_c707dab8f1164b2eb376d285286afd10"
       ],
       "layout": "IPY_MODEL_ef1ea1165bb948cdb08c41788effeb4b",
       "tabbable": null,
       "tooltip": null
      }
     },
     "9c636297b572485b9d728735b4b76333": {
      "model_module": "@jupyter-widgets/controls",
      "model_module_version": "2.0.0",
      "model_name": "HTMLModel",
      "state": {
       "_dom_classes": [],
       "_model_module": "@jupyter-widgets/controls",
       "_model_module_version": "2.0.0",
       "_model_name": "HTMLModel",
       "_view_count": null,
       "_view_module": "@jupyter-widgets/controls",
       "_view_module_version": "2.0.0",
       "_view_name": "HTMLView",
       "description": "",
       "description_allow_html": false,
       "layout": "IPY_MODEL_3e7a22215cdc4cbf8020072a98126592",
       "placeholder": "​",
       "style": "IPY_MODEL_13636b51f2a84de6a89727d9ec20d59a",
       "tabbable": null,
       "tooltip": null,
       "value": " 102M/102M [00:00&lt;00:00, 232MB/s]"
      }
     },
     "a966ac3fbf8347fea66f2f1ff51f881a": {
      "model_module": "@jupyter-widgets/controls",
      "model_module_version": "2.0.0",
      "model_name": "HTMLStyleModel",
      "state": {
       "_model_module": "@jupyter-widgets/controls",
       "_model_module_version": "2.0.0",
       "_model_name": "HTMLStyleModel",
       "_view_count": null,
       "_view_module": "@jupyter-widgets/base",
       "_view_module_version": "2.0.0",
       "_view_name": "StyleView",
       "background": null,
       "description_width": "",
       "font_size": null,
       "text_color": null
      }
     },
     "b032a7981a82467b86f83614b47bba38": {
      "model_module": "@jupyter-widgets/controls",
      "model_module_version": "2.0.0",
      "model_name": "HBoxModel",
      "state": {
       "_dom_classes": [],
       "_model_module": "@jupyter-widgets/controls",
       "_model_module_version": "2.0.0",
       "_model_name": "HBoxModel",
       "_view_count": null,
       "_view_module": "@jupyter-widgets/controls",
       "_view_module_version": "2.0.0",
       "_view_name": "HBoxView",
       "box_style": "",
       "children": [
        "IPY_MODEL_c1e81a3f14a14138b1547dd7466d7f74",
        "IPY_MODEL_4fe9bcde3f1644229cd01722644c934e",
        "IPY_MODEL_9c636297b572485b9d728735b4b76333"
       ],
       "layout": "IPY_MODEL_bc8957f76abb49859ccdc52f07d21559",
       "tabbable": null,
       "tooltip": null
      }
     },
     "bc8957f76abb49859ccdc52f07d21559": {
      "model_module": "@jupyter-widgets/base",
      "model_module_version": "2.0.0",
      "model_name": "LayoutModel",
      "state": {
       "_model_module": "@jupyter-widgets/base",
       "_model_module_version": "2.0.0",
       "_model_name": "LayoutModel",
       "_view_count": null,
       "_view_module": "@jupyter-widgets/base",
       "_view_module_version": "2.0.0",
       "_view_name": "LayoutView",
       "align_content": null,
       "align_items": null,
       "align_self": null,
       "border_bottom": null,
       "border_left": null,
       "border_right": null,
       "border_top": null,
       "bottom": null,
       "display": null,
       "flex": null,
       "flex_flow": null,
       "grid_area": null,
       "grid_auto_columns": null,
       "grid_auto_flow": null,
       "grid_auto_rows": null,
       "grid_column": null,
       "grid_gap": null,
       "grid_row": null,
       "grid_template_areas": null,
       "grid_template_columns": null,
       "grid_template_rows": null,
       "height": null,
       "justify_content": null,
       "justify_items": null,
       "left": null,
       "margin": null,
       "max_height": null,
       "max_width": null,
       "min_height": null,
       "min_width": null,
       "object_fit": null,
       "object_position": null,
       "order": null,
       "overflow": null,
       "padding": null,
       "right": null,
       "top": null,
       "visibility": null,
       "width": null
      }
     },
     "c1e81a3f14a14138b1547dd7466d7f74": {
      "model_module": "@jupyter-widgets/controls",
      "model_module_version": "2.0.0",
      "model_name": "HTMLModel",
      "state": {
       "_dom_classes": [],
       "_model_module": "@jupyter-widgets/controls",
       "_model_module_version": "2.0.0",
       "_model_name": "HTMLModel",
       "_view_count": null,
       "_view_module": "@jupyter-widgets/controls",
       "_view_module_version": "2.0.0",
       "_view_name": "HTMLView",
       "description": "",
       "description_allow_html": false,
       "layout": "IPY_MODEL_39ffc7ba8fa24e71ab48440ab999ebf3",
       "placeholder": "​",
       "style": "IPY_MODEL_db00751113624320855b4513ccde118d",
       "tabbable": null,
       "tooltip": null,
       "value": "model.safetensors: 100%"
      }
     },
     "c707dab8f1164b2eb376d285286afd10": {
      "model_module": "@jupyter-widgets/controls",
      "model_module_version": "2.0.0",
      "model_name": "HTMLModel",
      "state": {
       "_dom_classes": [],
       "_model_module": "@jupyter-widgets/controls",
       "_model_module_version": "2.0.0",
       "_model_name": "HTMLModel",
       "_view_count": null,
       "_view_module": "@jupyter-widgets/controls",
       "_view_module_version": "2.0.0",
       "_view_name": "HTMLView",
       "description": "",
       "description_allow_html": false,
       "layout": "IPY_MODEL_1f49cf2deac84036adb97468daec7b93",
       "placeholder": "​",
       "style": "IPY_MODEL_7aeed8f24ce74897a3c3fe59322f77ff",
       "tabbable": null,
       "tooltip": null,
       "value": " 0/0 [00:00&lt;?, ?it/s]"
      }
     },
     "db00751113624320855b4513ccde118d": {
      "model_module": "@jupyter-widgets/controls",
      "model_module_version": "2.0.0",
      "model_name": "HTMLStyleModel",
      "state": {
       "_model_module": "@jupyter-widgets/controls",
       "_model_module_version": "2.0.0",
       "_model_name": "HTMLStyleModel",
       "_view_count": null,
       "_view_module": "@jupyter-widgets/base",
       "_view_module_version": "2.0.0",
       "_view_name": "StyleView",
       "background": null,
       "description_width": "",
       "font_size": null,
       "text_color": null
      }
     },
     "e90dcc36ebff4208be5537db6b9c536a": {
      "model_module": "@jupyter-widgets/base",
      "model_module_version": "2.0.0",
      "model_name": "LayoutModel",
      "state": {
       "_model_module": "@jupyter-widgets/base",
       "_model_module_version": "2.0.0",
       "_model_name": "LayoutModel",
       "_view_count": null,
       "_view_module": "@jupyter-widgets/base",
       "_view_module_version": "2.0.0",
       "_view_name": "LayoutView",
       "align_content": null,
       "align_items": null,
       "align_self": null,
       "border_bottom": null,
       "border_left": null,
       "border_right": null,
       "border_top": null,
       "bottom": null,
       "display": null,
       "flex": null,
       "flex_flow": null,
       "grid_area": null,
       "grid_auto_columns": null,
       "grid_auto_flow": null,
       "grid_auto_rows": null,
       "grid_column": null,
       "grid_gap": null,
       "grid_row": null,
       "grid_template_areas": null,
       "grid_template_columns": null,
       "grid_template_rows": null,
       "height": null,
       "justify_content": null,
       "justify_items": null,
       "left": null,
       "margin": null,
       "max_height": null,
       "max_width": null,
       "min_height": null,
       "min_width": null,
       "object_fit": null,
       "object_position": null,
       "order": null,
       "overflow": null,
       "padding": null,
       "right": null,
       "top": null,
       "visibility": null,
       "width": "20px"
      }
     },
     "eeca5c451d664a44b88e210e7a923a56": {
      "model_module": "@jupyter-widgets/controls",
      "model_module_version": "2.0.0",
      "model_name": "HTMLModel",
      "state": {
       "_dom_classes": [],
       "_model_module": "@jupyter-widgets/controls",
       "_model_module_version": "2.0.0",
       "_model_name": "HTMLModel",
       "_view_count": null,
       "_view_module": "@jupyter-widgets/controls",
       "_view_module_version": "2.0.0",
       "_view_name": "HTMLView",
       "description": "",
       "description_allow_html": false,
       "layout": "IPY_MODEL_92bfe72a6297443e8739d017c5d99784",
       "placeholder": "​",
       "style": "IPY_MODEL_a966ac3fbf8347fea66f2f1ff51f881a",
       "tabbable": null,
       "tooltip": null,
       "value": ""
      }
     },
     "ef1ea1165bb948cdb08c41788effeb4b": {
      "model_module": "@jupyter-widgets/base",
      "model_module_version": "2.0.0",
      "model_name": "LayoutModel",
      "state": {
       "_model_module": "@jupyter-widgets/base",
       "_model_module_version": "2.0.0",
       "_model_name": "LayoutModel",
       "_view_count": null,
       "_view_module": "@jupyter-widgets/base",
       "_view_module_version": "2.0.0",
       "_view_name": "LayoutView",
       "align_content": null,
       "align_items": null,
       "align_self": null,
       "border_bottom": null,
       "border_left": null,
       "border_right": null,
       "border_top": null,
       "bottom": null,
       "display": null,
       "flex": null,
       "flex_flow": null,
       "grid_area": null,
       "grid_auto_columns": null,
       "grid_auto_flow": null,
       "grid_auto_rows": null,
       "grid_column": null,
       "grid_gap": null,
       "grid_row": null,
       "grid_template_areas": null,
       "grid_template_columns": null,
       "grid_template_rows": null,
       "height": null,
       "justify_content": null,
       "justify_items": null,
       "left": null,
       "margin": null,
       "max_height": null,
       "max_width": null,
       "min_height": null,
       "min_width": null,
       "object_fit": null,
       "object_position": null,
       "order": null,
       "overflow": null,
       "padding": null,
       "right": null,
       "top": null,
       "visibility": null,
       "width": null
      }
     },
     "fd7283019f0149c09dce56bb91d1e1d5": {
      "model_module": "@jupyter-widgets/base",
      "model_module_version": "2.0.0",
      "model_name": "LayoutModel",
      "state": {
       "_model_module": "@jupyter-widgets/base",
       "_model_module_version": "2.0.0",
       "_model_name": "LayoutModel",
       "_view_count": null,
       "_view_module": "@jupyter-widgets/base",
       "_view_module_version": "2.0.0",
       "_view_name": "LayoutView",
       "align_content": null,
       "align_items": null,
       "align_self": null,
       "border_bottom": null,
       "border_left": null,
       "border_right": null,
       "border_top": null,
       "bottom": null,
       "display": null,
       "flex": null,
       "flex_flow": null,
       "grid_area": null,
       "grid_auto_columns": null,
       "grid_auto_flow": null,
       "grid_auto_rows": null,
       "grid_column": null,
       "grid_gap": null,
       "grid_row": null,
       "grid_template_areas": null,
       "grid_template_columns": null,
       "grid_template_rows": null,
       "height": null,
       "justify_content": null,
       "justify_items": null,
       "left": null,
       "margin": null,
       "max_height": null,
       "max_width": null,
       "min_height": null,
       "min_width": null,
       "object_fit": null,
       "object_position": null,
       "order": null,
       "overflow": null,
       "padding": null,
       "right": null,
       "top": null,
       "visibility": null,
       "width": null
      }
     }
    },
    "version_major": 2,
    "version_minor": 0
   }
  }
 },
 "nbformat": 4,
 "nbformat_minor": 5
}
