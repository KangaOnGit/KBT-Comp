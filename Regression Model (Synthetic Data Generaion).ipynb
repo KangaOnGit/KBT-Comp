{
 "cells": [
  {
   "cell_type": "markdown",
   "id": "83b12b5e",
   "metadata": {
    "papermill": {
     "duration": 0.005493,
     "end_time": "2025-02-15T08:52:16.897554",
     "exception": false,
     "start_time": "2025-02-15T08:52:16.892061",
     "status": "completed"
    },
    "tags": []
   },
   "source": [
    "# **Libraries**"
   ]
  },
  {
   "cell_type": "code",
   "execution_count": 1,
   "id": "36117bd8",
   "metadata": {
    "execution": {
     "iopub.execute_input": "2025-02-15T08:52:16.908118Z",
     "iopub.status.busy": "2025-02-15T08:52:16.907834Z",
     "iopub.status.idle": "2025-02-15T08:52:21.069987Z",
     "shell.execute_reply": "2025-02-15T08:52:21.068827Z"
    },
    "papermill": {
     "duration": 4.169141,
     "end_time": "2025-02-15T08:52:21.071590",
     "exception": false,
     "start_time": "2025-02-15T08:52:16.902449",
     "status": "completed"
    },
    "scrolled": true,
    "tags": []
   },
   "outputs": [
    {
     "name": "stdout",
     "output_type": "stream",
     "text": [
      "Requirement already satisfied: timm in /usr/local/lib/python3.10/dist-packages (1.0.12)\r\n",
      "Requirement already satisfied: torch in /usr/local/lib/python3.10/dist-packages (from timm) (2.5.1+cu121)\r\n",
      "Requirement already satisfied: torchvision in /usr/local/lib/python3.10/dist-packages (from timm) (0.20.1+cu121)\r\n",
      "Requirement already satisfied: pyyaml in /usr/local/lib/python3.10/dist-packages (from timm) (6.0.2)\r\n",
      "Requirement already satisfied: huggingface_hub in /usr/local/lib/python3.10/dist-packages (from timm) (0.28.1)\r\n",
      "Requirement already satisfied: safetensors in /usr/local/lib/python3.10/dist-packages (from timm) (0.4.5)\r\n",
      "Requirement already satisfied: filelock in /usr/local/lib/python3.10/dist-packages (from huggingface_hub->timm) (3.17.0)\r\n",
      "Requirement already satisfied: fsspec>=2023.5.0 in /usr/local/lib/python3.10/dist-packages (from huggingface_hub->timm) (2024.9.0)\r\n",
      "Requirement already satisfied: packaging>=20.9 in /usr/local/lib/python3.10/dist-packages (from huggingface_hub->timm) (24.2)\r\n",
      "Requirement already satisfied: requests in /usr/local/lib/python3.10/dist-packages (from huggingface_hub->timm) (2.32.3)\r\n",
      "Requirement already satisfied: tqdm>=4.42.1 in /usr/local/lib/python3.10/dist-packages (from huggingface_hub->timm) (4.67.1)\r\n",
      "Requirement already satisfied: typing-extensions>=3.7.4.3 in /usr/local/lib/python3.10/dist-packages (from huggingface_hub->timm) (4.12.2)\r\n",
      "Requirement already satisfied: networkx in /usr/local/lib/python3.10/dist-packages (from torch->timm) (3.4.2)\r\n",
      "Requirement already satisfied: jinja2 in /usr/local/lib/python3.10/dist-packages (from torch->timm) (3.1.4)\r\n",
      "Requirement already satisfied: sympy==1.13.1 in /usr/local/lib/python3.10/dist-packages (from torch->timm) (1.13.1)\r\n",
      "Requirement already satisfied: mpmath<1.4,>=1.1.0 in /usr/local/lib/python3.10/dist-packages (from sympy==1.13.1->torch->timm) (1.3.0)\r\n",
      "Requirement already satisfied: numpy in /usr/local/lib/python3.10/dist-packages (from torchvision->timm) (1.26.4)\r\n",
      "Requirement already satisfied: pillow!=8.3.*,>=5.3.0 in /usr/local/lib/python3.10/dist-packages (from torchvision->timm) (11.0.0)\r\n",
      "Requirement already satisfied: MarkupSafe>=2.0 in /usr/local/lib/python3.10/dist-packages (from jinja2->torch->timm) (3.0.2)\r\n",
      "Requirement already satisfied: mkl_fft in /usr/local/lib/python3.10/dist-packages (from numpy->torchvision->timm) (1.3.8)\r\n",
      "Requirement already satisfied: mkl_random in /usr/local/lib/python3.10/dist-packages (from numpy->torchvision->timm) (1.2.4)\r\n",
      "Requirement already satisfied: mkl_umath in /usr/local/lib/python3.10/dist-packages (from numpy->torchvision->timm) (0.1.1)\r\n",
      "Requirement already satisfied: mkl in /usr/local/lib/python3.10/dist-packages (from numpy->torchvision->timm) (2025.0.1)\r\n",
      "Requirement already satisfied: tbb4py in /usr/local/lib/python3.10/dist-packages (from numpy->torchvision->timm) (2022.0.0)\r\n",
      "Requirement already satisfied: mkl-service in /usr/local/lib/python3.10/dist-packages (from numpy->torchvision->timm) (2.4.1)\r\n",
      "Requirement already satisfied: charset-normalizer<4,>=2 in /usr/local/lib/python3.10/dist-packages (from requests->huggingface_hub->timm) (3.4.1)\r\n",
      "Requirement already satisfied: idna<4,>=2.5 in /usr/local/lib/python3.10/dist-packages (from requests->huggingface_hub->timm) (3.10)\r\n",
      "Requirement already satisfied: urllib3<3,>=1.21.1 in /usr/local/lib/python3.10/dist-packages (from requests->huggingface_hub->timm) (2.3.0)\r\n",
      "Requirement already satisfied: certifi>=2017.4.17 in /usr/local/lib/python3.10/dist-packages (from requests->huggingface_hub->timm) (2025.1.31)\r\n",
      "Requirement already satisfied: intel-openmp>=2024 in /usr/local/lib/python3.10/dist-packages (from mkl->numpy->torchvision->timm) (2024.2.0)\r\n",
      "Requirement already satisfied: tbb==2022.* in /usr/local/lib/python3.10/dist-packages (from mkl->numpy->torchvision->timm) (2022.0.0)\r\n",
      "Requirement already satisfied: tcmlib==1.* in /usr/local/lib/python3.10/dist-packages (from tbb==2022.*->mkl->numpy->torchvision->timm) (1.2.0)\r\n",
      "Requirement already satisfied: intel-cmplr-lib-rt in /usr/local/lib/python3.10/dist-packages (from mkl_umath->numpy->torchvision->timm) (2024.2.0)\r\n",
      "Requirement already satisfied: intel-cmplr-lib-ur==2024.2.0 in /usr/local/lib/python3.10/dist-packages (from intel-openmp>=2024->mkl->numpy->torchvision->timm) (2024.2.0)\r\n"
     ]
    }
   ],
   "source": [
    "!pip install timm"
   ]
  },
  {
   "cell_type": "code",
   "execution_count": 2,
   "id": "7213802e",
   "metadata": {
    "execution": {
     "iopub.execute_input": "2025-02-15T08:52:21.083430Z",
     "iopub.status.busy": "2025-02-15T08:52:21.083103Z",
     "iopub.status.idle": "2025-02-15T08:52:24.603296Z",
     "shell.execute_reply": "2025-02-15T08:52:24.602436Z"
    },
    "papermill": {
     "duration": 3.527862,
     "end_time": "2025-02-15T08:52:24.604952",
     "exception": false,
     "start_time": "2025-02-15T08:52:21.077090",
     "status": "completed"
    },
    "scrolled": true,
    "tags": []
   },
   "outputs": [
    {
     "name": "stdout",
     "output_type": "stream",
     "text": [
      "Collecting pytorch_tabnet\r\n",
      "  Downloading pytorch_tabnet-4.1.0-py3-none-any.whl.metadata (15 kB)\r\n",
      "Requirement already satisfied: numpy>=1.17 in /usr/local/lib/python3.10/dist-packages (from pytorch_tabnet) (1.26.4)\r\n",
      "Requirement already satisfied: scikit_learn>0.21 in /usr/local/lib/python3.10/dist-packages (from pytorch_tabnet) (1.2.2)\r\n",
      "Requirement already satisfied: scipy>1.4 in /usr/local/lib/python3.10/dist-packages (from pytorch_tabnet) (1.13.1)\r\n",
      "Requirement already satisfied: torch>=1.3 in /usr/local/lib/python3.10/dist-packages (from pytorch_tabnet) (2.5.1+cu121)\r\n",
      "Requirement already satisfied: tqdm>=4.36 in /usr/local/lib/python3.10/dist-packages (from pytorch_tabnet) (4.67.1)\r\n",
      "Requirement already satisfied: mkl_fft in /usr/local/lib/python3.10/dist-packages (from numpy>=1.17->pytorch_tabnet) (1.3.8)\r\n",
      "Requirement already satisfied: mkl_random in /usr/local/lib/python3.10/dist-packages (from numpy>=1.17->pytorch_tabnet) (1.2.4)\r\n",
      "Requirement already satisfied: mkl_umath in /usr/local/lib/python3.10/dist-packages (from numpy>=1.17->pytorch_tabnet) (0.1.1)\r\n",
      "Requirement already satisfied: mkl in /usr/local/lib/python3.10/dist-packages (from numpy>=1.17->pytorch_tabnet) (2025.0.1)\r\n",
      "Requirement already satisfied: tbb4py in /usr/local/lib/python3.10/dist-packages (from numpy>=1.17->pytorch_tabnet) (2022.0.0)\r\n",
      "Requirement already satisfied: mkl-service in /usr/local/lib/python3.10/dist-packages (from numpy>=1.17->pytorch_tabnet) (2.4.1)\r\n",
      "Requirement already satisfied: joblib>=1.1.1 in /usr/local/lib/python3.10/dist-packages (from scikit_learn>0.21->pytorch_tabnet) (1.4.2)\r\n",
      "Requirement already satisfied: threadpoolctl>=2.0.0 in /usr/local/lib/python3.10/dist-packages (from scikit_learn>0.21->pytorch_tabnet) (3.5.0)\r\n",
      "Requirement already satisfied: filelock in /usr/local/lib/python3.10/dist-packages (from torch>=1.3->pytorch_tabnet) (3.17.0)\r\n",
      "Requirement already satisfied: typing-extensions>=4.8.0 in /usr/local/lib/python3.10/dist-packages (from torch>=1.3->pytorch_tabnet) (4.12.2)\r\n",
      "Requirement already satisfied: networkx in /usr/local/lib/python3.10/dist-packages (from torch>=1.3->pytorch_tabnet) (3.4.2)\r\n",
      "Requirement already satisfied: jinja2 in /usr/local/lib/python3.10/dist-packages (from torch>=1.3->pytorch_tabnet) (3.1.4)\r\n",
      "Requirement already satisfied: fsspec in /usr/local/lib/python3.10/dist-packages (from torch>=1.3->pytorch_tabnet) (2024.9.0)\r\n",
      "Requirement already satisfied: sympy==1.13.1 in /usr/local/lib/python3.10/dist-packages (from torch>=1.3->pytorch_tabnet) (1.13.1)\r\n",
      "Requirement already satisfied: mpmath<1.4,>=1.1.0 in /usr/local/lib/python3.10/dist-packages (from sympy==1.13.1->torch>=1.3->pytorch_tabnet) (1.3.0)\r\n",
      "Requirement already satisfied: MarkupSafe>=2.0 in /usr/local/lib/python3.10/dist-packages (from jinja2->torch>=1.3->pytorch_tabnet) (3.0.2)\r\n",
      "Requirement already satisfied: intel-openmp>=2024 in /usr/local/lib/python3.10/dist-packages (from mkl->numpy>=1.17->pytorch_tabnet) (2024.2.0)\r\n",
      "Requirement already satisfied: tbb==2022.* in /usr/local/lib/python3.10/dist-packages (from mkl->numpy>=1.17->pytorch_tabnet) (2022.0.0)\r\n",
      "Requirement already satisfied: tcmlib==1.* in /usr/local/lib/python3.10/dist-packages (from tbb==2022.*->mkl->numpy>=1.17->pytorch_tabnet) (1.2.0)\r\n",
      "Requirement already satisfied: intel-cmplr-lib-rt in /usr/local/lib/python3.10/dist-packages (from mkl_umath->numpy>=1.17->pytorch_tabnet) (2024.2.0)\r\n",
      "Requirement already satisfied: intel-cmplr-lib-ur==2024.2.0 in /usr/local/lib/python3.10/dist-packages (from intel-openmp>=2024->mkl->numpy>=1.17->pytorch_tabnet) (2024.2.0)\r\n",
      "Downloading pytorch_tabnet-4.1.0-py3-none-any.whl (44 kB)\r\n",
      "\u001b[2K   \u001b[90m━━━━━━━━━━━━━━━━━━━━━━━━━━━━━━━━━━━━━━━━\u001b[0m \u001b[32m44.5/44.5 kB\u001b[0m \u001b[31m1.7 MB/s\u001b[0m eta \u001b[36m0:00:00\u001b[0m\r\n",
      "\u001b[?25hInstalling collected packages: pytorch_tabnet\r\n",
      "Successfully installed pytorch_tabnet-4.1.0\r\n"
     ]
    }
   ],
   "source": [
    "!pip install pytorch_tabnet"
   ]
  },
  {
   "cell_type": "code",
   "execution_count": 3,
   "id": "8b14ea17",
   "metadata": {
    "execution": {
     "iopub.execute_input": "2025-02-15T08:52:24.617212Z",
     "iopub.status.busy": "2025-02-15T08:52:24.616976Z",
     "iopub.status.idle": "2025-02-15T08:52:28.204590Z",
     "shell.execute_reply": "2025-02-15T08:52:28.203742Z"
    },
    "papermill": {
     "duration": 3.595218,
     "end_time": "2025-02-15T08:52:28.206040",
     "exception": false,
     "start_time": "2025-02-15T08:52:24.610822",
     "status": "completed"
    },
    "tags": []
   },
   "outputs": [
    {
     "name": "stdout",
     "output_type": "stream",
     "text": [
      "Collecting evaluate\r\n",
      "  Downloading evaluate-0.4.3-py3-none-any.whl.metadata (9.2 kB)\r\n",
      "Requirement already satisfied: datasets>=2.0.0 in /usr/local/lib/python3.10/dist-packages (from evaluate) (3.2.0)\r\n",
      "Requirement already satisfied: numpy>=1.17 in /usr/local/lib/python3.10/dist-packages (from evaluate) (1.26.4)\r\n",
      "Requirement already satisfied: dill in /usr/local/lib/python3.10/dist-packages (from evaluate) (0.3.8)\r\n",
      "Requirement already satisfied: pandas in /usr/local/lib/python3.10/dist-packages (from evaluate) (2.2.3)\r\n",
      "Requirement already satisfied: requests>=2.19.0 in /usr/local/lib/python3.10/dist-packages (from evaluate) (2.32.3)\r\n",
      "Requirement already satisfied: tqdm>=4.62.1 in /usr/local/lib/python3.10/dist-packages (from evaluate) (4.67.1)\r\n",
      "Requirement already satisfied: xxhash in /usr/local/lib/python3.10/dist-packages (from evaluate) (3.5.0)\r\n",
      "Requirement already satisfied: multiprocess in /usr/local/lib/python3.10/dist-packages (from evaluate) (0.70.16)\r\n",
      "Requirement already satisfied: fsspec>=2021.05.0 in /usr/local/lib/python3.10/dist-packages (from fsspec[http]>=2021.05.0->evaluate) (2024.9.0)\r\n",
      "Requirement already satisfied: huggingface-hub>=0.7.0 in /usr/local/lib/python3.10/dist-packages (from evaluate) (0.28.1)\r\n",
      "Requirement already satisfied: packaging in /usr/local/lib/python3.10/dist-packages (from evaluate) (24.2)\r\n",
      "Requirement already satisfied: filelock in /usr/local/lib/python3.10/dist-packages (from datasets>=2.0.0->evaluate) (3.17.0)\r\n",
      "Requirement already satisfied: pyarrow>=15.0.0 in /usr/local/lib/python3.10/dist-packages (from datasets>=2.0.0->evaluate) (19.0.0)\r\n",
      "Requirement already satisfied: aiohttp in /usr/local/lib/python3.10/dist-packages (from datasets>=2.0.0->evaluate) (3.11.11)\r\n",
      "Requirement already satisfied: pyyaml>=5.1 in /usr/local/lib/python3.10/dist-packages (from datasets>=2.0.0->evaluate) (6.0.2)\r\n",
      "Requirement already satisfied: typing-extensions>=3.7.4.3 in /usr/local/lib/python3.10/dist-packages (from huggingface-hub>=0.7.0->evaluate) (4.12.2)\r\n",
      "Requirement already satisfied: mkl_fft in /usr/local/lib/python3.10/dist-packages (from numpy>=1.17->evaluate) (1.3.8)\r\n",
      "Requirement already satisfied: mkl_random in /usr/local/lib/python3.10/dist-packages (from numpy>=1.17->evaluate) (1.2.4)\r\n",
      "Requirement already satisfied: mkl_umath in /usr/local/lib/python3.10/dist-packages (from numpy>=1.17->evaluate) (0.1.1)\r\n",
      "Requirement already satisfied: mkl in /usr/local/lib/python3.10/dist-packages (from numpy>=1.17->evaluate) (2025.0.1)\r\n",
      "Requirement already satisfied: tbb4py in /usr/local/lib/python3.10/dist-packages (from numpy>=1.17->evaluate) (2022.0.0)\r\n",
      "Requirement already satisfied: mkl-service in /usr/local/lib/python3.10/dist-packages (from numpy>=1.17->evaluate) (2.4.1)\r\n",
      "Requirement already satisfied: charset-normalizer<4,>=2 in /usr/local/lib/python3.10/dist-packages (from requests>=2.19.0->evaluate) (3.4.1)\r\n",
      "Requirement already satisfied: idna<4,>=2.5 in /usr/local/lib/python3.10/dist-packages (from requests>=2.19.0->evaluate) (3.10)\r\n",
      "Requirement already satisfied: urllib3<3,>=1.21.1 in /usr/local/lib/python3.10/dist-packages (from requests>=2.19.0->evaluate) (2.3.0)\r\n",
      "Requirement already satisfied: certifi>=2017.4.17 in /usr/local/lib/python3.10/dist-packages (from requests>=2.19.0->evaluate) (2025.1.31)\r\n",
      "Requirement already satisfied: python-dateutil>=2.8.2 in /usr/local/lib/python3.10/dist-packages (from pandas->evaluate) (2.9.0.post0)\r\n",
      "Requirement already satisfied: pytz>=2020.1 in /usr/local/lib/python3.10/dist-packages (from pandas->evaluate) (2025.1)\r\n",
      "Requirement already satisfied: tzdata>=2022.7 in /usr/local/lib/python3.10/dist-packages (from pandas->evaluate) (2025.1)\r\n",
      "Requirement already satisfied: aiohappyeyeballs>=2.3.0 in /usr/local/lib/python3.10/dist-packages (from aiohttp->datasets>=2.0.0->evaluate) (2.4.4)\r\n",
      "Requirement already satisfied: aiosignal>=1.1.2 in /usr/local/lib/python3.10/dist-packages (from aiohttp->datasets>=2.0.0->evaluate) (1.3.2)\r\n",
      "Requirement already satisfied: async-timeout<6.0,>=4.0 in /usr/local/lib/python3.10/dist-packages (from aiohttp->datasets>=2.0.0->evaluate) (5.0.1)\r\n",
      "Requirement already satisfied: attrs>=17.3.0 in /usr/local/lib/python3.10/dist-packages (from aiohttp->datasets>=2.0.0->evaluate) (25.1.0)\r\n",
      "Requirement already satisfied: frozenlist>=1.1.1 in /usr/local/lib/python3.10/dist-packages (from aiohttp->datasets>=2.0.0->evaluate) (1.5.0)\r\n",
      "Requirement already satisfied: multidict<7.0,>=4.5 in /usr/local/lib/python3.10/dist-packages (from aiohttp->datasets>=2.0.0->evaluate) (6.1.0)\r\n",
      "Requirement already satisfied: propcache>=0.2.0 in /usr/local/lib/python3.10/dist-packages (from aiohttp->datasets>=2.0.0->evaluate) (0.2.1)\r\n",
      "Requirement already satisfied: yarl<2.0,>=1.17.0 in /usr/local/lib/python3.10/dist-packages (from aiohttp->datasets>=2.0.0->evaluate) (1.18.3)\r\n",
      "Requirement already satisfied: six>=1.5 in /usr/local/lib/python3.10/dist-packages (from python-dateutil>=2.8.2->pandas->evaluate) (1.17.0)\r\n",
      "Requirement already satisfied: intel-openmp>=2024 in /usr/local/lib/python3.10/dist-packages (from mkl->numpy>=1.17->evaluate) (2024.2.0)\r\n",
      "Requirement already satisfied: tbb==2022.* in /usr/local/lib/python3.10/dist-packages (from mkl->numpy>=1.17->evaluate) (2022.0.0)\r\n",
      "Requirement already satisfied: tcmlib==1.* in /usr/local/lib/python3.10/dist-packages (from tbb==2022.*->mkl->numpy>=1.17->evaluate) (1.2.0)\r\n",
      "Requirement already satisfied: intel-cmplr-lib-rt in /usr/local/lib/python3.10/dist-packages (from mkl_umath->numpy>=1.17->evaluate) (2024.2.0)\r\n",
      "Requirement already satisfied: intel-cmplr-lib-ur==2024.2.0 in /usr/local/lib/python3.10/dist-packages (from intel-openmp>=2024->mkl->numpy>=1.17->evaluate) (2024.2.0)\r\n",
      "Downloading evaluate-0.4.3-py3-none-any.whl (84 kB)\r\n",
      "\u001b[2K   \u001b[90m━━━━━━━━━━━━━━━━━━━━━━━━━━━━━━━━━━━━━━━━\u001b[0m \u001b[32m84.0/84.0 kB\u001b[0m \u001b[31m3.0 MB/s\u001b[0m eta \u001b[36m0:00:00\u001b[0m\r\n",
      "\u001b[?25hInstalling collected packages: evaluate\r\n",
      "Successfully installed evaluate-0.4.3\r\n"
     ]
    }
   ],
   "source": [
    "!pip install evaluate"
   ]
  },
  {
   "cell_type": "code",
   "execution_count": 4,
   "id": "6cfd5a1a",
   "metadata": {
    "_cell_guid": "b1076dfc-b9ad-4769-8c92-a6c4dae69d19",
    "_uuid": "8f2839f25d086af736a60e9eeb907d3b93b6e0e5",
    "execution": {
     "iopub.execute_input": "2025-02-15T08:52:28.219443Z",
     "iopub.status.busy": "2025-02-15T08:52:28.219207Z",
     "iopub.status.idle": "2025-02-15T08:52:40.471971Z",
     "shell.execute_reply": "2025-02-15T08:52:40.470806Z"
    },
    "papermill": {
     "duration": 12.261757,
     "end_time": "2025-02-15T08:52:40.474234",
     "exception": false,
     "start_time": "2025-02-15T08:52:28.212477",
     "status": "completed"
    },
    "tags": []
   },
   "outputs": [],
   "source": [
    "# Data Processing n' Visualization\n",
    "import matplotlib.pyplot as plt\n",
    "import pandas as pd\n",
    "import seaborn as sns\n",
    "\n",
    "# Compute\n",
    "import numpy as np\n",
    "import torch\n",
    "import torch.nn as nn\n",
    "import torch.optim as optim\n",
    "\n",
    "# Data\n",
    "from torch.utils.data import Dataset, DataLoader\n",
    "from sklearn.model_selection import train_test_split\n",
    "\n",
    "# Random\n",
    "import os\n",
    "import random as rand\n",
    "import timm"
   ]
  },
  {
   "cell_type": "code",
   "execution_count": 5,
   "id": "e8d8cd23",
   "metadata": {
    "execution": {
     "iopub.execute_input": "2025-02-15T08:52:40.495374Z",
     "iopub.status.busy": "2025-02-15T08:52:40.495098Z",
     "iopub.status.idle": "2025-02-15T08:52:40.498721Z",
     "shell.execute_reply": "2025-02-15T08:52:40.497849Z"
    },
    "papermill": {
     "duration": 0.015653,
     "end_time": "2025-02-15T08:52:40.500628",
     "exception": false,
     "start_time": "2025-02-15T08:52:40.484975",
     "status": "completed"
    },
    "tags": []
   },
   "outputs": [],
   "source": [
    "torch.cuda.empty_cache()"
   ]
  },
  {
   "cell_type": "code",
   "execution_count": 6,
   "id": "1aee4c24",
   "metadata": {
    "execution": {
     "iopub.execute_input": "2025-02-15T08:52:40.524655Z",
     "iopub.status.busy": "2025-02-15T08:52:40.524243Z",
     "iopub.status.idle": "2025-02-15T08:52:40.530658Z",
     "shell.execute_reply": "2025-02-15T08:52:40.529853Z"
    },
    "papermill": {
     "duration": 0.019645,
     "end_time": "2025-02-15T08:52:40.532166",
     "exception": false,
     "start_time": "2025-02-15T08:52:40.512521",
     "status": "completed"
    },
    "tags": []
   },
   "outputs": [],
   "source": [
    "def set_seed(seed):\n",
    "  rand.seed(seed)\n",
    "  np.random.seed(seed)\n",
    "  torch.cuda.manual_seed(seed)\n",
    "  torch.cuda.manual_seed_all(seed)\n",
    "  torch.backends.cudnn.deterministic = True\n",
    "  torch.backends.cudnn.benchmark = False\n",
    "\n",
    "seed = 59\n",
    "set_seed(59)"
   ]
  },
  {
   "cell_type": "markdown",
   "id": "86ea70b1",
   "metadata": {
    "papermill": {
     "duration": 0.006222,
     "end_time": "2025-02-15T08:52:40.545059",
     "exception": false,
     "start_time": "2025-02-15T08:52:40.538837",
     "status": "completed"
    },
    "tags": []
   },
   "source": [
    "--------------------\n",
    "# **Data Sample**"
   ]
  },
  {
   "cell_type": "code",
   "execution_count": 7,
   "id": "d852524a",
   "metadata": {
    "execution": {
     "iopub.execute_input": "2025-02-15T08:52:40.557555Z",
     "iopub.status.busy": "2025-02-15T08:52:40.557305Z",
     "iopub.status.idle": "2025-02-15T08:52:40.560308Z",
     "shell.execute_reply": "2025-02-15T08:52:40.559703Z"
    },
    "papermill": {
     "duration": 0.010533,
     "end_time": "2025-02-15T08:52:40.561500",
     "exception": false,
     "start_time": "2025-02-15T08:52:40.550967",
     "status": "completed"
    },
    "tags": []
   },
   "outputs": [],
   "source": [
    "data_dir = '/kaggle/input/wharton-basketball-dataset/games_2022.xlsx'"
   ]
  },
  {
   "cell_type": "code",
   "execution_count": 8,
   "id": "793f8e91",
   "metadata": {
    "execution": {
     "iopub.execute_input": "2025-02-15T08:52:40.573938Z",
     "iopub.status.busy": "2025-02-15T08:52:40.573703Z",
     "iopub.status.idle": "2025-02-15T08:52:46.096457Z",
     "shell.execute_reply": "2025-02-15T08:52:46.095576Z"
    },
    "papermill": {
     "duration": 5.530451,
     "end_time": "2025-02-15T08:52:46.097865",
     "exception": false,
     "start_time": "2025-02-15T08:52:40.567414",
     "status": "completed"
    },
    "tags": []
   },
   "outputs": [
    {
     "name": "stdout",
     "output_type": "stream",
     "text": [
      "Dataset Type: <class 'pandas.core.frame.DataFrame'>\n"
     ]
    }
   ],
   "source": [
    "df = pd.read_excel(data_dir)\n",
    "print(f\"Dataset Type: {type(df)}\")"
   ]
  },
  {
   "cell_type": "code",
   "execution_count": 9,
   "id": "8b011af3",
   "metadata": {
    "execution": {
     "iopub.execute_input": "2025-02-15T08:52:46.111653Z",
     "iopub.status.busy": "2025-02-15T08:52:46.111263Z",
     "iopub.status.idle": "2025-02-15T08:52:46.114407Z",
     "shell.execute_reply": "2025-02-15T08:52:46.113757Z"
    },
    "papermill": {
     "duration": 0.011498,
     "end_time": "2025-02-15T08:52:46.115706",
     "exception": false,
     "start_time": "2025-02-15T08:52:46.104208",
     "status": "completed"
    },
    "tags": []
   },
   "outputs": [],
   "source": [
    "df_ts = df"
   ]
  },
  {
   "cell_type": "markdown",
   "id": "eeaa7097",
   "metadata": {
    "papermill": {
     "duration": 0.005645,
     "end_time": "2025-02-15T08:52:46.127316",
     "exception": false,
     "start_time": "2025-02-15T08:52:46.121671",
     "status": "completed"
    },
    "tags": []
   },
   "source": [
    "----------------------------\n",
    "# **Data Preprocessing**"
   ]
  },
  {
   "cell_type": "code",
   "execution_count": 10,
   "id": "97f7c2c5",
   "metadata": {
    "execution": {
     "iopub.execute_input": "2025-02-15T08:52:46.139951Z",
     "iopub.status.busy": "2025-02-15T08:52:46.139692Z",
     "iopub.status.idle": "2025-02-15T08:52:46.183571Z",
     "shell.execute_reply": "2025-02-15T08:52:46.182731Z"
    },
    "papermill": {
     "duration": 0.051447,
     "end_time": "2025-02-15T08:52:46.184846",
     "exception": false,
     "start_time": "2025-02-15T08:52:46.133399",
     "status": "completed"
    },
    "tags": []
   },
   "outputs": [
    {
     "name": "stdout",
     "output_type": "stream",
     "text": [
      "          game_id  game_date                       team     FGA_2     FGM_2  \\\n",
      "0  game_2022_2011 2021-12-30      georgia_lady_bulldogs  0.661290  0.513514   \n",
      "1  game_2022_2011 2021-12-30                 lsu_tigers  0.661290  0.567568   \n",
      "2  game_2022_2012 2021-12-30            missouri_tigers  0.548387  0.405405   \n",
      "3  game_2022_2012 2021-12-30   south_carolina_gamecocks  0.741935  0.540541   \n",
      "4  game_2022_2013 2021-12-30  tennessee_lady_volunteers  0.516129  0.459459   \n",
      "\n",
      "      FGA_3     FGM_3       FTA    FTM       AST  ...       TOV  TOV_team  \\\n",
      "0  0.196078  0.227273  0.125000  0.075  0.361111  ...  0.390244  0.000000   \n",
      "1  0.196078  0.181818  0.312500  0.200  0.388889  ...  0.292683  0.333333   \n",
      "2  0.274510  0.318182  0.333333  0.325  0.250000  ...  0.146341  0.166667   \n",
      "3  0.392157  0.272727  0.187500  0.125  0.388889  ...  0.146341  0.000000   \n",
      "4  0.274510  0.181818  0.312500  0.250  0.416667  ...  0.317073  0.166667   \n",
      "\n",
      "       DREB     OREB  F_tech  F_personal  rest_days  prev_game_dist  \\\n",
      "0  0.410256  0.34375     0.0    0.451613   0.210526        0.000000   \n",
      "1  0.410256  0.34375     0.0    0.096774   0.052632        0.105722   \n",
      "2  0.564103  0.18750     0.0    0.225806   0.184211        0.047601   \n",
      "3  0.461538  0.62500     0.0    0.354839   0.210526        0.148063   \n",
      "4  0.641026  0.37500     0.0    0.290323   0.052632        0.000000   \n",
      "\n",
      "   home_away_NS  travel_dist  \n",
      "0             1     0.000000  \n",
      "1             0     0.121105  \n",
      "2             1     0.000000  \n",
      "3             0     0.169606  \n",
      "4             1     0.000000  \n",
      "\n",
      "[5 rows x 22 columns]\n"
     ]
    }
   ],
   "source": [
    "df_ts = df_ts.drop(columns = ['OT_length_min_tot', 'attendance', 'tz_dif_H_E', 'opponent_team_score', \n",
    "                        'team_score', 'home_away', 'notD1_incomplete', 'largest_lead'])\n",
    "df_ts = df_ts.dropna()\n",
    "df_ts['home_away_NS'] = df_ts['home_away_NS'].replace({\n",
    "    1: 1, -1: 0, 0: 2\n",
    "})\n",
    "\n",
    "from sklearn.preprocessing import MinMaxScaler\n",
    "\n",
    "# List of columns to normalize\n",
    "stats_to_normalize = ['FGA_2', 'FGM_2', 'FGA_3', 'FGM_3', \n",
    "                      'FTA', 'FTM', 'AST', 'BLK', 'STL', 'TOV', \n",
    "                      'TOV_team', 'DREB', 'OREB', 'F_tech', 'F_personal', \n",
    "                      'rest_days', 'prev_game_dist', 'travel_dist']\n",
    "\n",
    "# Initialize MinMaxScaler\n",
    "scaler = MinMaxScaler(feature_range=(0,1))\n",
    "\n",
    "# Apply MinMaxScaler only to the selected stats\n",
    "df_ts[stats_to_normalize] = scaler.fit_transform(df_ts[stats_to_normalize])\n",
    "\n",
    "print(df_ts.head())  # Check normalized values"
   ]
  },
  {
   "cell_type": "code",
   "execution_count": 11,
   "id": "fdb42adb",
   "metadata": {
    "execution": {
     "iopub.execute_input": "2025-02-15T08:52:46.197613Z",
     "iopub.status.busy": "2025-02-15T08:52:46.197387Z",
     "iopub.status.idle": "2025-02-15T08:52:51.037409Z",
     "shell.execute_reply": "2025-02-15T08:52:51.036705Z"
    },
    "papermill": {
     "duration": 4.847996,
     "end_time": "2025-02-15T08:52:51.038962",
     "exception": false,
     "start_time": "2025-02-15T08:52:46.190966",
     "status": "completed"
    },
    "scrolled": true,
    "tags": []
   },
   "outputs": [
    {
     "name": "stdout",
     "output_type": "stream",
     "text": [
      "[0.6612903225806451 0.5135135135135136 0.19607843137254904\n",
      " 0.2272727272727273 0.125 0.07500000000000001 0.36111111111111105\n",
      " 0.38888888888888884 0.25925925925925924 0.3902439024390244 0.0\n",
      " 0.41025641025641024 0.34375 0.0 0.4516129032258064 0.05263157894736842\n",
      " 0.06209905055170644 0 0.07113462669018225]\n",
      "Type of combined_stats: <class 'numpy.ndarray'>\n",
      "First Index: 0.6612903225806451\n",
      "-----------------------------------------------------------\n",
      "Label: [0.7580645161290323 0.6216216216216217 0.09803921568627451\n",
      " 0.045454545454545456 0.47916666666666663 0.45 0.25 0.1111111111111111\n",
      " 0.5555555555555556 0.3658536585365854 0.3333333333333333\n",
      " 0.2564102564102564 0.5 0.0 0.3548387096774194]\n",
      "Type of Label: <class 'numpy.ndarray'>\n",
      "First Index: 0.7580645161290323\n"
     ]
    }
   ],
   "source": [
    "Data = {}\n",
    "X = []\n",
    "y = []\n",
    "start_col = 'FGA_2'\n",
    "end_col = 'F_personal'\n",
    "\n",
    "start_col_nx = 'rest_days'\n",
    "end_col_nx = 'travel_dist'\n",
    "# Loop through all Teams in Dataset\n",
    "for i ,team in enumerate(df_ts['team'].unique()):\n",
    "    team_data = df_ts[df_ts['team'] == team]\n",
    "    for idx in range(len(team_data) - 1):\n",
    "        # Features = past game (FGA_2 to F_personal) + current game stats (rest_days to travel_dist)\n",
    "        past_game = team_data.iloc[idx]\n",
    "        next_game = team_data.iloc[idx + 1]\n",
    "        \n",
    "        past_stats = past_game.loc[start_col : end_col].values\n",
    "        next_stats = next_game.loc[start_col_nx:end_col_nx].values\n",
    "\n",
    "        # We predict next game FGA_2 to F_personal\n",
    "        label = next_game.loc[start_col:end_col].values\n",
    "\n",
    "        if idx == 0 and i == 0:\n",
    "            combined_stats_x = np.concatenate((past_stats, next_stats))\n",
    "            print(combined_stats_x)\n",
    "            print(f\"Type of combined_stats: {type(combined_stats_x)}\")\n",
    "            print(f\"First Index: {combined_stats_x[0]}\")\n",
    "            print(\"-\"*59)\n",
    "            print(f\"Label: {label}\")\n",
    "            print(f\"Type of Label: {type(label)}\")\n",
    "            print(f\"First Index: {label[0]}\")\n",
    "\n",
    "        combined_stats = np.concatenate((past_stats, next_stats))\n",
    "        X.append(combined_stats)\n",
    "        y.append(label)"
   ]
  },
  {
   "cell_type": "code",
   "execution_count": 12,
   "id": "15175cc3",
   "metadata": {
    "execution": {
     "iopub.execute_input": "2025-02-15T08:52:51.052507Z",
     "iopub.status.busy": "2025-02-15T08:52:51.052225Z",
     "iopub.status.idle": "2025-02-15T08:52:51.057813Z",
     "shell.execute_reply": "2025-02-15T08:52:51.057161Z"
    },
    "papermill": {
     "duration": 0.01354,
     "end_time": "2025-02-15T08:52:51.059101",
     "exception": false,
     "start_time": "2025-02-15T08:52:51.045561",
     "status": "completed"
    },
    "scrolled": true,
    "tags": []
   },
   "outputs": [
    {
     "name": "stdout",
     "output_type": "stream",
     "text": [
      "First Features: [0.6612903225806451 0.5135135135135136 0.19607843137254904\n",
      " 0.2272727272727273 0.125 0.07500000000000001 0.36111111111111105\n",
      " 0.38888888888888884 0.25925925925925924 0.3902439024390244 0.0\n",
      " 0.41025641025641024 0.34375 0.0 0.4516129032258064 0.05263157894736842\n",
      " 0.06209905055170644 0 0.07113462669018225]\n",
      "Number of Features: 19\n",
      "-----------------------------------------------------------\n",
      "First Labels: [0.7580645161290323 0.6216216216216217 0.09803921568627451\n",
      " 0.045454545454545456 0.47916666666666663 0.45 0.25 0.1111111111111111\n",
      " 0.5555555555555556 0.3658536585365854 0.3333333333333333\n",
      " 0.2564102564102564 0.5 0.0 0.3548387096774194]\n",
      "Number of Features to Predict: 15\n",
      "Type: (<class 'list'>, <class 'list'>)\n"
     ]
    }
   ],
   "source": [
    "print(f\"First Features: {X[0]}\")\n",
    "print(f\"Number of Features: {len(X[0])}\")\n",
    "\n",
    "print(\"-\"*59)\n",
    "print(f\"First Labels: {y[0]}\")\n",
    "print(f\"Number of Features to Predict: {len(y[0])}\")\n",
    "\n",
    "print(f\"Type: {type(X), type(y)}\")"
   ]
  },
  {
   "cell_type": "code",
   "execution_count": 13,
   "id": "4216c861",
   "metadata": {
    "execution": {
     "iopub.execute_input": "2025-02-15T08:52:51.072258Z",
     "iopub.status.busy": "2025-02-15T08:52:51.072041Z",
     "iopub.status.idle": "2025-02-15T08:52:51.129237Z",
     "shell.execute_reply": "2025-02-15T08:52:51.128563Z"
    },
    "papermill": {
     "duration": 0.065042,
     "end_time": "2025-02-15T08:52:51.130536",
     "exception": false,
     "start_time": "2025-02-15T08:52:51.065494",
     "status": "completed"
    },
    "tags": []
   },
   "outputs": [],
   "source": [
    "X = np.array(X, dtype=np.float32)\n",
    "y = np.array(y, dtype=np.float32)"
   ]
  },
  {
   "cell_type": "markdown",
   "id": "58ab2bfa",
   "metadata": {
    "papermill": {
     "duration": 0.006047,
     "end_time": "2025-02-15T08:52:51.143495",
     "exception": false,
     "start_time": "2025-02-15T08:52:51.137448",
     "status": "completed"
    },
    "tags": []
   },
   "source": [
    "# **Dataset**"
   ]
  },
  {
   "cell_type": "code",
   "execution_count": 14,
   "id": "cbd9fb71",
   "metadata": {
    "execution": {
     "iopub.execute_input": "2025-02-15T08:52:51.156282Z",
     "iopub.status.busy": "2025-02-15T08:52:51.156039Z",
     "iopub.status.idle": "2025-02-15T08:52:51.164630Z",
     "shell.execute_reply": "2025-02-15T08:52:51.163892Z"
    },
    "papermill": {
     "duration": 0.01648,
     "end_time": "2025-02-15T08:52:51.165931",
     "exception": false,
     "start_time": "2025-02-15T08:52:51.149451",
     "status": "completed"
    },
    "tags": []
   },
   "outputs": [
    {
     "name": "stdout",
     "output_type": "stream",
     "text": [
      "(6139, 19)\n",
      "(6139, 15)\n",
      "Type of X_train and X_test: <class 'numpy.ndarray'> | <class 'numpy.ndarray'>\n",
      "float32 float32\n",
      "float32 float32\n",
      "float32 float32\n"
     ]
    }
   ],
   "source": [
    "X_train, X_test, y_train, y_test = train_test_split(X, y, test_size=0.3, random_state=42)\n",
    "X_test, X_val, y_test, y_val = train_test_split(X_test, y_test, test_size=0.33, random_state=42)\n",
    "\n",
    "print(X_train.shape)  # Should be (num_samples, num_features) → (N, 19)\n",
    "print(y_train.shape)  # Should be (num_samples, num_outputs) → (N, 15)\n",
    "print(f\"Type of X_train and X_test: {type(X_train)} | {type(X_test)}\")\n",
    "print(X_train.dtype, y_train.dtype)\n",
    "print(X_val.dtype, y_val.dtype)\n",
    "print(X_test.dtype, y_test.dtype)"
   ]
  },
  {
   "cell_type": "code",
   "execution_count": 15,
   "id": "dcbb7698",
   "metadata": {
    "execution": {
     "iopub.execute_input": "2025-02-15T08:52:51.178917Z",
     "iopub.status.busy": "2025-02-15T08:52:51.178615Z",
     "iopub.status.idle": "2025-02-15T08:52:51.182923Z",
     "shell.execute_reply": "2025-02-15T08:52:51.182317Z"
    },
    "papermill": {
     "duration": 0.011952,
     "end_time": "2025-02-15T08:52:51.184072",
     "exception": false,
     "start_time": "2025-02-15T08:52:51.172120",
     "status": "completed"
    },
    "tags": []
   },
   "outputs": [],
   "source": [
    "import torch\n",
    "from torch.utils.data import Dataset\n",
    "\n",
    "class bkb_dataset(Dataset):\n",
    "    def __init__(self, data, label):\n",
    "        self.data = data\n",
    "        self.label = label\n",
    "\n",
    "    def __len__(self):\n",
    "        return len(self.data)\n",
    "\n",
    "    def __getitem__(self, idx):\n",
    "        feature = torch.tensor(self.data[idx], dtype=torch.float32)  # Use float32\n",
    "        label = torch.tensor(self.label[idx], dtype=torch.float32)  # Use float32\n",
    "\n",
    "        return {\"input_ids\": feature, \"labels\": label}"
   ]
  },
  {
   "cell_type": "code",
   "execution_count": 16,
   "id": "274cedf6",
   "metadata": {
    "execution": {
     "iopub.execute_input": "2025-02-15T08:52:51.196769Z",
     "iopub.status.busy": "2025-02-15T08:52:51.196568Z",
     "iopub.status.idle": "2025-02-15T08:52:51.201270Z",
     "shell.execute_reply": "2025-02-15T08:52:51.200415Z"
    },
    "papermill": {
     "duration": 0.012447,
     "end_time": "2025-02-15T08:52:51.202520",
     "exception": false,
     "start_time": "2025-02-15T08:52:51.190073",
     "status": "completed"
    },
    "tags": []
   },
   "outputs": [
    {
     "name": "stdout",
     "output_type": "stream",
     "text": [
      "Length of train_set: 6139\n",
      "Length of test_set: 1763\n",
      "Length of val_set: 869\n"
     ]
    }
   ],
   "source": [
    "train_set = bkb_dataset(\n",
    "    X_train,\n",
    "    y_train,\n",
    ")\n",
    "\n",
    "val_set = bkb_dataset(\n",
    "    X_val,\n",
    "    y_val,\n",
    ")\n",
    "\n",
    "test_set = bkb_dataset(\n",
    "    X_test,\n",
    "    y_test,\n",
    ")\n",
    "print(f\"Length of train_set: {len(train_set)}\")\n",
    "print(f\"Length of test_set: {len(test_set)}\")\n",
    "print(f\"Length of val_set: {len(val_set)}\")"
   ]
  },
  {
   "cell_type": "code",
   "execution_count": 17,
   "id": "543865b9",
   "metadata": {
    "execution": {
     "iopub.execute_input": "2025-02-15T08:52:51.215357Z",
     "iopub.status.busy": "2025-02-15T08:52:51.215147Z",
     "iopub.status.idle": "2025-02-15T08:52:51.220237Z",
     "shell.execute_reply": "2025-02-15T08:52:51.219440Z"
    },
    "papermill": {
     "duration": 0.012756,
     "end_time": "2025-02-15T08:52:51.221352",
     "exception": false,
     "start_time": "2025-02-15T08:52:51.208596",
     "status": "completed"
    },
    "tags": []
   },
   "outputs": [
    {
     "name": "stdout",
     "output_type": "stream",
     "text": [
      "Length train_loader: 24\n",
      "Length test_loader: 56\n",
      "Length val_loader: 28\n"
     ]
    }
   ],
   "source": [
    "train_batch = 256\n",
    "test_batch = 32\n",
    "\n",
    "train_loader = DataLoader(\n",
    "    train_set,\n",
    "    batch_size = train_batch,\n",
    "    shuffle = True\n",
    ")\n",
    "\n",
    "val_loader = DataLoader(\n",
    "    val_set,\n",
    "    batch_size = test_batch,\n",
    "    shuffle = False\n",
    ")\n",
    "\n",
    "test_loader = DataLoader(\n",
    "    test_set,\n",
    "    batch_size = test_batch,\n",
    "    shuffle = False\n",
    ")\n",
    "print(f\"Length train_loader: {len(train_loader)}\")\n",
    "print(f\"Length test_loader: {len(test_loader)}\")\n",
    "print(f\"Length val_loader: {len(val_loader)}\")"
   ]
  },
  {
   "cell_type": "markdown",
   "id": "c811cf87",
   "metadata": {
    "papermill": {
     "duration": 0.006014,
     "end_time": "2025-02-15T08:52:51.233520",
     "exception": false,
     "start_time": "2025-02-15T08:52:51.227506",
     "status": "completed"
    },
    "tags": []
   },
   "source": [
    "# **Model**"
   ]
  },
  {
   "cell_type": "code",
   "execution_count": 18,
   "id": "3a1d7319",
   "metadata": {
    "execution": {
     "iopub.execute_input": "2025-02-15T08:52:51.246375Z",
     "iopub.status.busy": "2025-02-15T08:52:51.246167Z",
     "iopub.status.idle": "2025-02-15T08:52:51.451212Z",
     "shell.execute_reply": "2025-02-15T08:52:51.450604Z"
    },
    "papermill": {
     "duration": 0.212904,
     "end_time": "2025-02-15T08:52:51.452467",
     "exception": false,
     "start_time": "2025-02-15T08:52:51.239563",
     "status": "completed"
    },
    "tags": []
   },
   "outputs": [],
   "source": [
    "from huggingface_hub import login\n",
    "\n",
    "from kaggle_secrets import UserSecretsClient\n",
    "user_secrets = UserSecretsClient()\n",
    "HUGGINGFACE_TOKEN = user_secrets.get_secret(\"HF_TOKEN\")\n",
    "\n",
    "# Login to Hugging Face\n",
    "login(HUGGINGFACE_TOKEN)"
   ]
  },
  {
   "cell_type": "code",
   "execution_count": 19,
   "id": "c7f9bd24",
   "metadata": {
    "execution": {
     "iopub.execute_input": "2025-02-15T08:52:51.465577Z",
     "iopub.status.busy": "2025-02-15T08:52:51.465372Z",
     "iopub.status.idle": "2025-02-15T08:52:51.536449Z",
     "shell.execute_reply": "2025-02-15T08:52:51.535536Z"
    },
    "papermill": {
     "duration": 0.078913,
     "end_time": "2025-02-15T08:52:51.537673",
     "exception": false,
     "start_time": "2025-02-15T08:52:51.458760",
     "status": "completed"
    },
    "tags": []
   },
   "outputs": [],
   "source": [
    "device = torch.device(\"cuda\" if torch.cuda.is_available() else \"cpu\")"
   ]
  },
  {
   "cell_type": "code",
   "execution_count": 20,
   "id": "0f302297",
   "metadata": {
    "execution": {
     "iopub.execute_input": "2025-02-15T08:52:51.551298Z",
     "iopub.status.busy": "2025-02-15T08:52:51.551059Z",
     "iopub.status.idle": "2025-02-15T08:52:53.080243Z",
     "shell.execute_reply": "2025-02-15T08:52:53.079299Z"
    },
    "papermill": {
     "duration": 1.537677,
     "end_time": "2025-02-15T08:52:53.081860",
     "exception": false,
     "start_time": "2025-02-15T08:52:51.544183",
     "status": "completed"
    },
    "tags": []
   },
   "outputs": [
    {
     "data": {
      "application/vnd.jupyter.widget-view+json": {
       "model_id": "c908832c071b47ba83d5ba70492364e1",
       "version_major": 2,
       "version_minor": 0
      },
      "text/plain": [
       "model.safetensors:   0%|          | 0.00/102M [00:00<?, ?B/s]"
      ]
     },
     "metadata": {},
     "output_type": "display_data"
    },
    {
     "name": "stdout",
     "output_type": "stream",
     "text": [
      "torch.Size([1, 15])\n",
      "tensor([[-0.0485,  0.0908, -0.0734, -0.0430,  0.0105,  0.0398, -0.0911, -0.0072,\n",
      "         -0.0823, -0.0483, -0.0095, -0.0607,  0.0591,  0.0160, -0.0349]],\n",
      "       grad_fn=<AddmmBackward0>)\n"
     ]
    }
   ],
   "source": [
    "import torch.nn.functional as F\n",
    "\n",
    "class FeatureGrouping(nn.Module):\n",
    "    def __init__(self, num_features=19, max_groups=3, embed_dim=4, output_dim=15, resnet_model=\"resnet50\", finetune = False):\n",
    "        super().__init__()\n",
    "        self.num_features = num_features\n",
    "        self.max_groups = max_groups\n",
    "        self.embed_dim = embed_dim\n",
    "        self.output_dim = output_dim\n",
    "\n",
    "        # Embedding for home_away (3 categories: Home, Away, Neutral)\n",
    "        self.home_away_embed = nn.Embedding(3, embed_dim)\n",
    "\n",
    "        # Adjust feature count after embedding replacement\n",
    "        self.adjusted_num_features = num_features - 1 + embed_dim  # 22 total features\n",
    "\n",
    "        # Calculate the maximum features per group to ensure consistent dimensions\n",
    "        self.max_features_per_group = self.adjusted_num_features\n",
    "\n",
    "        # Learnable logits for feature assignment\n",
    "        self.assignment_logits = nn.Parameter(torch.randn(self.adjusted_num_features, max_groups))\n",
    "\n",
    "        # Self-Attention layers for each possible number of groups\n",
    "        self.attention_layers = nn.ModuleDict({\n",
    "            f\"attn_{g}\": nn.MultiheadAttention(\n",
    "                embed_dim=self.max_features_per_group,\n",
    "                num_heads=1,\n",
    "                batch_first=True\n",
    "            )\n",
    "            for g in range(1, max_groups + 1)\n",
    "        })\n",
    "\n",
    "        # Reduce channels before ResNet\n",
    "        self.channel_reducer = nn.Conv2d(in_channels=max_groups, out_channels=3, kernel_size=1)\n",
    "\n",
    "        # Pretrained ResNet model\n",
    "        self.resnet = timm.create_model(resnet_model, pretrained=True)\n",
    "        in_features = self.resnet.get_classifier().in_features\n",
    "        self.resnet.reset_classifier(0)\n",
    "\n",
    "        # Final regression head\n",
    "        self.fc = nn.Linear(in_features, output_dim)\n",
    "\n",
    "    def forward(self, x):\n",
    "        batch_size = x.shape[0]\n",
    "\n",
    "        # Extract home_away index and convert to embeddings\n",
    "        home_away_idx = x[:, 17].long().clamp(0, 2)\n",
    "        home_away_embed = self.home_away_embed(home_away_idx)\n",
    "        x = torch.cat([x[:, :17], home_away_embed, x[:, 18:]], dim=1)\n",
    "\n",
    "        # Hard feature assignment\n",
    "        assignment_hard = torch.argmax(self.assignment_logits, dim=1)\n",
    "\n",
    "        all_group_outputs = []\n",
    "\n",
    "        # Process different group configurations\n",
    "        for num_groups in range(1, self.max_groups + 1):\n",
    "            # Split features into groups\n",
    "            groups = []\n",
    "            features_per_group = self.adjusted_num_features // num_groups\n",
    "            \n",
    "            for g in range(num_groups):\n",
    "                start_idx = g * features_per_group\n",
    "                end_idx = min(start_idx + features_per_group, self.adjusted_num_features)\n",
    "                group_features = x[:, start_idx:end_idx]\n",
    "                \n",
    "                # Pad to match max_features_per_group\n",
    "                if group_features.shape[1] < self.max_features_per_group:\n",
    "                    pad_size = self.max_features_per_group - group_features.shape[1]\n",
    "                    padding = torch.zeros(batch_size, pad_size, device=x.device)\n",
    "                    group_features = torch.cat([group_features, padding], dim=1)\n",
    "                \n",
    "                groups.append(group_features)\n",
    "\n",
    "            # Process each group with attention\n",
    "            processed_groups = []\n",
    "            for g in range(num_groups):\n",
    "                group_features = groups[g].unsqueeze(1)\n",
    "                attn_output, _ = self.attention_layers[f\"attn_{num_groups}\"](\n",
    "                    group_features, group_features, group_features)\n",
    "                processed_groups.append(attn_output)\n",
    "\n",
    "            # Combine processed groups\n",
    "            group_output = torch.cat(processed_groups, dim=1)\n",
    "            \n",
    "            # Pad to match max_groups if necessary\n",
    "            if num_groups < self.max_groups:\n",
    "                padding = torch.zeros(\n",
    "                    batch_size,\n",
    "                    self.max_groups - num_groups,\n",
    "                    self.max_features_per_group,\n",
    "                    device=x.device\n",
    "                )\n",
    "                group_output = torch.cat([group_output, padding], dim=1)\n",
    "            \n",
    "            all_group_outputs.append(group_output)\n",
    "\n",
    "        # Stack all configurations\n",
    "        x_final = torch.stack(all_group_outputs, dim=1)  # [B, max_groups, max_groups, Features]\n",
    "        \n",
    "        # Reshape for channel reducer\n",
    "        x_final = x_final.mean(dim=1)  # [B, max_groups, Features]\n",
    "        x_final = x_final.permute(0, 2, 1)  # [B, Features, max_groups]\n",
    "        x_final = x_final.mean(dim=1).unsqueeze(-1).unsqueeze(-1)  # [B, max_groups, 1, 1]\n",
    "        \n",
    "        # Apply channel reduction\n",
    "        x_final = self.channel_reducer(x_final)  # [B, 3, 1, 1]\n",
    "        \n",
    "        # Prepare for ResNet\n",
    "        x_final = x_final.expand(-1, -1, 224, 224)  # [B, 3, 224, 224]\n",
    "\n",
    "        # Process through ResNet and final layer\n",
    "        x_final = self.resnet(x_final)\n",
    "        output = self.fc(x_final)\n",
    "\n",
    "        return output\n",
    "\n",
    "batch_size = 1\n",
    "x = torch.randn(batch_size, 19)  # Example input features\n",
    "model = FeatureGrouping(resnet_model=\"resnet50\")  # Using ResNet50\n",
    "output = model(x)\n",
    "print(output.shape)  # Expected: (B, 15)\n",
    "print(output)"
   ]
  },
  {
   "cell_type": "code",
   "execution_count": 21,
   "id": "b590a2cb",
   "metadata": {
    "execution": {
     "iopub.execute_input": "2025-02-15T08:52:53.096570Z",
     "iopub.status.busy": "2025-02-15T08:52:53.096255Z",
     "iopub.status.idle": "2025-02-15T08:53:05.256965Z",
     "shell.execute_reply": "2025-02-15T08:53:05.256251Z"
    },
    "papermill": {
     "duration": 12.16952,
     "end_time": "2025-02-15T08:53:05.258416",
     "exception": false,
     "start_time": "2025-02-15T08:52:53.088896",
     "status": "completed"
    },
    "tags": []
   },
   "outputs": [
    {
     "name": "stderr",
     "output_type": "stream",
     "text": [
      "The cache for model files in Transformers v4.22.0 has been updated. Migrating your old cache. This is a one-time only operation. You can interrupt this and resume the migration later on by calling `transformers.utils.move_cache()`.\n"
     ]
    },
    {
     "data": {
      "application/vnd.jupyter.widget-view+json": {
       "model_id": "4a41dd7842e04c779b0b72fc8e2079c8",
       "version_major": 2,
       "version_minor": 0
      },
      "text/plain": [
       "0it [00:00, ?it/s]"
      ]
     },
     "metadata": {},
     "output_type": "display_data"
    }
   ],
   "source": [
    "from transformers import PreTrainedModel, PretrainedConfig\n",
    "\n",
    "class FeatureGroupingConfig(PretrainedConfig):\n",
    "    model_type = \"feature_grouping\"\n",
    "\n",
    "    def __init__(self, num_features=19, output_dim=15, **kwargs):\n",
    "        super().__init__(**kwargs)\n",
    "        self.num_features = num_features\n",
    "        self.output_dim = output_dim\n",
    "\n",
    "class FeatureGroupingModel(PreTrainedModel):\n",
    "    config_class = FeatureGroupingConfig\n",
    "\n",
    "    def __init__(self, config):\n",
    "        super().__init__(config)\n",
    "        self.model = FeatureGrouping(\n",
    "            num_features=config.num_features, \n",
    "            output_dim=config.output_dim\n",
    "        )\n",
    "\n",
    "    def forward(self, input_ids, labels=None):\n",
    "        output = self.model(input_ids)\n",
    "\n",
    "        loss = None\n",
    "        if labels is not None:\n",
    "            loss = F.mse_loss(output, labels)  # Mean Squared Error for regression\n",
    "\n",
    "        return {\"loss\": loss, \"logits\": output} if loss is not None else {\"logits\": output}"
   ]
  },
  {
   "cell_type": "code",
   "execution_count": 22,
   "id": "e72cfe98",
   "metadata": {
    "execution": {
     "iopub.execute_input": "2025-02-15T08:53:05.273161Z",
     "iopub.status.busy": "2025-02-15T08:53:05.272644Z",
     "iopub.status.idle": "2025-02-15T08:53:06.441946Z",
     "shell.execute_reply": "2025-02-15T08:53:06.441245Z"
    },
    "papermill": {
     "duration": 1.17805,
     "end_time": "2025-02-15T08:53:06.443487",
     "exception": false,
     "start_time": "2025-02-15T08:53:05.265437",
     "status": "completed"
    },
    "tags": []
   },
   "outputs": [],
   "source": [
    "import evaluate\n",
    "\n",
    "def compute_metrics(eval_pred):\n",
    "    predictions, labels = eval_pred\n",
    "    predictions = np.array(predictions)\n",
    "    labels = np.array(labels)\n",
    "\n",
    "    mse_per_feature = ((predictions - labels) ** 2).mean(axis=0)  # (15,)\n",
    "    mse_mean = mse_per_feature.mean()  # Overall MSE\n",
    "\n",
    "    print(f\"\\n📢 Epoch MSE: {mse_mean:.4f}\")  # Print MSE for each epoch\n",
    "\n",
    "    return {\"mse_mean\": mse_mean}"
   ]
  },
  {
   "cell_type": "code",
   "execution_count": 23,
   "id": "14f1e8d4",
   "metadata": {
    "execution": {
     "iopub.execute_input": "2025-02-15T08:53:06.458325Z",
     "iopub.status.busy": "2025-02-15T08:53:06.457765Z",
     "iopub.status.idle": "2025-02-15T08:53:06.467596Z",
     "shell.execute_reply": "2025-02-15T08:53:06.467043Z"
    },
    "papermill": {
     "duration": 0.018172,
     "end_time": "2025-02-15T08:53:06.468705",
     "exception": false,
     "start_time": "2025-02-15T08:53:06.450533",
     "status": "completed"
    },
    "tags": []
   },
   "outputs": [],
   "source": [
    "from transformers import TrainerCallback\n",
    "\n",
    "class LossLoggerCallback(TrainerCallback):\n",
    "    def on_log(self, args, state, control, logs=None, **kwargs):\n",
    "        if logs and \"loss\" in logs:\n",
    "            print(f\"📢 Epoch {state.epoch:.0f}: Train Loss = {logs['loss']:.4f}\")"
   ]
  },
  {
   "cell_type": "code",
   "execution_count": 24,
   "id": "61d57c3c",
   "metadata": {
    "execution": {
     "iopub.execute_input": "2025-02-15T08:53:06.482582Z",
     "iopub.status.busy": "2025-02-15T08:53:06.482343Z",
     "iopub.status.idle": "2025-02-15T09:14:03.153462Z",
     "shell.execute_reply": "2025-02-15T09:14:03.152702Z"
    },
    "papermill": {
     "duration": 1256.67942,
     "end_time": "2025-02-15T09:14:03.154870",
     "exception": false,
     "start_time": "2025-02-15T08:53:06.475450",
     "status": "completed"
    },
    "scrolled": true,
    "tags": []
   },
   "outputs": [
    {
     "name": "stderr",
     "output_type": "stream",
     "text": [
      "/usr/local/lib/python3.10/dist-packages/torch/nn/parallel/_functions.py:71: UserWarning: Was asked to gather along dimension 0, but all input tensors were scalars; will instead unsqueeze and return a vector.\n",
      "  warnings.warn(\n"
     ]
    },
    {
     "data": {
      "text/html": [
       "\n",
       "    <div>\n",
       "      \n",
       "      <progress value='720' max='720' style='width:300px; height:20px; vertical-align: middle;'></progress>\n",
       "      [720/720 20:46, Epoch 30/30]\n",
       "    </div>\n",
       "    <table border=\"1\" class=\"dataframe\">\n",
       "  <thead>\n",
       " <tr style=\"text-align: left;\">\n",
       "      <th>Epoch</th>\n",
       "      <th>Training Loss</th>\n",
       "      <th>Validation Loss</th>\n",
       "    </tr>\n",
       "  </thead>\n",
       "  <tbody>\n",
       "    <tr>\n",
       "      <td>1</td>\n",
       "      <td>0.103400</td>\n",
       "      <td>0.100417</td>\n",
       "    </tr>\n",
       "    <tr>\n",
       "      <td>2</td>\n",
       "      <td>0.083700</td>\n",
       "      <td>0.097581</td>\n",
       "    </tr>\n",
       "    <tr>\n",
       "      <td>3</td>\n",
       "      <td>0.066400</td>\n",
       "      <td>0.076386</td>\n",
       "    </tr>\n",
       "    <tr>\n",
       "      <td>4</td>\n",
       "      <td>0.052700</td>\n",
       "      <td>0.066125</td>\n",
       "    </tr>\n",
       "    <tr>\n",
       "      <td>5</td>\n",
       "      <td>0.042200</td>\n",
       "      <td>0.039329</td>\n",
       "    </tr>\n",
       "    <tr>\n",
       "      <td>6</td>\n",
       "      <td>0.034000</td>\n",
       "      <td>0.029441</td>\n",
       "    </tr>\n",
       "    <tr>\n",
       "      <td>7</td>\n",
       "      <td>0.029000</td>\n",
       "      <td>0.026553</td>\n",
       "    </tr>\n",
       "    <tr>\n",
       "      <td>8</td>\n",
       "      <td>0.025600</td>\n",
       "      <td>0.024720</td>\n",
       "    </tr>\n",
       "    <tr>\n",
       "      <td>9</td>\n",
       "      <td>0.023100</td>\n",
       "      <td>0.021532</td>\n",
       "    </tr>\n",
       "    <tr>\n",
       "      <td>10</td>\n",
       "      <td>0.021900</td>\n",
       "      <td>0.020360</td>\n",
       "    </tr>\n",
       "    <tr>\n",
       "      <td>11</td>\n",
       "      <td>0.021100</td>\n",
       "      <td>0.019771</td>\n",
       "    </tr>\n",
       "    <tr>\n",
       "      <td>12</td>\n",
       "      <td>0.020600</td>\n",
       "      <td>0.019360</td>\n",
       "    </tr>\n",
       "    <tr>\n",
       "      <td>13</td>\n",
       "      <td>0.020000</td>\n",
       "      <td>0.019516</td>\n",
       "    </tr>\n",
       "    <tr>\n",
       "      <td>14</td>\n",
       "      <td>0.019800</td>\n",
       "      <td>0.018816</td>\n",
       "    </tr>\n",
       "    <tr>\n",
       "      <td>15</td>\n",
       "      <td>0.019600</td>\n",
       "      <td>0.018758</td>\n",
       "    </tr>\n",
       "    <tr>\n",
       "      <td>16</td>\n",
       "      <td>0.019400</td>\n",
       "      <td>0.018435</td>\n",
       "    </tr>\n",
       "    <tr>\n",
       "      <td>17</td>\n",
       "      <td>0.019300</td>\n",
       "      <td>0.018432</td>\n",
       "    </tr>\n",
       "    <tr>\n",
       "      <td>18</td>\n",
       "      <td>0.019300</td>\n",
       "      <td>0.018364</td>\n",
       "    </tr>\n",
       "    <tr>\n",
       "      <td>19</td>\n",
       "      <td>0.019100</td>\n",
       "      <td>0.018267</td>\n",
       "    </tr>\n",
       "    <tr>\n",
       "      <td>20</td>\n",
       "      <td>0.019100</td>\n",
       "      <td>0.018152</td>\n",
       "    </tr>\n",
       "    <tr>\n",
       "      <td>21</td>\n",
       "      <td>0.019000</td>\n",
       "      <td>0.018258</td>\n",
       "    </tr>\n",
       "    <tr>\n",
       "      <td>22</td>\n",
       "      <td>0.018900</td>\n",
       "      <td>0.018146</td>\n",
       "    </tr>\n",
       "    <tr>\n",
       "      <td>23</td>\n",
       "      <td>0.018900</td>\n",
       "      <td>0.018024</td>\n",
       "    </tr>\n",
       "    <tr>\n",
       "      <td>24</td>\n",
       "      <td>0.018800</td>\n",
       "      <td>0.018262</td>\n",
       "    </tr>\n",
       "    <tr>\n",
       "      <td>25</td>\n",
       "      <td>0.018700</td>\n",
       "      <td>0.018045</td>\n",
       "    </tr>\n",
       "    <tr>\n",
       "      <td>26</td>\n",
       "      <td>0.018900</td>\n",
       "      <td>0.018024</td>\n",
       "    </tr>\n",
       "    <tr>\n",
       "      <td>27</td>\n",
       "      <td>0.018800</td>\n",
       "      <td>0.017910</td>\n",
       "    </tr>\n",
       "    <tr>\n",
       "      <td>28</td>\n",
       "      <td>0.018800</td>\n",
       "      <td>0.017984</td>\n",
       "    </tr>\n",
       "    <tr>\n",
       "      <td>29</td>\n",
       "      <td>0.018700</td>\n",
       "      <td>0.017976</td>\n",
       "    </tr>\n",
       "    <tr>\n",
       "      <td>30</td>\n",
       "      <td>0.018800</td>\n",
       "      <td>0.018031</td>\n",
       "    </tr>\n",
       "  </tbody>\n",
       "</table><p>"
      ],
      "text/plain": [
       "<IPython.core.display.HTML object>"
      ]
     },
     "metadata": {},
     "output_type": "display_data"
    },
    {
     "name": "stderr",
     "output_type": "stream",
     "text": [
      "/usr/local/lib/python3.10/dist-packages/torch/nn/parallel/_functions.py:71: UserWarning: Was asked to gather along dimension 0, but all input tensors were scalars; will instead unsqueeze and return a vector.\n",
      "  warnings.warn(\n",
      "/usr/local/lib/python3.10/dist-packages/torch/nn/parallel/_functions.py:71: UserWarning: Was asked to gather along dimension 0, but all input tensors were scalars; will instead unsqueeze and return a vector.\n",
      "  warnings.warn(\n",
      "/usr/local/lib/python3.10/dist-packages/torch/nn/parallel/_functions.py:71: UserWarning: Was asked to gather along dimension 0, but all input tensors were scalars; will instead unsqueeze and return a vector.\n",
      "  warnings.warn(\n",
      "/usr/local/lib/python3.10/dist-packages/torch/nn/parallel/_functions.py:71: UserWarning: Was asked to gather along dimension 0, but all input tensors were scalars; will instead unsqueeze and return a vector.\n",
      "  warnings.warn(\n",
      "/usr/local/lib/python3.10/dist-packages/torch/nn/parallel/_functions.py:71: UserWarning: Was asked to gather along dimension 0, but all input tensors were scalars; will instead unsqueeze and return a vector.\n",
      "  warnings.warn(\n",
      "/usr/local/lib/python3.10/dist-packages/torch/nn/parallel/_functions.py:71: UserWarning: Was asked to gather along dimension 0, but all input tensors were scalars; will instead unsqueeze and return a vector.\n",
      "  warnings.warn(\n",
      "/usr/local/lib/python3.10/dist-packages/torch/nn/parallel/_functions.py:71: UserWarning: Was asked to gather along dimension 0, but all input tensors were scalars; will instead unsqueeze and return a vector.\n",
      "  warnings.warn(\n",
      "/usr/local/lib/python3.10/dist-packages/torch/nn/parallel/_functions.py:71: UserWarning: Was asked to gather along dimension 0, but all input tensors were scalars; will instead unsqueeze and return a vector.\n",
      "  warnings.warn(\n",
      "/usr/local/lib/python3.10/dist-packages/torch/nn/parallel/_functions.py:71: UserWarning: Was asked to gather along dimension 0, but all input tensors were scalars; will instead unsqueeze and return a vector.\n",
      "  warnings.warn(\n",
      "/usr/local/lib/python3.10/dist-packages/torch/nn/parallel/_functions.py:71: UserWarning: Was asked to gather along dimension 0, but all input tensors were scalars; will instead unsqueeze and return a vector.\n",
      "  warnings.warn(\n",
      "/usr/local/lib/python3.10/dist-packages/torch/nn/parallel/_functions.py:71: UserWarning: Was asked to gather along dimension 0, but all input tensors were scalars; will instead unsqueeze and return a vector.\n",
      "  warnings.warn(\n",
      "/usr/local/lib/python3.10/dist-packages/torch/nn/parallel/_functions.py:71: UserWarning: Was asked to gather along dimension 0, but all input tensors were scalars; will instead unsqueeze and return a vector.\n",
      "  warnings.warn(\n",
      "/usr/local/lib/python3.10/dist-packages/torch/nn/parallel/_functions.py:71: UserWarning: Was asked to gather along dimension 0, but all input tensors were scalars; will instead unsqueeze and return a vector.\n",
      "  warnings.warn(\n",
      "/usr/local/lib/python3.10/dist-packages/torch/nn/parallel/_functions.py:71: UserWarning: Was asked to gather along dimension 0, but all input tensors were scalars; will instead unsqueeze and return a vector.\n",
      "  warnings.warn(\n",
      "/usr/local/lib/python3.10/dist-packages/torch/nn/parallel/_functions.py:71: UserWarning: Was asked to gather along dimension 0, but all input tensors were scalars; will instead unsqueeze and return a vector.\n",
      "  warnings.warn(\n",
      "/usr/local/lib/python3.10/dist-packages/torch/nn/parallel/_functions.py:71: UserWarning: Was asked to gather along dimension 0, but all input tensors were scalars; will instead unsqueeze and return a vector.\n",
      "  warnings.warn(\n",
      "/usr/local/lib/python3.10/dist-packages/torch/nn/parallel/_functions.py:71: UserWarning: Was asked to gather along dimension 0, but all input tensors were scalars; will instead unsqueeze and return a vector.\n",
      "  warnings.warn(\n",
      "/usr/local/lib/python3.10/dist-packages/torch/nn/parallel/_functions.py:71: UserWarning: Was asked to gather along dimension 0, but all input tensors were scalars; will instead unsqueeze and return a vector.\n",
      "  warnings.warn(\n",
      "/usr/local/lib/python3.10/dist-packages/torch/nn/parallel/_functions.py:71: UserWarning: Was asked to gather along dimension 0, but all input tensors were scalars; will instead unsqueeze and return a vector.\n",
      "  warnings.warn(\n",
      "/usr/local/lib/python3.10/dist-packages/torch/nn/parallel/_functions.py:71: UserWarning: Was asked to gather along dimension 0, but all input tensors were scalars; will instead unsqueeze and return a vector.\n",
      "  warnings.warn(\n",
      "/usr/local/lib/python3.10/dist-packages/torch/nn/parallel/_functions.py:71: UserWarning: Was asked to gather along dimension 0, but all input tensors were scalars; will instead unsqueeze and return a vector.\n",
      "  warnings.warn(\n",
      "/usr/local/lib/python3.10/dist-packages/torch/nn/parallel/_functions.py:71: UserWarning: Was asked to gather along dimension 0, but all input tensors were scalars; will instead unsqueeze and return a vector.\n",
      "  warnings.warn(\n",
      "/usr/local/lib/python3.10/dist-packages/torch/nn/parallel/_functions.py:71: UserWarning: Was asked to gather along dimension 0, but all input tensors were scalars; will instead unsqueeze and return a vector.\n",
      "  warnings.warn(\n",
      "/usr/local/lib/python3.10/dist-packages/torch/nn/parallel/_functions.py:71: UserWarning: Was asked to gather along dimension 0, but all input tensors were scalars; will instead unsqueeze and return a vector.\n",
      "  warnings.warn(\n",
      "/usr/local/lib/python3.10/dist-packages/torch/nn/parallel/_functions.py:71: UserWarning: Was asked to gather along dimension 0, but all input tensors were scalars; will instead unsqueeze and return a vector.\n",
      "  warnings.warn(\n",
      "/usr/local/lib/python3.10/dist-packages/torch/nn/parallel/_functions.py:71: UserWarning: Was asked to gather along dimension 0, but all input tensors were scalars; will instead unsqueeze and return a vector.\n",
      "  warnings.warn(\n",
      "/usr/local/lib/python3.10/dist-packages/torch/nn/parallel/_functions.py:71: UserWarning: Was asked to gather along dimension 0, but all input tensors were scalars; will instead unsqueeze and return a vector.\n",
      "  warnings.warn(\n",
      "/usr/local/lib/python3.10/dist-packages/torch/nn/parallel/_functions.py:71: UserWarning: Was asked to gather along dimension 0, but all input tensors were scalars; will instead unsqueeze and return a vector.\n",
      "  warnings.warn(\n",
      "/usr/local/lib/python3.10/dist-packages/torch/nn/parallel/_functions.py:71: UserWarning: Was asked to gather along dimension 0, but all input tensors were scalars; will instead unsqueeze and return a vector.\n",
      "  warnings.warn(\n",
      "/usr/local/lib/python3.10/dist-packages/torch/nn/parallel/_functions.py:71: UserWarning: Was asked to gather along dimension 0, but all input tensors were scalars; will instead unsqueeze and return a vector.\n",
      "  warnings.warn(\n",
      "No files have been modified since last commit. Skipping to prevent empty commit.\n"
     ]
    },
    {
     "data": {
      "text/plain": [
       "CommitInfo(commit_url='https://huggingface.co/KanWasTaken/WhartonDS_RegressionModel/commit/1638fa18db0531ce7b55c4961dee1dc8c87433b1', commit_message='KanWasTaken/WhartonDS_RegressionModel', commit_description='', oid='1638fa18db0531ce7b55c4961dee1dc8c87433b1', pr_url=None, repo_url=RepoUrl('https://huggingface.co/KanWasTaken/WhartonDS_RegressionModel', endpoint='https://huggingface.co', repo_type='model', repo_id='KanWasTaken/WhartonDS_RegressionModel'), pr_revision=None, pr_num=None)"
      ]
     },
     "execution_count": 24,
     "metadata": {},
     "output_type": "execute_result"
    }
   ],
   "source": [
    "from transformers import Trainer, TrainingArguments\n",
    "\n",
    "training_args = TrainingArguments(\n",
    "    output_dir=\"./WhartonDS_RegressionModel\",\n",
    "    learning_rate = 1e-5,\n",
    "    eval_strategy=\"epoch\",  # Evaluate at each epoch\n",
    "    save_strategy=\"epoch\",\n",
    "    logging_strategy=\"epoch\",  # Log every epoch\n",
    "    logging_dir=\"./logs\",\n",
    "    logging_steps=1,  # Log at every step\n",
    "    per_device_train_batch_size=128,\n",
    "    per_device_eval_batch_size=32,\n",
    "    num_train_epochs=30,\n",
    "    weight_decay=0.01,\n",
    "    report_to=\"none\",\n",
    "    push_to_hub=True,\n",
    "    optim = 'adamw_torch'\n",
    ")\n",
    "\n",
    "# Initialize Model\n",
    "model = FeatureGroupingModel(FeatureGroupingConfig())\n",
    "\n",
    "trainer = Trainer(\n",
    "    model=model.to(device),\n",
    "    args=training_args,\n",
    "    train_dataset=train_set,\n",
    "    eval_dataset=val_set\n",
    "    #callbacks=[LossLoggerCallback()]  # Add the callback here\n",
    ")\n",
    "\n",
    "# Train the Model\n",
    "trainer.train()\n",
    "\n",
    "# Save Model\n",
    "trainer.save_model(\"./WhartonDS_RegressionModel\")\n",
    "\n",
    "# Save Model to Hugging Face Hub\n",
    "trainer.push_to_hub(\"KanWasTaken/WhartonDS_RegressionModel\")"
   ]
  },
  {
   "cell_type": "markdown",
   "id": "ca52a26c",
   "metadata": {
    "papermill": {
     "duration": 0.008118,
     "end_time": "2025-02-15T09:14:03.171342",
     "exception": false,
     "start_time": "2025-02-15T09:14:03.163224",
     "status": "completed"
    },
    "tags": []
   },
   "source": [
    "# **Test**"
   ]
  }
 ],
 "metadata": {
  "kaggle": {
   "accelerator": "nvidiaTeslaT4",
   "dataSources": [
    {
     "datasetId": 6633633,
     "sourceId": 10703903,
     "sourceType": "datasetVersion"
    }
   ],
   "dockerImageVersionId": 30886,
   "isGpuEnabled": true,
   "isInternetEnabled": true,
   "language": "python",
   "sourceType": "notebook"
  },
  "kernelspec": {
   "display_name": "Python 3",
   "language": "python",
   "name": "python3"
  },
  "language_info": {
   "codemirror_mode": {
    "name": "ipython",
    "version": 3
   },
   "file_extension": ".py",
   "mimetype": "text/x-python",
   "name": "python",
   "nbconvert_exporter": "python",
   "pygments_lexer": "ipython3",
   "version": "3.10.12"
  },
  "papermill": {
   "default_parameters": {},
   "duration": 1312.260585,
   "end_time": "2025-02-15T09:14:06.619437",
   "environment_variables": {},
   "exception": null,
   "input_path": "__notebook__.ipynb",
   "output_path": "__notebook__.ipynb",
   "parameters": {},
   "start_time": "2025-02-15T08:52:14.358852",
   "version": "2.6.0"
  },
  "widgets": {
   "application/vnd.jupyter.widget-state+json": {
    "state": {
     "1039a7452c8748d1bbb2762794bd7713": {
      "model_module": "@jupyter-widgets/base",
      "model_module_version": "2.0.0",
      "model_name": "LayoutModel",
      "state": {
       "_model_module": "@jupyter-widgets/base",
       "_model_module_version": "2.0.0",
       "_model_name": "LayoutModel",
       "_view_count": null,
       "_view_module": "@jupyter-widgets/base",
       "_view_module_version": "2.0.0",
       "_view_name": "LayoutView",
       "align_content": null,
       "align_items": null,
       "align_self": null,
       "border_bottom": null,
       "border_left": null,
       "border_right": null,
       "border_top": null,
       "bottom": null,
       "display": null,
       "flex": null,
       "flex_flow": null,
       "grid_area": null,
       "grid_auto_columns": null,
       "grid_auto_flow": null,
       "grid_auto_rows": null,
       "grid_column": null,
       "grid_gap": null,
       "grid_row": null,
       "grid_template_areas": null,
       "grid_template_columns": null,
       "grid_template_rows": null,
       "height": null,
       "justify_content": null,
       "justify_items": null,
       "left": null,
       "margin": null,
       "max_height": null,
       "max_width": null,
       "min_height": null,
       "min_width": null,
       "object_fit": null,
       "object_position": null,
       "order": null,
       "overflow": null,
       "padding": null,
       "right": null,
       "top": null,
       "visibility": null,
       "width": "20px"
      }
     },
     "23e95f1e354c495bbcc051aa13188e80": {
      "model_module": "@jupyter-widgets/controls",
      "model_module_version": "2.0.0",
      "model_name": "FloatProgressModel",
      "state": {
       "_dom_classes": [],
       "_model_module": "@jupyter-widgets/controls",
       "_model_module_version": "2.0.0",
       "_model_name": "FloatProgressModel",
       "_view_count": null,
       "_view_module": "@jupyter-widgets/controls",
       "_view_module_version": "2.0.0",
       "_view_name": "ProgressView",
       "bar_style": "success",
       "description": "",
       "description_allow_html": false,
       "layout": "IPY_MODEL_7d5e25244c5e4f25b884daa141c21d24",
       "max": 102469840.0,
       "min": 0.0,
       "orientation": "horizontal",
       "style": "IPY_MODEL_df41585da9414a4ba4ba9171543ad7f5",
       "tabbable": null,
       "tooltip": null,
       "value": 102469840.0
      }
     },
     "24b5b408085f4892ae70f1475597fe4c": {
      "model_module": "@jupyter-widgets/controls",
      "model_module_version": "2.0.0",
      "model_name": "FloatProgressModel",
      "state": {
       "_dom_classes": [],
       "_model_module": "@jupyter-widgets/controls",
       "_model_module_version": "2.0.0",
       "_model_name": "FloatProgressModel",
       "_view_count": null,
       "_view_module": "@jupyter-widgets/controls",
       "_view_module_version": "2.0.0",
       "_view_name": "ProgressView",
       "bar_style": "success",
       "description": "",
       "description_allow_html": false,
       "layout": "IPY_MODEL_1039a7452c8748d1bbb2762794bd7713",
       "max": 1.0,
       "min": 0.0,
       "orientation": "horizontal",
       "style": "IPY_MODEL_5b6985322446430e95bb08024a889fa9",
       "tabbable": null,
       "tooltip": null,
       "value": 0.0
      }
     },
     "36b87d3c227c40dea07c6998eb73a3c1": {
      "model_module": "@jupyter-widgets/base",
      "model_module_version": "2.0.0",
      "model_name": "LayoutModel",
      "state": {
       "_model_module": "@jupyter-widgets/base",
       "_model_module_version": "2.0.0",
       "_model_name": "LayoutModel",
       "_view_count": null,
       "_view_module": "@jupyter-widgets/base",
       "_view_module_version": "2.0.0",
       "_view_name": "LayoutView",
       "align_content": null,
       "align_items": null,
       "align_self": null,
       "border_bottom": null,
       "border_left": null,
       "border_right": null,
       "border_top": null,
       "bottom": null,
       "display": null,
       "flex": null,
       "flex_flow": null,
       "grid_area": null,
       "grid_auto_columns": null,
       "grid_auto_flow": null,
       "grid_auto_rows": null,
       "grid_column": null,
       "grid_gap": null,
       "grid_row": null,
       "grid_template_areas": null,
       "grid_template_columns": null,
       "grid_template_rows": null,
       "height": null,
       "justify_content": null,
       "justify_items": null,
       "left": null,
       "margin": null,
       "max_height": null,
       "max_width": null,
       "min_height": null,
       "min_width": null,
       "object_fit": null,
       "object_position": null,
       "order": null,
       "overflow": null,
       "padding": null,
       "right": null,
       "top": null,
       "visibility": null,
       "width": null
      }
     },
     "3a8af8a9cff34c8ca3eecc2eacad8072": {
      "model_module": "@jupyter-widgets/base",
      "model_module_version": "2.0.0",
      "model_name": "LayoutModel",
      "state": {
       "_model_module": "@jupyter-widgets/base",
       "_model_module_version": "2.0.0",
       "_model_name": "LayoutModel",
       "_view_count": null,
       "_view_module": "@jupyter-widgets/base",
       "_view_module_version": "2.0.0",
       "_view_name": "LayoutView",
       "align_content": null,
       "align_items": null,
       "align_self": null,
       "border_bottom": null,
       "border_left": null,
       "border_right": null,
       "border_top": null,
       "bottom": null,
       "display": null,
       "flex": null,
       "flex_flow": null,
       "grid_area": null,
       "grid_auto_columns": null,
       "grid_auto_flow": null,
       "grid_auto_rows": null,
       "grid_column": null,
       "grid_gap": null,
       "grid_row": null,
       "grid_template_areas": null,
       "grid_template_columns": null,
       "grid_template_rows": null,
       "height": null,
       "justify_content": null,
       "justify_items": null,
       "left": null,
       "margin": null,
       "max_height": null,
       "max_width": null,
       "min_height": null,
       "min_width": null,
       "object_fit": null,
       "object_position": null,
       "order": null,
       "overflow": null,
       "padding": null,
       "right": null,
       "top": null,
       "visibility": null,
       "width": null
      }
     },
     "4a41dd7842e04c779b0b72fc8e2079c8": {
      "model_module": "@jupyter-widgets/controls",
      "model_module_version": "2.0.0",
      "model_name": "HBoxModel",
      "state": {
       "_dom_classes": [],
       "_model_module": "@jupyter-widgets/controls",
       "_model_module_version": "2.0.0",
       "_model_name": "HBoxModel",
       "_view_count": null,
       "_view_module": "@jupyter-widgets/controls",
       "_view_module_version": "2.0.0",
       "_view_name": "HBoxView",
       "box_style": "",
       "children": [
        "IPY_MODEL_731c78010bf44cd192f977540ade2086",
        "IPY_MODEL_24b5b408085f4892ae70f1475597fe4c",
        "IPY_MODEL_a516e79aae3249d0a77646b651442551"
       ],
       "layout": "IPY_MODEL_edf686030f084b49a416b0814a80bb0b",
       "tabbable": null,
       "tooltip": null
      }
     },
     "59940337e413429cb10ec04f10bef1d5": {
      "model_module": "@jupyter-widgets/controls",
      "model_module_version": "2.0.0",
      "model_name": "HTMLModel",
      "state": {
       "_dom_classes": [],
       "_model_module": "@jupyter-widgets/controls",
       "_model_module_version": "2.0.0",
       "_model_name": "HTMLModel",
       "_view_count": null,
       "_view_module": "@jupyter-widgets/controls",
       "_view_module_version": "2.0.0",
       "_view_name": "HTMLView",
       "description": "",
       "description_allow_html": false,
       "layout": "IPY_MODEL_36b87d3c227c40dea07c6998eb73a3c1",
       "placeholder": "​",
       "style": "IPY_MODEL_9284930d28bc417fb975febde422b9c2",
       "tabbable": null,
       "tooltip": null,
       "value": " 102M/102M [00:00&lt;00:00, 218MB/s]"
      }
     },
     "5b6985322446430e95bb08024a889fa9": {
      "model_module": "@jupyter-widgets/controls",
      "model_module_version": "2.0.0",
      "model_name": "ProgressStyleModel",
      "state": {
       "_model_module": "@jupyter-widgets/controls",
       "_model_module_version": "2.0.0",
       "_model_name": "ProgressStyleModel",
       "_view_count": null,
       "_view_module": "@jupyter-widgets/base",
       "_view_module_version": "2.0.0",
       "_view_name": "StyleView",
       "bar_color": null,
       "description_width": ""
      }
     },
     "66e7aa0c5d4d4ad6b9baf26ca33f4e56": {
      "model_module": "@jupyter-widgets/controls",
      "model_module_version": "2.0.0",
      "model_name": "HTMLStyleModel",
      "state": {
       "_model_module": "@jupyter-widgets/controls",
       "_model_module_version": "2.0.0",
       "_model_name": "HTMLStyleModel",
       "_view_count": null,
       "_view_module": "@jupyter-widgets/base",
       "_view_module_version": "2.0.0",
       "_view_name": "StyleView",
       "background": null,
       "description_width": "",
       "font_size": null,
       "text_color": null
      }
     },
     "731c78010bf44cd192f977540ade2086": {
      "model_module": "@jupyter-widgets/controls",
      "model_module_version": "2.0.0",
      "model_name": "HTMLModel",
      "state": {
       "_dom_classes": [],
       "_model_module": "@jupyter-widgets/controls",
       "_model_module_version": "2.0.0",
       "_model_name": "HTMLModel",
       "_view_count": null,
       "_view_module": "@jupyter-widgets/controls",
       "_view_module_version": "2.0.0",
       "_view_name": "HTMLView",
       "description": "",
       "description_allow_html": false,
       "layout": "IPY_MODEL_e2744a378a44480abebafc4842814134",
       "placeholder": "​",
       "style": "IPY_MODEL_66e7aa0c5d4d4ad6b9baf26ca33f4e56",
       "tabbable": null,
       "tooltip": null,
       "value": ""
      }
     },
     "7d5e25244c5e4f25b884daa141c21d24": {
      "model_module": "@jupyter-widgets/base",
      "model_module_version": "2.0.0",
      "model_name": "LayoutModel",
      "state": {
       "_model_module": "@jupyter-widgets/base",
       "_model_module_version": "2.0.0",
       "_model_name": "LayoutModel",
       "_view_count": null,
       "_view_module": "@jupyter-widgets/base",
       "_view_module_version": "2.0.0",
       "_view_name": "LayoutView",
       "align_content": null,
       "align_items": null,
       "align_self": null,
       "border_bottom": null,
       "border_left": null,
       "border_right": null,
       "border_top": null,
       "bottom": null,
       "display": null,
       "flex": null,
       "flex_flow": null,
       "grid_area": null,
       "grid_auto_columns": null,
       "grid_auto_flow": null,
       "grid_auto_rows": null,
       "grid_column": null,
       "grid_gap": null,
       "grid_row": null,
       "grid_template_areas": null,
       "grid_template_columns": null,
       "grid_template_rows": null,
       "height": null,
       "justify_content": null,
       "justify_items": null,
       "left": null,
       "margin": null,
       "max_height": null,
       "max_width": null,
       "min_height": null,
       "min_width": null,
       "object_fit": null,
       "object_position": null,
       "order": null,
       "overflow": null,
       "padding": null,
       "right": null,
       "top": null,
       "visibility": null,
       "width": null
      }
     },
     "84978dfdb39b41f1993e1c32ab229b21": {
      "model_module": "@jupyter-widgets/controls",
      "model_module_version": "2.0.0",
      "model_name": "HTMLStyleModel",
      "state": {
       "_model_module": "@jupyter-widgets/controls",
       "_model_module_version": "2.0.0",
       "_model_name": "HTMLStyleModel",
       "_view_count": null,
       "_view_module": "@jupyter-widgets/base",
       "_view_module_version": "2.0.0",
       "_view_name": "StyleView",
       "background": null,
       "description_width": "",
       "font_size": null,
       "text_color": null
      }
     },
     "9284930d28bc417fb975febde422b9c2": {
      "model_module": "@jupyter-widgets/controls",
      "model_module_version": "2.0.0",
      "model_name": "HTMLStyleModel",
      "state": {
       "_model_module": "@jupyter-widgets/controls",
       "_model_module_version": "2.0.0",
       "_model_name": "HTMLStyleModel",
       "_view_count": null,
       "_view_module": "@jupyter-widgets/base",
       "_view_module_version": "2.0.0",
       "_view_name": "StyleView",
       "background": null,
       "description_width": "",
       "font_size": null,
       "text_color": null
      }
     },
     "9a98940175154ad1bf01717a9985366a": {
      "model_module": "@jupyter-widgets/base",
      "model_module_version": "2.0.0",
      "model_name": "LayoutModel",
      "state": {
       "_model_module": "@jupyter-widgets/base",
       "_model_module_version": "2.0.0",
       "_model_name": "LayoutModel",
       "_view_count": null,
       "_view_module": "@jupyter-widgets/base",
       "_view_module_version": "2.0.0",
       "_view_name": "LayoutView",
       "align_content": null,
       "align_items": null,
       "align_self": null,
       "border_bottom": null,
       "border_left": null,
       "border_right": null,
       "border_top": null,
       "bottom": null,
       "display": null,
       "flex": null,
       "flex_flow": null,
       "grid_area": null,
       "grid_auto_columns": null,
       "grid_auto_flow": null,
       "grid_auto_rows": null,
       "grid_column": null,
       "grid_gap": null,
       "grid_row": null,
       "grid_template_areas": null,
       "grid_template_columns": null,
       "grid_template_rows": null,
       "height": null,
       "justify_content": null,
       "justify_items": null,
       "left": null,
       "margin": null,
       "max_height": null,
       "max_width": null,
       "min_height": null,
       "min_width": null,
       "object_fit": null,
       "object_position": null,
       "order": null,
       "overflow": null,
       "padding": null,
       "right": null,
       "top": null,
       "visibility": null,
       "width": null
      }
     },
     "a516e79aae3249d0a77646b651442551": {
      "model_module": "@jupyter-widgets/controls",
      "model_module_version": "2.0.0",
      "model_name": "HTMLModel",
      "state": {
       "_dom_classes": [],
       "_model_module": "@jupyter-widgets/controls",
       "_model_module_version": "2.0.0",
       "_model_name": "HTMLModel",
       "_view_count": null,
       "_view_module": "@jupyter-widgets/controls",
       "_view_module_version": "2.0.0",
       "_view_name": "HTMLView",
       "description": "",
       "description_allow_html": false,
       "layout": "IPY_MODEL_3a8af8a9cff34c8ca3eecc2eacad8072",
       "placeholder": "​",
       "style": "IPY_MODEL_84978dfdb39b41f1993e1c32ab229b21",
       "tabbable": null,
       "tooltip": null,
       "value": " 0/0 [00:00&lt;?, ?it/s]"
      }
     },
     "ab53ce8fe7094b92b2a9247e1c638fa3": {
      "model_module": "@jupyter-widgets/controls",
      "model_module_version": "2.0.0",
      "model_name": "HTMLStyleModel",
      "state": {
       "_model_module": "@jupyter-widgets/controls",
       "_model_module_version": "2.0.0",
       "_model_name": "HTMLStyleModel",
       "_view_count": null,
       "_view_module": "@jupyter-widgets/base",
       "_view_module_version": "2.0.0",
       "_view_name": "StyleView",
       "background": null,
       "description_width": "",
       "font_size": null,
       "text_color": null
      }
     },
     "c908832c071b47ba83d5ba70492364e1": {
      "model_module": "@jupyter-widgets/controls",
      "model_module_version": "2.0.0",
      "model_name": "HBoxModel",
      "state": {
       "_dom_classes": [],
       "_model_module": "@jupyter-widgets/controls",
       "_model_module_version": "2.0.0",
       "_model_name": "HBoxModel",
       "_view_count": null,
       "_view_module": "@jupyter-widgets/controls",
       "_view_module_version": "2.0.0",
       "_view_name": "HBoxView",
       "box_style": "",
       "children": [
        "IPY_MODEL_e9eae51f258e4dd48668aae352538c7e",
        "IPY_MODEL_23e95f1e354c495bbcc051aa13188e80",
        "IPY_MODEL_59940337e413429cb10ec04f10bef1d5"
       ],
       "layout": "IPY_MODEL_da53a611111d4a1780efc780d44f3125",
       "tabbable": null,
       "tooltip": null
      }
     },
     "da53a611111d4a1780efc780d44f3125": {
      "model_module": "@jupyter-widgets/base",
      "model_module_version": "2.0.0",
      "model_name": "LayoutModel",
      "state": {
       "_model_module": "@jupyter-widgets/base",
       "_model_module_version": "2.0.0",
       "_model_name": "LayoutModel",
       "_view_count": null,
       "_view_module": "@jupyter-widgets/base",
       "_view_module_version": "2.0.0",
       "_view_name": "LayoutView",
       "align_content": null,
       "align_items": null,
       "align_self": null,
       "border_bottom": null,
       "border_left": null,
       "border_right": null,
       "border_top": null,
       "bottom": null,
       "display": null,
       "flex": null,
       "flex_flow": null,
       "grid_area": null,
       "grid_auto_columns": null,
       "grid_auto_flow": null,
       "grid_auto_rows": null,
       "grid_column": null,
       "grid_gap": null,
       "grid_row": null,
       "grid_template_areas": null,
       "grid_template_columns": null,
       "grid_template_rows": null,
       "height": null,
       "justify_content": null,
       "justify_items": null,
       "left": null,
       "margin": null,
       "max_height": null,
       "max_width": null,
       "min_height": null,
       "min_width": null,
       "object_fit": null,
       "object_position": null,
       "order": null,
       "overflow": null,
       "padding": null,
       "right": null,
       "top": null,
       "visibility": null,
       "width": null
      }
     },
     "df41585da9414a4ba4ba9171543ad7f5": {
      "model_module": "@jupyter-widgets/controls",
      "model_module_version": "2.0.0",
      "model_name": "ProgressStyleModel",
      "state": {
       "_model_module": "@jupyter-widgets/controls",
       "_model_module_version": "2.0.0",
       "_model_name": "ProgressStyleModel",
       "_view_count": null,
       "_view_module": "@jupyter-widgets/base",
       "_view_module_version": "2.0.0",
       "_view_name": "StyleView",
       "bar_color": null,
       "description_width": ""
      }
     },
     "e2744a378a44480abebafc4842814134": {
      "model_module": "@jupyter-widgets/base",
      "model_module_version": "2.0.0",
      "model_name": "LayoutModel",
      "state": {
       "_model_module": "@jupyter-widgets/base",
       "_model_module_version": "2.0.0",
       "_model_name": "LayoutModel",
       "_view_count": null,
       "_view_module": "@jupyter-widgets/base",
       "_view_module_version": "2.0.0",
       "_view_name": "LayoutView",
       "align_content": null,
       "align_items": null,
       "align_self": null,
       "border_bottom": null,
       "border_left": null,
       "border_right": null,
       "border_top": null,
       "bottom": null,
       "display": null,
       "flex": null,
       "flex_flow": null,
       "grid_area": null,
       "grid_auto_columns": null,
       "grid_auto_flow": null,
       "grid_auto_rows": null,
       "grid_column": null,
       "grid_gap": null,
       "grid_row": null,
       "grid_template_areas": null,
       "grid_template_columns": null,
       "grid_template_rows": null,
       "height": null,
       "justify_content": null,
       "justify_items": null,
       "left": null,
       "margin": null,
       "max_height": null,
       "max_width": null,
       "min_height": null,
       "min_width": null,
       "object_fit": null,
       "object_position": null,
       "order": null,
       "overflow": null,
       "padding": null,
       "right": null,
       "top": null,
       "visibility": null,
       "width": null
      }
     },
     "e9eae51f258e4dd48668aae352538c7e": {
      "model_module": "@jupyter-widgets/controls",
      "model_module_version": "2.0.0",
      "model_name": "HTMLModel",
      "state": {
       "_dom_classes": [],
       "_model_module": "@jupyter-widgets/controls",
       "_model_module_version": "2.0.0",
       "_model_name": "HTMLModel",
       "_view_count": null,
       "_view_module": "@jupyter-widgets/controls",
       "_view_module_version": "2.0.0",
       "_view_name": "HTMLView",
       "description": "",
       "description_allow_html": false,
       "layout": "IPY_MODEL_9a98940175154ad1bf01717a9985366a",
       "placeholder": "​",
       "style": "IPY_MODEL_ab53ce8fe7094b92b2a9247e1c638fa3",
       "tabbable": null,
       "tooltip": null,
       "value": "model.safetensors: 100%"
      }
     },
     "edf686030f084b49a416b0814a80bb0b": {
      "model_module": "@jupyter-widgets/base",
      "model_module_version": "2.0.0",
      "model_name": "LayoutModel",
      "state": {
       "_model_module": "@jupyter-widgets/base",
       "_model_module_version": "2.0.0",
       "_model_name": "LayoutModel",
       "_view_count": null,
       "_view_module": "@jupyter-widgets/base",
       "_view_module_version": "2.0.0",
       "_view_name": "LayoutView",
       "align_content": null,
       "align_items": null,
       "align_self": null,
       "border_bottom": null,
       "border_left": null,
       "border_right": null,
       "border_top": null,
       "bottom": null,
       "display": null,
       "flex": null,
       "flex_flow": null,
       "grid_area": null,
       "grid_auto_columns": null,
       "grid_auto_flow": null,
       "grid_auto_rows": null,
       "grid_column": null,
       "grid_gap": null,
       "grid_row": null,
       "grid_template_areas": null,
       "grid_template_columns": null,
       "grid_template_rows": null,
       "height": null,
       "justify_content": null,
       "justify_items": null,
       "left": null,
       "margin": null,
       "max_height": null,
       "max_width": null,
       "min_height": null,
       "min_width": null,
       "object_fit": null,
       "object_position": null,
       "order": null,
       "overflow": null,
       "padding": null,
       "right": null,
       "top": null,
       "visibility": null,
       "width": null
      }
     }
    },
    "version_major": 2,
    "version_minor": 0
   }
  }
 },
 "nbformat": 4,
 "nbformat_minor": 5
}
